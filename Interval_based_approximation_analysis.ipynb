{
  "nbformat": 4,
  "nbformat_minor": 0,
  "metadata": {
    "colab": {
      "provenance": []
    },
    "kernelspec": {
      "name": "python3",
      "display_name": "Python 3"
    },
    "language_info": {
      "name": "python"
    }
  },
  "cells": [
    {
      "cell_type": "markdown",
      "source": [
        " # Interval-based approximation analysis"
      ],
      "metadata": {
        "id": "63IbhTqCu3CA"
      }
    },
    {
      "cell_type": "code",
      "metadata": {
        "colab": {
          "base_uri": "https://localhost:8080/"
        },
        "id": "D4UZ1TGvqDnf",
        "outputId": "6d810d2b-fdc6-4fa4-bf42-81919476aa77"
      },
      "source": [
        "pip install tenseal"
      ],
      "execution_count": null,
      "outputs": [
        {
          "output_type": "stream",
          "text": [
            "Requirement already satisfied: tenseal in /usr/local/lib/python3.7/dist-packages (0.3.4)\n"
          ],
          "name": "stdout"
        }
      ]
    },
    {
      "cell_type": "code",
      "metadata": {
        "id": "B6RK2sROqOoj"
      },
      "source": [
        "import tenseal as ts\n",
        "from time import time\n",
        "import torch\n",
        "from torchvision import transforms\n",
        "from random import randint\n",
        "import pickle\n",
        "from PIL import Image\n",
        "import numpy as np\n",
        "from matplotlib.pyplot import imshow\n",
        "import matplotlib.pyplot as plt\n",
        "from typing import Dict\n",
        "from numpy import linalg as LA\n",
        "from scipy.stats import chisquare"
      ],
      "execution_count": null,
      "outputs": []
    },
    {
      "cell_type": "markdown",
      "metadata": {
        "id": "NoIZHCr9qSES"
      },
      "source": [
        "#  CKKS Homomorphic scheme\n",
        "\n",
        "\n"
      ]
    },
    {
      "cell_type": "code",
      "metadata": {
        "colab": {
          "base_uri": "https://localhost:8080/"
        },
        "id": "R62QQqODqP9_",
        "outputId": "91420eec-aadb-499e-896e-73a5e0323b71"
      },
      "source": [
        "poly_mod_degree = 8192\n",
        "\n",
        "bits_scale = 26\n",
        "coeff_mod_bit_sizes = [31, bits_scale, bits_scale, bits_scale, bits_scale, bits_scale, bits_scale, 31]\n",
        "\n",
        "ctx = ts.context(ts.SCHEME_TYPE.CKKS, poly_mod_degree, -1, coeff_mod_bit_sizes)\n",
        "ctx.global_scale = 2 ** bits_scale\n",
        "ctx.generate_galois_keys()\n",
        "\n",
        "plain1 = ts.plain_tensor([1])\n",
        "plain2 = ts.plain_tensor([0.5])\n",
        "\n",
        "encrypted_tensor1 = ts.ckks_tensor(ctx, plain1)\n",
        "encrypted_tensor2 = ts.ckks_tensor(ctx, plain2)\n",
        "\n",
        "def decrypt(enc):\n",
        "    return enc.decrypt().tolist()\n",
        "\n",
        "result = encrypted_tensor1 - encrypted_tensor2\n",
        "print(\"Plain equivalent: {} + {}\\nDecrypted result: {}.\".format(plain1.tolist(), plain2.tolist(), decrypt(result)))\n",
        "\n",
        "result = encrypted_tensor1 * encrypted_tensor2\n",
        "print(\"Plain equivalent: {} * {}\\nDecrypted result: {}.\".format(plain1.tolist(), plain2.tolist(), decrypt(result)))"
      ],
      "execution_count": null,
      "outputs": [
        {
          "output_type": "stream",
          "text": [
            "Plain equivalent: [1.0] + [0.5]\n",
            "Decrypted result: [0.5000647198162118].\n",
            "Plain equivalent: [1.0] * [0.5]\n",
            "Decrypted result: [0.5004134691855496].\n"
          ],
          "name": "stdout"
        }
      ]
    },
    {
      "cell_type": "markdown",
      "metadata": {
        "id": "AEx_vex5sinC"
      },
      "source": [
        "#  Comparison function"
      ]
    },
    {
      "cell_type": "code",
      "metadata": {
        "id": "9mj9FX9Yrw_F"
      },
      "source": [
        "def sign(x):\n",
        "  if x > 0:\n",
        "    return 1\n",
        "  elif x < 0:\n",
        "    return -1\n",
        "  else:\n",
        "    return 0\n",
        "\n",
        "def comparison(enc_x):\n",
        "    return enc_x.polyval([0.5, 0.197, 0, -0.004])\n",
        "\n",
        "x = np.linspace(-1,1,1000)\n",
        "y_mil = np.sign(x)"
      ],
      "execution_count": null,
      "outputs": []
    },
    {
      "cell_type": "markdown",
      "metadata": {
        "id": "67YEKAOr15oJ"
      },
      "source": [
        "#  Least squares"
      ]
    },
    {
      "cell_type": "code",
      "metadata": {
        "colab": {
          "base_uri": "https://localhost:8080/",
          "height": 659
        },
        "id": "tnk265Qjx6mI",
        "outputId": "a54776dd-6882-4d52-c7a9-b314ccac8c22"
      },
      "source": [
        "print(\"Least squares\")\n",
        "fig = plt.figure()\n",
        "ax = fig.add_subplot(111)\n",
        "ax.plot(x, y_mil)\n",
        "\n",
        "t_end = 0\n",
        "t_start = 0\n",
        "suma_temp = 0\n",
        "for teh in range(30):\n",
        "  t_start = time()\n",
        "  p = np.polyfit(x, y_mil, 9)\n",
        "  t_end = time()\n",
        "  suma_temp = suma_temp + ((t_end - t_start)*1000)\n",
        "\n",
        "print(\"Polynomial generation (Average of 30 executions): {} ms\".format(suma_temp/30))\n",
        "print(\"Polynomial generation (only the last one): {} ms\".format((t_end - t_start) * 1000))\n",
        "\n",
        "ax = fig.add_subplot(111)\n",
        "poly = [np.polyval(p, i) for i in x]\n",
        "\n",
        "ax.plot(x, poly)\n",
        "\n",
        "p_test = np.poly1d(p)\n",
        "print(p_test)\n",
        "\n",
        "# Evaluation of the sign function over ciphertexts\n",
        "resta = encrypted_tensor1 - encrypted_tensor2\n",
        "\n",
        "suma_temp = 0\n",
        "t_end = 0\n",
        "t_start = 0\n",
        "\n",
        "for teh in range(30):\n",
        "  t_start = time()\n",
        "  evaluacion = resta.polyval(p_test)\n",
        "  t_end = time()\n",
        "  suma_temp = suma_temp + ((t_end - t_start)*1000)\n",
        "\n",
        "print(\"Polynomial evaluation (Average of 30 executions): {} ms\".format(suma_temp/30))\n",
        "print(\"Polynomial evaluation (only the last one): {} ms\".format((t_end - t_start) * 1000))\n",
        "\n",
        "print(decrypt(resta))\n",
        "print(decrypt(evaluacion))\n",
        "plt.show()\n",
        "\n",
        "## R Square measure\n",
        "correlation_matrix = np.corrcoef(y_mil, poly)\n",
        "correlation_xy = correlation_matrix[0,1]\n",
        "r_squared = correlation_xy**2\n",
        "print(\"r_squared: {}\".format(r_squared))\n",
        "\n",
        "## Norms\n",
        "vector = y_mil - poly\n",
        "k=0\n",
        "for jj in vector:\n",
        "  if jj < 0:\n",
        "    vector[k]=vector[k]*-1\n",
        "  k=k+1\n",
        "\n",
        "print(\"1- norm: {}\".format(LA.norm(vector, 1)))\n",
        "print(\"2- norm: {}\".format(LA.norm(vector, 2)))\n",
        "print(\"Infinity- norm: {}\".format(LA.norm(vector, np.inf)))\n",
        "print(\" \")\n",
        "##Relative norms\n",
        "relative_one = LA.norm(vector, 1)/LA.norm(y_mil, 1)\n",
        "print(\"1- norm: {}\".format(relative_one*100))\n",
        "relative_two = LA.norm(vector, 2)/LA.norm(y_mil, 2)\n",
        "print(\"2- norm: {}\".format(relative_two*100))\n",
        "relative_inf = LA.norm(vector, np.inf)/LA.norm(y_mil, np.inf)\n",
        "print(\"Infinity- norm: {}\".format(relative_inf*100))"
      ],
      "execution_count": null,
      "outputs": [
        {
          "output_type": "stream",
          "text": [
            "Least squares\n",
            "Polynomial generation (Average of 30 executions): 0.6136863377888998 ms\n",
            "Polynomial generation (only the last one): 0.5476474761962891 ms\n",
            "      9             8         7             6         5             4\n",
            "48.9 x - 6.103e-13 x - 119.4 x + 2.088e-13 x + 103.4 x - 1.838e-14 x\n",
            "          3             2\n",
            " - 38.38 x + 3.324e-13 x + 6.655 x - 7.72e-14\n"
          ],
          "name": "stdout"
        },
        {
          "output_type": "stream",
          "text": [
            "Polynomial evaluation (Average of 30 executions): 143.281699385325113 ms\n",
            "Polynomial evaluation (only the last one): 141.79251670837402 ms\n",
            "[0.5000647198162118]\n",
            "[0.8280097310521407]\n"
          ],
          "name": "stdout"
        },
        {
          "output_type": "display_data",
          "data": {
            "image/png": "[encoded data removed]",
            "text/plain": [
              "<Figure size 432x288 with 1 Axes>"
            ]
          },
          "metadata": {
            "tags": [],
            "needs_background": "light"
          }
        },
        {
          "output_type": "stream",
          "text": [
            "r_squared: 0.9394411972182359\n",
            "Chi_squared: 9.602985073797754e-12\n",
            " \n",
            "1- norm: 152.20077071671045\n",
            "2- norm: 7.781953660988003\n",
            "Infinity- norm: 0.9933380431438049\n",
            " \n",
            "1- norm: 15.220077071671046\n",
            "2- norm: 24.608698214607898\n",
            "Infinity- norm: 99.33380431438049\n"
          ],
          "name": "stdout"
        }
      ]
    },
    {
      "cell_type": "code",
      "metadata": {
        "colab": {
          "base_uri": "https://localhost:8080/",
          "height": 265
        },
        "id": "xqU-VpQ1r_aD",
        "outputId": "24bc141c-90c3-49ac-f50f-906981531971"
      },
      "source": [
        "#Least-squares: Analysis of approximation error for each component i\n",
        "fig = plt.figure()\n",
        "ax = fig.add_subplot(111)\n",
        "ax.plot(np.linspace(-1,1,1000), vector)\n",
        "\n",
        "intervals = np.arange(0, 0.51, 0.01)\n",
        "\n",
        "for epsilon in intervals:\n",
        "  epsilon_negative = -1 * epsilon\n",
        "  new_x = []\n",
        "\n",
        "  for x_i in x:\n",
        "    if x_i < 0:\n",
        "      if x_i <= epsilon_negative:\n",
        "        new_x.append(x_i)\n",
        "    else:\n",
        "      if x_i >= epsilon:\n",
        "        new_x.append(x_i)\n",
        "\n",
        "  poly_temp = [np.polyval(p, i) for i in new_x]\n",
        "  y_temp = np.sign(new_x)\n",
        "\n",
        "  correlation_matrix = np.corrcoef(y_temp, poly_temp)\n",
        "  correlation_xy = correlation_matrix[0,1]\n",
        "  r_squared = correlation_xy**2\n",
        "  #print(r_squared)\n",
        "\n",
        "  vector_temp = y_temp - poly_temp\n",
        "  k=0\n",
        "  for jj in vector_temp:\n",
        "    if jj < 0:\n",
        "      vector_temp[k]=vector_temp[k]*-1\n",
        "    k=k+1\n",
        "\n",
        "  l_one = LA.norm(vector_temp, 1)/LA.norm(y_mil, 1)\n",
        "  #print(l_one*100)\n",
        "\n",
        "  l_two = LA.norm(vector_temp, 2)/LA.norm(y_mil, 2)\n",
        "  #print(l_two*100)"
      ],
      "execution_count": null,
      "outputs": [
        {
          "output_type": "display_data",
          "data": {
            "image/png": "[encoded data removed]",
            "text/plain": [
              "<Figure size 432x288 with 1 Axes>"
            ]
          },
          "metadata": {
            "tags": [],
            "needs_background": "light"
          }
        }
      ]
    },
    {
      "cell_type": "markdown",
      "metadata": {
        "id": "HmIweZpe5HAT"
      },
      "source": [
        "# Composition\n"
      ]
    },
    {
      "cell_type": "code",
      "metadata": {
        "id": "Rdo3n7NWx66l",
        "colab": {
          "base_uri": "https://localhost:8080/",
          "height": 642
        },
        "outputId": "44639734-ccfc-4729-cf22-a6c22370bacc"
      },
      "source": [
        "print(\"Polynomial composition\")\n",
        "\n",
        "f = np.poly1d([(-1/2), 0, (3/2),0])\n",
        "g = np.poly1d([(-1359/1024), 0, (2126/1024),0])\n",
        "\n",
        "t_end = 0\n",
        "t_start = 0\n",
        "suma_temp = 0\n",
        "for teh in range(30):\n",
        "  t_start = time()\n",
        "  compositon = f(g)\n",
        "  t_end = time()\n",
        "  suma_temp = suma_temp + ((t_end - t_start)*1000)\n",
        "\n",
        "print(\"Polynomial generation (Average of 30 executions): {} ms\".format(suma_temp/30))\n",
        "print(\"Polynomial generation (only the last one): {} ms\".format((t_end - t_start) * 1000))\n",
        "print(\" \")\n",
        "\n",
        "p_test_composition = np.poly1d(compositon)\n",
        "\n",
        "# Evaluation of the sign function over ciphertexts by using polynomial composition\n",
        "resta = encrypted_tensor1 - encrypted_tensor2\n",
        "\n",
        "suma_temp = 0\n",
        "t_end = 0\n",
        "t_start = 0\n",
        "for teh in range(30):\n",
        "  t_start = time()\n",
        "  evaluacion = resta.polyval(p_test_composition)\n",
        "  t_end = time()\n",
        "  suma_temp = suma_temp + ((t_end - t_start)*1000)\n",
        "\n",
        "print(\"Polynomial evaluation (Average of 30 executions): {} ms\".format(suma_temp/30))\n",
        "print(\"Polynomial evaluation (only the last one): {} ms\".format((t_end - t_start) * 1000))\n",
        "\n",
        "print(decrypt(resta))\n",
        "print(decrypt(evaluacion))\n",
        "print(p_test_composition)\n",
        "\n",
        "fig = plt.figure()\n",
        "ax = fig.add_subplot(111)\n",
        "ax.plot(x, y_mil)\n",
        "\n",
        "ax = fig.add_subplot(111)\n",
        "poly = [np.polyval(p_test_composition, i) for i in x]\n",
        "\n",
        "ax.plot(x, poly)\n",
        "\n",
        "## R Square measure\n",
        "correlation_matrix = np.corrcoef(np.sign(x), poly)\n",
        "correlation_xy = correlation_matrix[0,1]\n",
        "r_squared = correlation_xy**2\n",
        "print(\"r_squared: {}\".format(r_squared))\n",
        "\n",
        "## Chi Square measure\n",
        "chi = chisquare(poly, f_exp=y_mil)\n",
        "print(\"Chi_squared: {}\".format(chi[0]))\n",
        "print(\" \")\n",
        "\n",
        "## Norms\n",
        "vector = y_mil - poly\n",
        "k=0\n",
        "for jj in vector:\n",
        "  if jj < 0:\n",
        "    vector[k]=vector[k]*-1\n",
        "  k=k+1\n",
        "\n",
        "print(\"1- norm: {}\".format(LA.norm(vector, 1)))\n",
        "print(\"2- norm: {}\".format(LA.norm(vector, 2)))\n",
        "print(\"Infinity- norm: {}\".format(LA.norm(vector, np.inf)))\n",
        "\n",
        "print(\" \")\n",
        "\n",
        "relative_one = LA.norm(vector, 1)/LA.norm(y_mil, 1)\n",
        "print(\"1- norm: {}\".format(relative_one*100))\n",
        "relative_two = LA.norm(vector, 2)/LA.norm(y_mil, 2)\n",
        "print(\"2- norm: {}\".format(relative_two*100))\n",
        "relative_inf = LA.norm(vector, np.inf)/LA.norm(y_mil, np.inf)\n",
        "print(\"Infinity- norm: {}\".format(relative_inf*100))"
      ],
      "execution_count": null,
      "outputs": [
        {
          "output_type": "stream",
          "text": [
            "Polynomial composition\n",
            "Polynomial generation (Average of 30 executions): 0.4245846684773763 ms\n",
            "Polynomial generation (only the last one): 0.3262592315673828 ms\n",
            " \n",
            "Polynomial evaluation (Average of 30 executions): 99.02146154785156 ms\n",
            "Polynomial evaluation (only the last one): 92.65327453613281 ms\n",
            "[0.5000647198162118]\n",
            "[0.9742790455206864]\n",
            "       9         7         5         3\n",
            "1.169 x - 5.485 x + 8.581 x - 6.465 x + 3.114 x\n",
            "r_squared: 0.8919168937206017\n",
            "Chi_squared: 1.4210854715202004e-14\n",
            " \n",
            "1- norm: 197.7150586772188\n",
            "2- norm: 10.820838467601657\n",
            "Infinity- norm: 0.9968826312971201\n",
            " \n",
            "1- norm: 19.771505867721878\n",
            "2- norm: 34.21849575038736\n",
            "Infinity- norm: 99.68826312971201\n"
          ],
          "name": "stdout"
        },
        {
          "output_type": "display_data",
          "data": {
            "image/png": "[encoded data removed]",
            "text/plain": [
              "<Figure size 432x288 with 1 Axes>"
            ]
          },
          "metadata": {
            "tags": [],
            "needs_background": "light"
          }
        }
      ]
    },
    {
      "cell_type": "code",
      "metadata": {
        "colab": {
          "base_uri": "https://localhost:8080/",
          "height": 265
        },
        "id": "BAPAGeErodvR",
        "outputId": "b59371de-3f42-4319-cc0c-24c649b080ad"
      },
      "source": [
        "#Composition: Analysis of approximation error for each component i\n",
        "fig = plt.figure()\n",
        "ax = fig.add_subplot(111)\n",
        "ax.plot(np.linspace(-1,1,1000), vector)\n",
        "\n",
        "intervals = np.arange(0, 0.51, 0.01)\n",
        "\n",
        "for epsilon in intervals:\n",
        "  epsilon_negative = -1 * epsilon\n",
        "  new_x = []\n",
        "\n",
        "  for x_i in x:\n",
        "    if x_i < 0:\n",
        "      if x_i <= epsilon_negative:\n",
        "        new_x.append(x_i)\n",
        "    else:\n",
        "      if x_i >= epsilon:\n",
        "        new_x.append(x_i)\n",
        "\n",
        "  poly_temp = [np.polyval(p_test_composition, i) for i in new_x]\n",
        "  y_temp = np.sign(new_x)\n",
        "\n",
        "  correlation_matrix = np.corrcoef(y_temp, poly_temp)\n",
        "  correlation_xy = correlation_matrix[0,1]\n",
        "  r_squared = correlation_xy**2\n",
        "  #print(r_squared)\n",
        "\n",
        "  vector_temp = y_temp - poly_temp\n",
        "  k=0\n",
        "  for jj in vector_temp:\n",
        "    if jj < 0:\n",
        "      vector_temp[k]=vector_temp[k]*-1\n",
        "    k=k+1\n",
        "\n",
        "  l_one = LA.norm(vector_temp, 1)/LA.norm(y_mil, 1)\n",
        "  #print(l_one*100)\n",
        "\n",
        "  l_two = LA.norm(vector_temp, 2)/LA.norm(y_mil, 2)\n",
        "  #print(l_two*100)"
      ],
      "execution_count": null,
      "outputs": [
        {
          "output_type": "display_data",
          "data": {
            "image/png": "[encoded data removed]",
            "text/plain": [
              "<Figure size 432x288 with 1 Axes>"
            ]
          },
          "metadata": {
            "tags": [],
            "needs_background": "light"
          }
        }
      ]
    },
    {
      "cell_type": "markdown",
      "metadata": {
        "id": "Xcqp99IT446L"
      },
      "source": [
        "# Newton-Raphson"
      ]
    },
    {
      "cell_type": "code",
      "metadata": {
        "colab": {
          "base_uri": "https://localhost:8080/",
          "height": 608
        },
        "id": "517tXhEMwsjq",
        "outputId": "d8ef9eed-2088-4762-8ec4-c5850c07ae06"
      },
      "source": [
        "print(\"Newton-Raphson\")\n",
        "ff = np.poly1d([(-1/2), 0, (3/2),0])\n",
        "\n",
        "suma_temp = 0\n",
        "t_end = 0\n",
        "t_start = 0\n",
        "for teh in range(30):\n",
        "  t_start = time()\n",
        "  f_newton = ff(ff)\n",
        "  t_end = time()\n",
        "  suma_temp = suma_temp + ((t_end - t_start)*1000)\n",
        "\n",
        "print(\"Polynomial generation (Average of 30 executions): {} ms\".format(suma_temp/30))\n",
        "print(\"Polynomial generation (only the last one): {} ms\".format((t_end - t_start) * 1000))\n",
        "print(\" \")\n",
        "\n",
        "# Evaluation of the sign function over ciphertexts by using Newton-Raphson polynomial\n",
        "resta_newton = encrypted_tensor1 - encrypted_tensor2\n",
        "\n",
        "suma_temp = 0\n",
        "t_end = 0\n",
        "t_start = 0\n",
        "for teh in range(30):\n",
        "  t_start = time()\n",
        "  evaluacion_newton = resta_newton.polyval(f_newton)\n",
        "  t_end = time()\n",
        "  suma_temp = suma_temp + ((t_end - t_start)*1000)\n",
        "\n",
        "print(\"Polynomial evaluation (Average of 30 executions): {} ms\".format(suma_temp/30))\n",
        "print(\"Polynomial evaluation (only the last one): {} ms\".format((t_end - t_start) * 1000))\n",
        "\n",
        "print(decrypt(resta_newton))\n",
        "print(decrypt(evaluacion_newton))\n",
        "print(f_newton)\n",
        "\n",
        "fig = plt.figure()\n",
        "ax = fig.add_subplot(111)\n",
        "ax.plot(x, y_mil)\n",
        "\n",
        "ax = fig.add_subplot(111)\n",
        "poly_newton = [np.polyval(f_newton, i) for i in x]\n",
        "\n",
        "ax.plot(x, poly_newton)\n",
        "\n",
        "## R Square measure\n",
        "correlation_matrix = np.corrcoef(np.sign(x), poly_newton)\n",
        "correlation_xy = correlation_matrix[0,1]\n",
        "r_squared = correlation_xy**2\n",
        "print(\"r_squared: {}\".format(r_squared))\n",
        "\n",
        "## Norms\n",
        "vector = y_mil - poly_newton\n",
        "\n",
        "k=0\n",
        "for jj in vector:\n",
        "  if jj < 0:\n",
        "    vector[k]=vector[k]*-1\n",
        "  k=k+1\n",
        "print(\"1- norm: {}\".format(LA.norm(vector, 1)))\n",
        "print(\"2- norm: {}\".format(LA.norm(vector, 2)))\n",
        "print(\"Infinity- norm: {}\".format(LA.norm(vector, np.inf)))\n",
        "\n",
        "##Relative norms\n",
        "print(\"Percents: \")\n",
        "relative_one = LA.norm(vector, 1)/LA.norm(y_mil, 1)\n",
        "print(\"1- norm: {}\".format(relative_one*100))\n",
        "relative_two = LA.norm(vector, 2)/LA.norm(y_mil, 2)\n",
        "print(\"2- norm: {}\".format(relative_two*100))\n",
        "relative_inf = LA.norm(vector, np.inf)/LA.norm(y_mil, np.inf)\n",
        "print(\"Infinity- norm: {}\".format(relative_inf*100))"
      ],
      "execution_count": null,
      "outputs": [
        {
          "output_type": "stream",
          "text": [
            "Newton-Raphson\n",
            "Polynomial generation (Average of 30 executions): 0.38408167521158853 ms\n",
            "Polynomial generation (only the last one): 0.32649765014648438 ms\n",
            " \n",
            "Polynomial evaluation (Average of 30 executions): 98.91054871877034 ms\n",
            "Polynomial evaluation (only the last one): 96.9545841217041 ms\n",
            "[0.5000647198162118]\n",
            "[0.8689849802368875]\n",
            "        9          7         5         3\n",
            "0.0625 x - 0.5625 x + 1.688 x - 2.438 x + 2.25 x\n",
            "r_squared: 0.8558868571811582\n",
            "1- norm: 266.9199371243394\n",
            "2- norm: 12.717470536481184\n",
            "Infinity- norm: 0.9977477501925732\n",
            "Percents: \n",
            "1- norm: 26.69199371243394\n",
            "2- norm: 40.216172971364024\n",
            "Infinity- norm: 99.77477501925732\n"
          ],
          "name": "stdout"
        },
        {
          "output_type": "display_data",
          "data": {
            "image/png": "[encoded data removed]",
            "text/plain": [
              "<Figure size 432x288 with 1 Axes>"
            ]
          },
          "metadata": {
            "tags": [],
            "needs_background": "light"
          }
        }
      ]
    },
    {
      "cell_type": "code",
      "metadata": {
        "colab": {
          "base_uri": "https://localhost:8080/",
          "height": 265
        },
        "id": "ZnUvm-iesb0S",
        "outputId": "a80d32f8-b022-4b68-ff5d-c4d60d3182c0"
      },
      "source": [
        "#Newton-Raphson: Interval-based analysis\n",
        "fig = plt.figure()\n",
        "ax = fig.add_subplot(111)\n",
        "ax.plot(np.linspace(-1,1,1000), vector)\n",
        "\n",
        "intervals = np.arange(0, 0.51, 0.01)\n",
        "\n",
        "for epsilon in intervals:\n",
        "  epsilon_negative = -1 * epsilon\n",
        "  new_x = []\n",
        "\n",
        "  for x_i in x:\n",
        "    if x_i < 0:\n",
        "      if x_i <= epsilon_negative:\n",
        "        new_x.append(x_i)\n",
        "    else:\n",
        "      if x_i >= epsilon:\n",
        "        new_x.append(x_i)\n",
        "\n",
        "  poly_temp = [np.polyval(f_newton, i) for i in new_x]\n",
        "  y_temp = np.sign(new_x)\n",
        "\n",
        "  correlation_matrix = np.corrcoef(y_temp, poly_temp)\n",
        "  correlation_xy = correlation_matrix[0,1]\n",
        "  r_squared = correlation_xy**2\n",
        "  #print(r_squared)\n",
        "\n",
        "  vector_temp = y_temp - poly_temp\n",
        "  k=0\n",
        "  for jj in vector_temp:\n",
        "    if jj < 0:\n",
        "      vector_temp[k]=vector_temp[k]*-1\n",
        "    k=k+1\n",
        "\n",
        "  l_one = LA.norm(vector_temp, 1)/LA.norm(y_mil, 1)\n",
        "  #print(l_one*100)\n",
        "\n",
        "  l_two = LA.norm(vector_temp, 2)/LA.norm(y_mil, 2)\n",
        "  #print(l_two*100)"
      ],
      "execution_count": null,
      "outputs": [
        {
          "output_type": "display_data",
          "data": {
            "image/png": "[encoded data removed]",
            "text/plain": [
              "<Figure size 432x288 with 1 Axes>"
            ]
          },
          "metadata": {
            "tags": [],
            "needs_background": "light"
          }
        }
      ]
    },
    {
      "cell_type": "markdown",
      "metadata": {
        "id": "tEjpgH0YGOhP"
      },
      "source": [
        "# Chebyshev interpolation\n",
        "NOTES:\n",
        "\n",
        "*   The Chebyshev coefficients were calculated on Matlab based on http://www.chebfun.org/docs/guide/guide04.html\n",
        "\n",
        "*   Once the x,y points and Chebyshev coefficients were generated, we measure the quality of the approximation."
      ]
    },
    {
      "cell_type": "code",
      "metadata": {
        "colab": {
          "base_uri": "https://localhost:8080/",
          "height": 574
        },
        "id": "6KgjiDH4HD-m",
        "outputId": "db2f4bfc-f4d8-4f0b-de1c-63bd53b4f8f2"
      },
      "source": [
        "print(\"Chebyshev\")\n",
        "from numpy.polynomial import Chebyshev\n",
        "import pandas as pd\n",
        "\n",
        "#We obtained the Chebyshev coefficients from Matlab\n",
        "coefficients_chebyshev = [0, 1.2797, 0, -0.4444, 0, 0.2901 ,0, -0.2365, 0, 0.1111]\n",
        "\n",
        "t_start = time()\n",
        "get_new_serie = Chebyshev(coefficients_chebyshev)\n",
        "t_end = time()\n",
        "print(\"Polynomial generation (true value comes from Matlab): {} ms\".format((t_end - t_start) * 1000))\n",
        "\n",
        "#y points from chebyshev serie generated based on the coefficients (for measures)\n",
        "y_data_chebyshev = get_new_serie(x)\n",
        "\n",
        "fig = plt.figure()\n",
        "ax = fig.add_subplot(111)\n",
        "ax.plot(x, y_mil)\n",
        "\n",
        "ax = fig.add_subplot(111)\n",
        "ax.plot(x, y_data_chebyshev)\n",
        "\n",
        "# Evaluation of the sign function over ciphertexts by using\n",
        "resta = encrypted_tensor1 - encrypted_tensor2\n",
        "\n",
        "suma_temp = 0\n",
        "t_end = 0\n",
        "t_start = 0\n",
        "for teh in range(30):\n",
        "  t_start = time()\n",
        "  evaluacion = resta.polyval(coefficients_chebyshev)\n",
        "  t_end = time()\n",
        "  suma_temp = suma_temp + ((t_end - t_start)*1000)\n",
        "\n",
        "print(\"Polynomial evaluation (Average of 30 executions): {} ms\".format(suma_temp/30))\n",
        "print(\"Polynomial evaluation (last one): {} ms\".format((t_end - t_start) * 1000))\n",
        "\n",
        "print(decrypt(resta))\n",
        "print(decrypt(evaluacion))\n",
        "print(get_new_serie)\n",
        "\n",
        "## R Square measure\n",
        "correlation_matrix = np.corrcoef(np.sign(x), y_data_chebyshev)\n",
        "correlation_xy = correlation_matrix[0,1]\n",
        "r_squared = correlation_xy**2\n",
        "print(\"r_squared: {}\".format(r_squared))\n",
        "\n",
        "## Norms\n",
        "vector = y_mil - y_data_chebyshev\n",
        "k=0\n",
        "for jj in vector:\n",
        "  if jj < 0:\n",
        "    vector[k]=vector[k]*-1\n",
        "  k=k+1\n",
        "print(\"1- norm: {}\".format(LA.norm(vector, 1)))\n",
        "print(\"2- norm: {}\".format(LA.norm(vector, 2)))\n",
        "print(\"Infinity- norm: {}\".format(LA.norm(vector, np.inf)))\n",
        "\n",
        "##Relative norms\n",
        "print(\"Percents: \")\n",
        "relative_one = LA.norm(vector, 1)/LA.norm(y_mil, 1)\n",
        "print(\"1- norm: {}\".format(relative_one*100))\n",
        "relative_two = LA.norm(vector, 2)/LA.norm(y_mil, 2)\n",
        "print(\"2- norm: {}\".format(relative_two*100))\n",
        "relative_inf = LA.norm(vector, np.inf)/LA.norm(y_mil, np.inf)\n",
        "print(\"Infinity- norm: {}\".format(relative_inf*100))"
      ],
      "execution_count": null,
      "outputs": [
        {
          "output_type": "stream",
          "text": [
            "Chebyshev\n",
            "Polynomial generation (true value comes from Matlab): 0.56327598571777344 ms\n"
          ],
          "name": "stdout"
        },
        {
          "output_type": "stream",
          "text": [
            "Polynomial evaluation (Average of 30 executions): 121.6543912378947 ms\n",
            "Polynomial evaluation (last one): 116.5468692779541 ms\n",
            "[0.5000647198162118]\n",
            "[0.592257469264571]\n",
            "cheb([ 0.      1.2797  0.     -0.4444  0.      0.2901  0.     -0.2365  0.\n",
            "  0.1111])\n",
            "r_squared: 0.9347409510547436\n",
            "1- norm: 165.25782235624996\n",
            "2- norm: 8.12372466278632\n",
            "Infinity- norm: 0.9932745087326672\n",
            "Percents: \n",
            "1- norm: 16.525782235624998\n",
            "2- norm: 25.68947301848808\n",
            "Infinity- norm: 99.32745087326673\n"
          ],
          "name": "stdout"
        },
        {
          "output_type": "display_data",
          "data": {
            "image/png": "[encoded data removed]",
            "text/plain": [
              "<Figure size 432x288 with 1 Axes>"
            ]
          },
          "metadata": {
            "tags": [],
            "needs_background": "light"
          }
        }
      ]
    },
    {
      "cell_type": "code",
      "metadata": {
        "colab": {
          "base_uri": "https://localhost:8080/",
          "height": 265
        },
        "id": "nfWA07Oxsmpu",
        "outputId": "b352ddc9-b452-4339-9735-28f268096522"
      },
      "source": [
        "#Chebyshev: Interval-based analysis\n",
        "fig = plt.figure()\n",
        "ax = fig.add_subplot(111)\n",
        "ax.plot(np.linspace(-1,1,1000), vector)\n",
        "\n",
        "intervals = np.arange(0, 0.51, 0.01)\n",
        "\n",
        "for epsilon in intervals:\n",
        "  epsilon_negative = -1 * epsilon\n",
        "  new_x = []\n",
        "\n",
        "  for x_i in x:\n",
        "    if x_i < 0:\n",
        "      if x_i <= epsilon_negative:\n",
        "        new_x.append(float(x_i))\n",
        "    else:\n",
        "      if x_i >= epsilon:\n",
        "        new_x.append(float(x_i))\n",
        "\n",
        "  new_x = np.array(new_x)\n",
        "  poly_temp = get_new_serie(new_x)\n",
        "  y_temp = np.sign(new_x)\n",
        "\n",
        "  correlation_matrix = np.corrcoef(y_temp, poly_temp)\n",
        "  correlation_xy = correlation_matrix[0,1]\n",
        "  r_squared = correlation_xy**2\n",
        "  #print(r_squared)\n",
        "\n",
        "  vector_temp = y_temp - poly_temp\n",
        "  k=0\n",
        "  for jj in vector_temp:\n",
        "    if jj < 0:\n",
        "      vector_temp[k]=vector_temp[k]*-1\n",
        "    k=k+1\n",
        "\n",
        "  l_one = LA.norm(vector_temp, 1)/LA.norm(y_mil, 1)\n",
        "  #print(l_one*100)\n",
        "\n",
        "  l_two = LA.norm(vector_temp, 2)/LA.norm(y_mil, 2)\n",
        "  #print(l_two*100)"
      ],
      "execution_count": null,
      "outputs": [
        {
          "output_type": "display_data",
          "data": {
            "image/png": "[encoded data removed]",
            "text/plain": [
              "<Figure size 432x288 with 1 Axes>"
            ]
          },
          "metadata": {
            "tags": [],
            "needs_background": "light"
          }
        }
      ]
    },
    {
      "cell_type": "markdown",
      "metadata": {
        "id": "HNThy1k_4xBJ"
      },
      "source": [
        "# Fourier sequence"
      ]
    },
    {
      "cell_type": "code",
      "metadata": {
        "colab": {
          "base_uri": "https://localhost:8080/"
        },
        "id": "0z-cCHLRPdMY",
        "outputId": "ca643e43-35e1-49e7-9e5f-fd3b006e044f"
      },
      "source": [
        "pip install symfit"
      ],
      "execution_count": null,
      "outputs": [
        {
          "output_type": "stream",
          "text": [
            "Requirement already satisfied: symfit in /usr/local/lib/python3.7/dist-packages (0.5.3)\n",
            "Requirement already satisfied: scipy>=1.0 in /usr/local/lib/python3.7/dist-packages (from symfit) (1.4.1)\n",
            "Requirement already satisfied: six in /usr/local/lib/python3.7/dist-packages (from symfit) (1.15.0)\n",
            "Requirement already satisfied: toposort in /usr/local/lib/python3.7/dist-packages (from symfit) (1.6)\n",
            "Requirement already satisfied: sympy>=1.2 in /usr/local/lib/python3.7/dist-packages (from symfit) (1.7.1)\n",
            "Requirement already satisfied: numpy>=1.12 in /usr/local/lib/python3.7/dist-packages (from symfit) (1.19.5)\n",
            "Requirement already satisfied: mpmath>=0.19 in /usr/local/lib/python3.7/dist-packages (from sympy>=1.2->symfit) (1.2.1)\n"
          ],
          "name": "stdout"
        }
      ]
    },
    {
      "cell_type": "code",
      "metadata": {
        "colab": {
          "base_uri": "https://localhost:8080/",
          "height": 1000
        },
        "id": "pwR4fiyK4Dit",
        "outputId": "1411115d-2045-4c18-f987-f422877fc4d5"
      },
      "source": [
        "from symfit import parameters, variables, sin, cos, Fit\n",
        "\n",
        "def fourier_series(x, f, n=0):\n",
        "    \"\"\"\n",
        "    :param n: Order of the fourier series.\n",
        "    :param x: Independent variable\n",
        "    :param f: Frequency of the fourier series\n",
        "    \"\"\"\n",
        "\n",
        "    a0, *cos_a = parameters(','.join(['a{}'.format(i) for i in range(0, n + 1)]))\n",
        "    sin_b = parameters(','.join(['b{}'.format(i) for i in range(1, n + 1)]))\n",
        "\n",
        "    series = a0 + sum(ai * cos(i * f * x) + bi * sin(i * f * x)\n",
        "                     for i, (ai, bi) in enumerate(zip(cos_a, sin_b), start=1))\n",
        "    return series\n",
        "\n",
        "xdata = np.linspace(-1,1,1000)\n",
        "ydata = y_mil\n",
        "\n",
        "x, y = variables('x, y')\n",
        "w, = parameters('w')\n",
        "model_dict = {y: fourier_series(x, f=w, n=9)}\n",
        "\n",
        "suma_temp = 0\n",
        "t_end = 0\n",
        "t_start = 0\n",
        "for teh in range(30):\n",
        "  t_start = time()\n",
        "  fit = Fit(model_dict, x=xdata, y=ydata)\n",
        "  t_end = time()\n",
        "  suma_temp = suma_temp + ((t_end - t_start)*1000)\n",
        "\n",
        "print(\"Polynomial generation (Average of 30 executions): {} ms\".format(suma_temp/30))\n",
        "print(\"Polynomial generation (only the last one): {} ms\".format((t_end - t_start) * 1000))\n",
        "\n",
        "fit_result = fit.execute()\n",
        "\n",
        "print(model_dict)\n",
        "print(fit_result)\n",
        "\n",
        "plt.plot(xdata, ydata)\n",
        "plt.plot(xdata, fit.model(x=xdata, **fit_result.params).y, ls=':')\n",
        "plt.xlabel('x')\n",
        "plt.ylabel('y')\n",
        "plt.show()\n",
        "\n",
        "## Norms\n",
        "vector = ydata - fit.model(x=xdata, **fit_result.params).y\n",
        "\n",
        "k=0\n",
        "for jj in vector:\n",
        "  if jj < 0:\n",
        "    vector[k]=vector[k]*-1\n",
        "  k=k+1\n",
        "print(\"1- norm: {}\".format(LA.norm(vector, 1)))\n",
        "print(\"2- norm: {}\".format(LA.norm(vector, 2)))\n",
        "print(\"Infinity- norm: {}\".format(LA.norm(vector, np.inf)))\n",
        "\n",
        "##Relative norms\n",
        "print(\"Percents: \")\n",
        "relative_one = LA.norm(vector, 1)/LA.norm(y_mil, 1)\n",
        "print(\"1- norm: {}\".format(relative_one*100))\n",
        "relative_two = LA.norm(vector, 2)/LA.norm(y_mil, 2)\n",
        "print(\"2- norm: {}\".format(relative_two*100))\n",
        "relative_inf = LA.norm(vector, np.inf)/LA.norm(y_mil, np.inf)\n",
        "print(\"Infinity- norm: {}\".format(relative_inf*100))"
      ],
      "execution_count": null,
      "outputs": [
        {
          "output_type": "stream",
          "text": [
            "Polynomial generation (Average of 30 executions): 1.2649510828653972 ms\n",
            "Polynomial generation (only the last one): 1.2159347534179688 ms\n",
            "{y: a0 + a1*cos(w*x) + a2*cos(2*w*x) + a3*cos(3*w*x) + a4*cos(4*w*x) + a5*cos(5*w*x) + a6*cos(6*w*x) + a7*cos(7*w*x) + a8*cos(8*w*x) + a9*cos(9*w*x) + b1*sin(w*x) + b2*sin(2*w*x) + b3*sin(3*w*x) + b4*sin(4*w*x) + b5*sin(5*w*x) + b6*sin(6*w*x) + b7*sin(7*w*x) + b8*sin(8*w*x) + b9*sin(9*w*x)}\n",
            "\n",
            "Parameter Value        Standard Deviation\n",
            "a0        -3.150285e-11 5.565400e-03\n",
            "a1        6.752556e-11 8.969899e-03\n",
            "a2        7.212660e-11 8.898184e-03\n",
            "a3        -6.231300e-11 8.782346e-03\n",
            "a4        -8.628528e-11 8.627766e-03\n",
            "a5        1.004699e-11 8.441686e-03\n",
            "a6        -2.089302e-11 8.232883e-03\n",
            "a7        -1.661747e-10 8.011244e-03\n",
            "a8        -1.575189e-10 7.787202e-03\n",
            "a9        1.469227e-11 7.571057e-03\n",
            "b1        1.268359e+00 6.577004e-03\n",
            "b2        9.695796e-03 6.633145e-03\n",
            "b3        4.100476e-01 6.718367e-03\n",
            "b4        1.884366e-02 6.821731e-03\n",
            "b5        2.316042e-01 6.930746e-03\n",
            "b6        2.694398e-02 7.032961e-03\n",
            "b7        1.514350e-01 7.117764e-03\n",
            "b8        3.358868e-02 7.177014e-03\n",
            "b9        1.052164e-01 7.206204e-03\n",
            "w         2.940192e+00 1.500789e-02\n",
            "Status message         Desired error not necessarily achieved due to precision loss.\n",
            "Number of iterations   239\n",
            "Objective              <symfit.core.objectives.LeastSquares object at 0x7f7ac8ceaf10>\n",
            "Minimizer              <symfit.core.minimizers.BFGS object at 0x7f7ac8cea390>\n",
            "\n",
            "Goodness of fit qualifiers:\n",
            "chi_squared            22.49051227165498\n",
            "objective_value        11.24525613582749\n",
            "r_squared              0.977509487728345\n"
          ],
          "name": "stdout"
        },
        {
          "output_type": "display_data",
          "data": {
            "image/png": "[encoded data removed]",
            "text/plain": [
              "<Figure size 432x288 with 1 Axes>"
            ]
          },
          "metadata": {
            "tags": [],
            "needs_background": "light"
          }
        },
        {
          "output_type": "stream",
          "text": [
            "Polynomial evaluation (Average of 30 executions): 132.91284138743083 ms\n",
            "Polynomial evaluation (only the last one): 133.93617630004883 ms\n",
            "[0.5000647198162118]\n",
            "[0.6991438996973299]\n",
            "1- norm: 72.64519253746695\n",
            "2- norm: 4.742416290421475\n",
            "Infinity- norm: 0.9817867773558411\n",
            "Percents: \n",
            "1- norm: 7.264519253746696\n",
            "2- norm: 14.996837090418428\n",
            "Infinity- norm: 98.1786777355841\n"
          ],
          "name": "stdout"
        }
      ]
    },
    {
      "cell_type": "code",
      "metadata": {
        "colab": {
          "base_uri": "https://localhost:8080/",
          "height": 265
        },
        "id": "U8p2BVeuqD2Z",
        "outputId": "a83fa042-9e44-43c4-b1e5-e84da234a227"
      },
      "source": [
        "#Fourier sequence: Interval-based analysis\n",
        "fig = plt.figure()\n",
        "ax = fig.add_subplot(111)\n",
        "x_extra = np.linspace(-1,1,1000)\n",
        "ax.plot(x_extra, vector)\n",
        "\n",
        "intervals = np.arange(0, 0.51, 0.01)\n",
        "\n",
        "for epsilon in intervals:\n",
        "  epsilon_negative = -1 * epsilon\n",
        "  new_x = []\n",
        "\n",
        "  for x_i in x_extra:\n",
        "    if x_i < 0:\n",
        "      if x_i <= epsilon_negative:\n",
        "        new_x.append(float(x_i))\n",
        "    else:\n",
        "      if x_i >= epsilon:\n",
        "        new_x.append(float(x_i))\n",
        "\n",
        "  new_x = np.array(new_x)\n",
        "  y_temp = np.sign(new_x)\n",
        "\n",
        "  xdata = new_x\n",
        "  ydata = y_temp\n",
        "\n",
        "  fit = Fit(model_dict, x=xdata, y=ydata)\n",
        "  fit_result = fit.execute()\n",
        "\n",
        "  poly_temp = fit.model(x=xdata, **fit_result.params).y\n",
        "\n",
        "  vector_temp = y_temp - poly_temp\n",
        "  k=0\n",
        "  for jj in vector_temp:\n",
        "    if jj < 0:\n",
        "      vector_temp[k]=vector_temp[k]*-1\n",
        "    k=k+1\n",
        "\n",
        "  l_one = LA.norm(vector_temp, 1)/LA.norm(y_mil, 1)\n",
        "  #print(l_one*100)\n",
        "  l_two = LA.norm(vector_temp, 2)/LA.norm(y_mil, 2)\n",
        "  #print(l_two*100)"
      ],
      "execution_count": null,
      "outputs": [
        {
          "output_type": "display_data",
          "data": {
            "image/png": "[encoded data removed]",
            "text/plain": [
              "<Figure size 432x288 with 1 Axes>"
            ]
          },
          "metadata": {
            "tags": [],
            "needs_background": "light"
          }
        }
      ]
    },
    {
      "cell_type": "code",
      "metadata": {
        "colab": {
          "base_uri": "https://localhost:8080/"
        },
        "id": "TC2FCwOj6dQp",
        "outputId": "fc0d8f4a-f484-44d9-b506-a23a7e4ca3c5"
      },
      "source": [
        "a=1\n",
        "b=0.5\n",
        "t_start = time()\n",
        "if a < b:\n",
        "  print(\"a menor a b\")\n",
        "t_end = time()\n",
        "print(\"Plaintext comparison: {} ms\".format((t_end - t_start) * 1000))"
      ],
      "execution_count": null,
      "outputs": [
        {
          "output_type": "stream",
          "text": [
            "Plaintext comparison: 0.06699562072753906 ms\n"
          ],
          "name": "stdout"
        }
      ]
    }
  ]
}
