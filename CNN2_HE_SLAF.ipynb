{
  "cells": [
    {
      "cell_type": "markdown",
      "metadata": {
        "id": "2ltA9pmR2xVW"
      },
      "source": [
        "# SLAF-based Privacy-Preserving CNN2 with Homomorphic Encryption"
      ]
    },
    {
      "cell_type": "code",
      "execution_count": null,
      "metadata": {
        "id": "So_6CkP6bRdz"
      },
      "outputs": [],
      "source": [
        "!pip install tenseal\n",
        "!pip install torch torchvision\n",
        "!pip install matplotlib\n",
        "!pip install torchsummary"
      ]
    },
    {
      "cell_type": "code",
      "execution_count": null,
      "metadata": {
        "id": "AxBQhxzDbS0L"
      },
      "outputs": [],
      "source": [
        "import torch\n",
        "import tenseal as ts\n",
        "from torchvision import datasets\n",
        "import torchvision\n",
        "import torchvision.transforms as transforms\n",
        "import numpy as np\n",
        "import time\n",
        "import matplotlib.pyplot as plt\n",
        "import numpy as np\n",
        "from torchsummary import summary\n",
        "from torch.nn.utils.fusion import fuse_conv_bn_eval\n",
        "from time import time"
      ]
    },
    {
      "cell_type": "markdown",
      "metadata": {
        "id": "wzC7IYgB2j6t"
      },
      "source": [
        "# MNIST dataset"
      ]
    },
    {
      "cell_type": "code",
      "execution_count": null,
      "metadata": {
        "id": "KUp1PPxFbUOn"
      },
      "outputs": [],
      "source": [
        "torch.manual_seed(73)\n",
        "\n",
        "train_data = datasets.MNIST('data', train=True, download=True, transform=transforms.ToTensor())\n",
        "test_data = datasets.MNIST('data', train=False, download=True, transform=transforms.ToTensor())\n",
        "\n",
        "batch_size = 64\n",
        "\n",
        "train_loader = torch.utils.data.DataLoader(train_data, batch_size=batch_size, shuffle=True)\n",
        "test_loader = torch.utils.data.DataLoader(test_data, batch_size=batch_size, shuffle=True)\n",
        "\n",
        "classes = train_loader.dataset.classes\n",
        "onecycle=1"
      ]
    },
    {
      "cell_type": "code",
      "execution_count": null,
      "metadata": {
        "id": "4LdPPHamSnfx"
      },
      "outputs": [],
      "source": [
        "device = torch.device('cuda:0' if torch.cuda.is_available() else 'cpu')\n",
        "print(device)\n",
        "\n",
        "if torch.cuda.is_available():\n",
        "    gpu_info = !nvidia-smi\n",
        "    gpu_info = '\\n'.join(gpu_info)\n",
        "    if gpu_info.find('failed') >= 0:\n",
        "      print('Not connected to a GPU')\n",
        "    else:\n",
        "      print(gpu_info)"
      ]
    },
    {
      "cell_type": "code",
      "execution_count": null,
      "metadata": {
        "id": "5nCJ0oFoiIRm"
      },
      "outputs": [],
      "source": [
        "from psutil import virtual_memory\n",
        "ram_gb = virtual_memory().total / 1e9\n",
        "print('Your runtime has {:.1f} gigabytes of available RAM\\n'.format(ram_gb))\n",
        "\n",
        "if ram_gb < 20:\n",
        "  print('Not using a high-RAM runtime')\n",
        "else:\n",
        "  print('You are using a high-RAM runtime!')"
      ]
    },
    {
      "cell_type": "code",
      "execution_count": null,
      "metadata": {
        "id": "gracKLj1iM3K"
      },
      "outputs": [],
      "source": [
        "def sign(x):\n",
        "  if x > 0:\n",
        "    return 1\n",
        "  elif x < 0:\n",
        "    return -1\n",
        "  else:\n",
        "    return 0\n",
        "\n",
        "x = np.linspace(-1,1,1000)\n",
        "z = np.arange(-1, 1, .01)\n",
        "y = np.sign(z)"
      ]
    },
    {
      "cell_type": "code",
      "execution_count": null,
      "metadata": {
        "id": "CmXhxs2dbVwh"
      },
      "outputs": [],
      "source": [
        "def imshow(img):\n",
        "    npimg = img.numpy()\n",
        "    plt.imshow(np.transpose(npimg, (1, 2, 0)))\n",
        "    plt.show()\n",
        "\n",
        "# get some random training images\n",
        "dataiter = iter(train_loader)\n",
        "images, labels = dataiter.next()\n",
        "\n",
        "# show images\n",
        "imshow(torchvision.utils.make_grid(images))\n",
        "print(' '.join(f'{classes[labels[j]]:5s}' for j in range(batch_size)))"
      ]
    },
    {
      "cell_type": "markdown",
      "metadata": {
        "id": "wuAZv4lsax4T"
      },
      "source": [
        "## CNN2"
      ]
    },
    {
      "cell_type": "markdown",
      "source": [
        "Training and testing will be carried out on the last model that is executed."
      ],
      "metadata": {
        "id": "ov2aBtlT_QcX"
      }
    },
    {
      "cell_type": "markdown",
      "metadata": {
        "id": "sE4Xkcwzgzq9"
      },
      "source": [
        "### CNN2-ReLU"
      ]
    },
    {
      "cell_type": "code",
      "execution_count": null,
      "metadata": {
        "id": "nKzySEPhq4cP"
      },
      "outputs": [],
      "source": [
        "import torch\n",
        "import torch.nn as nn\n",
        "import torch.nn.functional as F\n",
        "\n",
        "onecycle=1\n",
        "check = []\n",
        "check2 = []\n",
        "check_fn = []\n",
        "check_fn2 = []\n",
        "\n",
        "class Net(nn.Module):\n",
        "    def __init__(self):\n",
        "        super(Net, self).__init__()\n",
        "        self.conv1 = nn.Conv2d(1, 20, 5, 2, 1)\n",
        "        nn.init.kaiming_normal_(self.conv1.weight)\n",
        "        self.batch1 = nn.BatchNorm2d(20)\n",
        "        self.pool = nn.AvgPool2d(3, stride=2, padding=1)\n",
        "        self.conv2 = nn.Conv2d(20, 50, 5, 1, 0)\n",
        "        nn.init.kaiming_normal_(self.conv2.weight)\n",
        "        self.fc1 = nn.Linear(200, 100)\n",
        "        self.batch2 = nn.BatchNorm1d(100)\n",
        "        self.fc2 = nn.Linear(100, 10)\n",
        "\n",
        "    def forward(self, x):\n",
        "        x = self.conv1(x)\n",
        "        x = self.batch1(x)\n",
        "        #collect activation inputs\n",
        "        if not self.training:\n",
        "          check_fn.append(x.data)\n",
        "        check.append(torch.max(torch.abs(x.data)))\n",
        "        if torch.max(torch.abs(x.data)) > check[0]:\n",
        "          check[0] = torch.max(torch.abs(x.data))\n",
        "        x = F.relu(x)\n",
        "        x = self.pool(x)\n",
        "        x = self.conv2(x)\n",
        "        x = self.pool(x)\n",
        "        x = torch.flatten(x, 1)\n",
        "        x = self.fc1(x)\n",
        "        x = self.batch2(x)\n",
        "        if not self.training:\n",
        "          check_fn2.append(x.data)\n",
        "        check2.append(torch.max(torch.abs(x.data)))\n",
        "        if torch.max(torch.abs(x.data)) > check2[0]:\n",
        "          check2[0] = torch.max(torch.abs(x.data))\n",
        "        x = F.relu(x)\n",
        "        x = self.fc2(x)\n",
        "        return x\n",
        "\n",
        "net = Net()\n",
        "print(net)\n",
        "\n",
        "summary(net, (1, 28, 28))"
      ]
    },
    {
      "cell_type": "markdown",
      "metadata": {
        "id": "2m7SI6B3lXc8"
      },
      "source": [
        "### CNN2-SLAF"
      ]
    },
    {
      "cell_type": "code",
      "execution_count": null,
      "metadata": {
        "id": "VdiakGw0lmpk"
      },
      "outputs": [],
      "source": [
        "import torch\n",
        "import torch.nn as nn\n",
        "import torch.nn.functional as F\n",
        "\n",
        "size_due_padding = 13\n",
        "input_due_padding = 200\n",
        "padding_conv1 = 1\n",
        "\n",
        "class soft_poly(torch.nn.Module):\n",
        "    def __init__(self, in_features, alpha = None):\n",
        "        super(soft_poly,self).__init__()\n",
        "        self.in_features = in_features\n",
        "        self.alpha = alpha\n",
        "\n",
        "        if alpha == None:\n",
        "            self.alpha = nn.Parameter(torch.tensor(1000,64, device = device))\n",
        "        else:\n",
        "            for i in range(alpha + 1):\n",
        "                tensor_new = torch.nn.Parameter(torch.zeros(1, device = device))\n",
        "                setattr(self, \"alpha\" + str(i), tensor_new)\n",
        "                setattr(self, \"alpha\" + str(i) + \".requiresGrad\", True) # set requiresGrad to true!\n",
        "\n",
        "    def forward(self, x, size):\n",
        "        ar_al = torch.zeros(self.alpha + 1, len(x), size, device = device)\n",
        "        f = open('f1.txt', 'w')\n",
        "        for i in range(self.alpha + 1):\n",
        "            temp = getattr(self, \"alpha\" + str(i))\n",
        "            ar_al[i] = temp * (x**i)\n",
        "            f.write(str(temp.data.tolist()) + '\\n')\n",
        "        f.close()\n",
        "        return torch.sum(ar_al, dim=0)\n",
        "\n",
        "class conv_soft_poly(torch.nn.Module):\n",
        "    def __init__(self, in_features, alpha = None):\n",
        "        super(conv_soft_poly,self).__init__()\n",
        "        self.in_features = in_features\n",
        "        self.alpha = alpha\n",
        "\n",
        "        if alpha == None:\n",
        "            self.alpha = nn.Parameter(torch.tensor(1000,64, device = device))\n",
        "        else:\n",
        "            for i in range(alpha + 1):\n",
        "                tensor_new = torch.nn.Parameter(torch.zeros(1, device = device))\n",
        "                setattr(self, \"alpha\" + str(i), tensor_new)\n",
        "                setattr(self, \"alpha\" + str(i) + \".requiresGrad\", True)\n",
        "\n",
        "    def forward(self, x):\n",
        "        ar_al = torch.zeros(self.alpha + 1, len(x), 20, size_due_padding, size_due_padding, device=device)\n",
        "        f = open('conv.txt', 'w')\n",
        "        for i in range(self.alpha + 1):\n",
        "            temp = getattr(self, \"alpha\" + str(i))\n",
        "            ar_al[i] = temp * (x**i)\n",
        "            f.write(str(temp.data.tolist()) + '\\n')\n",
        "        f.close()\n",
        "        return torch.sum(ar_al, dim=0)\n",
        "\n",
        "class ConvNet(torch.nn.Module):\n",
        "    def __init__(self, hidden=100, output=10):\n",
        "        super(ConvNet, self).__init__()\n",
        "        self.conv1 = nn.Conv2d(1, 20, 5, 2, padding_conv1)\n",
        "        nn.init.kaiming_normal_(self.conv1.weight)\n",
        "        self.batch1 = nn.BatchNorm2d(20)\n",
        "        self.pool = nn.AvgPool2d(3, stride=2, padding=1)\n",
        "        self.conv2 = nn.Conv2d(20, 50, 5, 1, 0)\n",
        "        nn.init.kaiming_normal_(self.conv2.weight)\n",
        "        self.fc1 = nn.Linear(input_due_padding, hidden)\n",
        "        self.batch2 = nn.BatchNorm1d(100)\n",
        "        self.fc2 = nn.Linear(hidden, output)\n",
        "        self.slu = soft_poly(hidden, alpha=3)\n",
        "        self.cslu = conv_soft_poly(hidden, alpha=3)\n",
        "        self.hidden_size = hidden\n",
        "\n",
        "    def forward(self, x):\n",
        "        x = self.conv1(x)\n",
        "        x = self.batch1(x)\n",
        "        x = self.cslu(x)\n",
        "        x = self.pool(x)\n",
        "        x = self.conv2(x)\n",
        "        x = self.pool(x)\n",
        "        x = torch.flatten(x, 1)\n",
        "        x = self.fc1(x)\n",
        "        x = self.batch2(x)\n",
        "        x = self.slu(x, 100)\n",
        "        x = self.fc2(x)\n",
        "        return x\n",
        "\n",
        "net = ConvNet()\n",
        "\n",
        "if torch.cuda.is_available():\n",
        "  net.to(device)\n",
        "\n",
        "print(net)"
      ]
    },
    {
      "cell_type": "markdown",
      "metadata": {
        "id": "oshBeB_HxWaM"
      },
      "source": [
        "#### Collapsing linear layers"
      ]
    },
    {
      "cell_type": "markdown",
      "source": [
        "Since the combination of linear operations is linear and there is no intervening non-linearity between the first pooling layer and the first fully-connected layer of CNN2, the hidden layers between them can be collapsed into a single linear layer for the testing process.\n",
        "\n",
        "Therefore, after each CNN2 model, several cells are incorporated to collapse linear layers, fuse convolutional and batch normalization layers, and generate a collapsed model for evaluation."
      ],
      "metadata": {
        "id": "XEiNbNXM-kXR"
      }
    },
    {
      "cell_type": "code",
      "execution_count": null,
      "metadata": {
        "id": "Ijbf_hzNxWCd"
      },
      "outputs": [],
      "source": [
        "_ = torch.manual_seed (2023)\n",
        "# shape of intermediate \"input\" image\n",
        "in_channels = 20\n",
        "h = size_due_padding\n",
        "w = h\n",
        "\n",
        "#convolution parameters\n",
        "out_channels = 50\n",
        "kernel = 5\n",
        "stride = 1\n",
        "\n",
        "#fc paramaters\n",
        "in_features=int (out_channels * (((h - kernel) / 2) + 1)**2)\n",
        "in_features= input_due_padding\n",
        "out_features = 100\n",
        "\n",
        "#LAYERS DEFINITION\n",
        "#conv2 = torch.nn.Conv2d (in_channels, out_channels, kernel, stride)\n",
        "#fc1 = torch.nn.Linear (in_features, out_features)\n",
        "pool1 = nn.AvgPool2d(3, stride=2, padding=1) ##!!!!!!!!!!!!\n",
        "\n",
        "conv2 = net.conv2\n",
        "fc1 = net.fc1\n",
        "batch = net.batch2\n",
        "\n",
        "# create collapsed bias from conv2 and fc1\n",
        "bias = fc1 (torch.flatten (pool1(conv2 (pool1(torch.zeros (1, in_channels, h, w))))))\n",
        "bias = ((torch.sub(bias, batch.running_mean))/torch.sqrt(torch.add(batch.running_var, batch.eps))) * batch.weight + batch.bias\n",
        "\n",
        "# create collapsed weight from conv2 and fc1 (and bias)\n",
        "# batch of images, each with only a single pixel turned on\n",
        "n_pixels = in_channels * h * w   # number of pixels (including channels) in input image\n",
        "pixel_batch = torch.eye (n_pixels).reshape (n_pixels, in_channels, h, w)\n",
        "weight = (batch(fc1 (torch.flatten (pool1(conv2 (pool1(pixel_batch))), 1))) - bias).T\n",
        "\n",
        "# create collapsed Linear\n",
        "fcnew = torch.nn.Linear (n_pixels, out_features)   # Linear of correct shape\n",
        "\n",
        "# copy in collapsed weight and bias\n",
        "with torch.no_grad():\n",
        "  _ = fcnew.weight.copy_ (weight)\n",
        "  _ = fcnew.bias.copy_ (bias)"
      ]
    },
    {
      "cell_type": "markdown",
      "metadata": {
        "id": "-0TUhiSaxX8s"
      },
      "source": [
        "#### Fusing convolutional and batch normalization layer"
      ]
    },
    {
      "cell_type": "code",
      "execution_count": null,
      "metadata": {
        "id": "sK6yYPjUxYJN"
      },
      "outputs": [],
      "source": [
        "def fuse_all_conv_bn(model):\n",
        "    stack = []\n",
        "    for name, module in model.named_children():\n",
        "        if list(module.named_children()):\n",
        "            fuse_all_conv_bn(module)\n",
        "\n",
        "        if isinstance(module, nn.BatchNorm2d):\n",
        "            if isinstance(stack[-1][1], nn.Conv2d):\n",
        "                setattr(model, stack[-1][0], fuse_conv_bn_eval(stack[-1][1], module))\n",
        "                setattr(model, name, nn.Identity())\n",
        "        else:\n",
        "            stack.append((name, module))\n",
        "\n",
        "net.eval()\n",
        "fuse_all_conv_bn(net)\n",
        "\n",
        "PATH = './mnist_net_collapsed.pth'\n",
        "torch.save(net.state_dict(), PATH)"
      ]
    },
    {
      "cell_type": "markdown",
      "metadata": {
        "id": "XhkYM1XyxuNV"
      },
      "source": [
        "#### Collapsed SLAF"
      ]
    },
    {
      "cell_type": "code",
      "execution_count": null,
      "metadata": {
        "colab": {
          "base_uri": "https://localhost:8080/"
        },
        "id": "nfuV4Eavxxqs",
        "outputId": "2e02fef8-7e4c-4214-bcda-90812501d9d7"
      },
      "outputs": [
        {
          "name": "stdout",
          "output_type": "stream",
          "text": [
            "ConvNet(\n",
            "  (conv1): Conv2d(1, 20, kernel_size=(5, 5), stride=(2, 2), padding=(1, 1))\n",
            "  (fcnew): Linear(in_features=3380, out_features=100, bias=True)\n",
            "  (fc2): Linear(in_features=100, out_features=10, bias=True)\n",
            "  (slu): soft_poly()\n",
            "  (cslu): conv_soft_poly()\n",
            ")\n"
          ]
        }
      ],
      "source": [
        "import torch\n",
        "import torch.nn as nn\n",
        "import torch.nn.functional as F\n",
        "\n",
        "class soft_poly(torch.nn.Module):\n",
        "    def __init__(self, in_features, alpha = None):\n",
        "        super(soft_poly,self).__init__()\n",
        "        self.in_features = in_features\n",
        "        self.alpha = alpha\n",
        "\n",
        "        if alpha == None:\n",
        "            self.alpha = nn.Parameter(torch.tensor(1000,64, device = device))\n",
        "        else:\n",
        "            for i in range(alpha + 1):\n",
        "                tensor_new = torch.nn.Parameter(torch.zeros(1, device = device))\n",
        "                setattr(self, \"alpha\" + str(i), tensor_new)\n",
        "                setattr(self, \"alpha\" + str(i) + \".requiresGrad\", True)\n",
        "\n",
        "    def forward(self, x, size):\n",
        "        ar_al = torch.zeros(self.alpha + 1, len(x), size, device = device)\n",
        "        f = open('f1.txt', 'w')\n",
        "        for i in range(self.alpha + 1):\n",
        "            temp = getattr(self, \"alpha\" + str(i))\n",
        "            ar_al[i] = temp * (x**i)\n",
        "            f.write(str(temp.data.tolist()) + '\\n')\n",
        "        f.close()\n",
        "        return torch.sum(ar_al, dim=0)\n",
        "\n",
        "class conv_soft_poly(torch.nn.Module):\n",
        "    def __init__(self, in_features, alpha = None):\n",
        "        super(conv_soft_poly,self).__init__()\n",
        "        self.in_features = in_features\n",
        "        self.alpha = alpha\n",
        "\n",
        "        # initialize alphai\n",
        "        if alpha == None:\n",
        "            self.alpha = nn.Parameter(torch.tensor(1000,64, device = device))\n",
        "        else:\n",
        "            for i in range(alpha + 1):\n",
        "                tensor_new = torch.nn.Parameter(torch.zeros(1, device = device))\n",
        "                setattr(self, \"alpha\" + str(i), tensor_new)\n",
        "                setattr(self, \"alpha\" + str(i) + \".requiresGrad\", True)\n",
        "\n",
        "    def forward(self, x):\n",
        "        ar_al = torch.zeros(self.alpha + 1, len(x), 20, size_due_padding, size_due_padding, device=device)\n",
        "        f = open('conv.txt', 'w')\n",
        "        for i in range(self.alpha + 1):\n",
        "            temp = getattr(self, \"alpha\" + str(i))\n",
        "            ar_al[i] = temp * (x**i)\n",
        "            f.write(str(temp.data.tolist()) + '\\n')\n",
        "        f.close()\n",
        "        return torch.sum(ar_al, dim=0)\n",
        "\n",
        "class ConvNet(torch.nn.Module):\n",
        "    def __init__(self, hidden=100, output=10):\n",
        "        super(ConvNet, self).__init__()\n",
        "        self.conv1 = nn.Conv2d(1, 20, 5, 2, padding_conv1)\n",
        "        self.fcnew = nn.Linear(3380, hidden)\n",
        "\n",
        "        with torch.no_grad():\n",
        "          _ = self.fcnew.weight.copy_ (weight)\n",
        "          _ = self.fcnew.bias.copy_ (bias)\n",
        "\n",
        "        self.fc2 = nn.Linear(hidden, output)\n",
        "        self.slu = soft_poly(hidden, alpha=3)\n",
        "        self.cslu = conv_soft_poly(hidden, alpha=3)\n",
        "        self.hidden_size = hidden\n",
        "\n",
        "    def forward(self, x):\n",
        "        x = self.conv1(x)\n",
        "        x = self.cslu(x)\n",
        "        x = torch.flatten(x, 1)\n",
        "        x = self.fcnew(x)\n",
        "        x = self.slu(x, 100)\n",
        "        x = self.fc2(x)\n",
        "        return x\n",
        "\n",
        "net_dos = ConvNet()\n",
        "\n",
        "print(net_dos)"
      ]
    },
    {
      "cell_type": "markdown",
      "metadata": {
        "id": "zXwUElEhx7ir"
      },
      "source": [
        "#### Weights control commands"
      ]
    },
    {
      "cell_type": "code",
      "execution_count": null,
      "metadata": {
        "id": "HD9jvfZ9x8Zz"
      },
      "outputs": [],
      "source": [
        "print(dict(net_dos.named_parameters()))"
      ]
    },
    {
      "cell_type": "code",
      "execution_count": null,
      "metadata": {
        "id": "JZp-z-VHx8gc"
      },
      "outputs": [],
      "source": [
        "print(net_dos.fcnew.weight.data[0][0])"
      ]
    },
    {
      "cell_type": "code",
      "execution_count": null,
      "metadata": {
        "id": "l2mT2WrHx8lC"
      },
      "outputs": [],
      "source": [
        "# Recover weights for collapsed model!\n",
        "PATH = './mnist_net_collapsed.pth'\n",
        "net_dos.load_state_dict(torch.load(PATH), strict=False)\n",
        "net = net_dos"
      ]
    },
    {
      "cell_type": "markdown",
      "metadata": {
        "id": "n3t-j1yCg3Cs"
      },
      "source": [
        "### CNN1-SLAF-R"
      ]
    },
    {
      "cell_type": "markdown",
      "metadata": {
        "id": "mnTH1GLMWvRO"
      },
      "source": [
        "1. Train CNN with ReLU (see above)\n",
        "2. Re-train with SLAF-R; weights are fixed using requires_grad = False\n",
        "3. Collapse retrained model\n",
        "4. Test collapsed model"
      ]
    },
    {
      "cell_type": "code",
      "execution_count": null,
      "metadata": {
        "id": "Q0nncL12g6Rs"
      },
      "outputs": [],
      "source": [
        "import torch\n",
        "import torch.nn as nn\n",
        "import torch.nn.functional as F\n",
        "\n",
        "class soft_poly(torch.nn.Module):\n",
        "    def __init__(self, in_features, alpha = None):\n",
        "        super(soft_poly,self).__init__()\n",
        "        self.in_features = in_features\n",
        "        self.alpha = alpha\n",
        "\n",
        "        if alpha == None:\n",
        "            self.alpha = nn.Parameter(torch.tensor(1000,64, device = device))\n",
        "        else:\n",
        "            for i in range(alpha + 1):\n",
        "                tensor_new = torch.nn.Parameter(torch.zeros(1, device = device))\n",
        "                setattr(self, \"alpha\" + str(i), tensor_new)\n",
        "                setattr(self, \"alpha\" + str(i) + \".requiresGrad\", True)\n",
        "\n",
        "    def forward(self, x, size):\n",
        "        ar_al = torch.zeros(self.alpha + 1, len(x), size, device = device)\n",
        "        f = open('f1.txt', 'w')\n",
        "        for i in range(self.alpha + 1):\n",
        "            temp = getattr(self, \"alpha\" + str(i))\n",
        "            ar_al[i] = temp * (x**i)\n",
        "            f.write(str(temp.data.tolist()) + '\\n')\n",
        "        f.close()\n",
        "        return torch.sum(ar_al, dim=0)\n",
        "\n",
        "class conv_soft_poly(torch.nn.Module):\n",
        "    def __init__(self, in_features, alpha = None):\n",
        "        super(conv_soft_poly,self).__init__()\n",
        "        self.in_features = in_features\n",
        "        self.alpha = alpha\n",
        "\n",
        "        # initialize alphai\n",
        "        if alpha == None:\n",
        "            self.alpha = nn.Parameter(torch.tensor(1000,64, device = device))\n",
        "        else:\n",
        "            for i in range(alpha + 1):\n",
        "                tensor_new = torch.nn.Parameter(torch.zeros(1, device = device))\n",
        "                setattr(self, \"alpha\" + str(i), tensor_new)\n",
        "                setattr(self, \"alpha\" + str(i) + \".requiresGrad\", True)\n",
        "\n",
        "    def forward(self, x):\n",
        "        ar_al = torch.zeros(self.alpha + 1, len(x), 20, 13, 13, device=device)\n",
        "        f = open('conv.txt', 'w')\n",
        "        for i in range(self.alpha + 1):\n",
        "            temp = getattr(self, \"alpha\" + str(i))\n",
        "            ar_al[i] = temp * (x**i)\n",
        "            f.write(str(temp.data.tolist()) + '\\n')\n",
        "        f.close()\n",
        "        return torch.sum(ar_al, dim=0)\n",
        "\n",
        "class ConvNet(torch.nn.Module):\n",
        "    def __init__(self, hidden=100, output=10):\n",
        "        super(ConvNet, self).__init__()\n",
        "        self.conv1 = nn.Conv2d(1, 20, 5, 2, 1)\n",
        "        for param in self.conv1.parameters():\n",
        "            param.data.requires_grad = False\n",
        "        self.batch1 = nn.BatchNorm2d(20)\n",
        "        for param in self.batch1.parameters():\n",
        "            param.data.requires_grad = False\n",
        "        self.pool = nn.AvgPool2d(3, stride=2, padding=1)\n",
        "        self.conv2 = nn.Conv2d(20, 50, 5, 1, 0)\n",
        "        for param in self.conv2.parameters():\n",
        "            param.data.requires_grad = False\n",
        "        self.fc1 = nn.Linear(200, hidden)\n",
        "        for param in self.fc1.parameters():\n",
        "            param.data.requires_grad = False\n",
        "        self.batch2 = nn.BatchNorm1d(100)\n",
        "        for param in self.batch2.parameters():\n",
        "            param.data.requires_grad = False\n",
        "        self.fc2 = nn.Linear(hidden, output)\n",
        "        for param in self.fc2.parameters():\n",
        "            param.data.requires_grad = False\n",
        "        self.slu = soft_poly(hidden, alpha=3)\n",
        "        self.cslu = conv_soft_poly(hidden, alpha=3)\n",
        "        self.hidden_size = hidden\n",
        "\n",
        "    def forward(self, x):\n",
        "        x = self.conv1(x)\n",
        "        x = self.batch1(x)\n",
        "        x = self.cslu(x)\n",
        "        x = self.pool(x)\n",
        "        x = self.conv2(x)\n",
        "        x = self.pool(x)\n",
        "        x = torch.flatten(x, 1)\n",
        "        x = self.fc1(x)\n",
        "        x = self.batch2(x)\n",
        "        x = self.slu(x, 100)\n",
        "        x = self.fc2(x)\n",
        "        return x\n",
        "\n",
        "net_dos = ConvNet()\n",
        "\n",
        "if torch.cuda.is_available():\n",
        "  net_dos.to(device)\n",
        "print(net_dos)"
      ]
    },
    {
      "cell_type": "code",
      "execution_count": null,
      "metadata": {
        "id": "KOsJ9j9DtEIz"
      },
      "outputs": [],
      "source": [
        "print(dict(net.named_parameters()))"
      ]
    },
    {
      "cell_type": "code",
      "execution_count": null,
      "metadata": {
        "id": "iBlZQOCDtCMj"
      },
      "outputs": [],
      "source": [
        "PATH = './mnist_net.pth'\n",
        "net_dos.load_state_dict(torch.load(PATH), strict=False)\n",
        "net = net_dos"
      ]
    },
    {
      "cell_type": "markdown",
      "metadata": {
        "id": "QFzl_ax3Ms5N"
      },
      "source": [
        "#### Collapsing linear layers"
      ]
    },
    {
      "cell_type": "code",
      "execution_count": null,
      "metadata": {
        "id": "ACCiZL9JMs5O"
      },
      "outputs": [],
      "source": [
        "_ = torch.manual_seed (2023)\n",
        "# shape of intermediate \"input\" image\n",
        "in_channels = 20\n",
        "h = 13\n",
        "w = h\n",
        "\n",
        "#convolution parameters\n",
        "out_channels = 50\n",
        "kernel = 5\n",
        "stride = 1\n",
        "\n",
        "#fc paramaters\n",
        "in_features=int (out_channels * (((h - kernel) / 2) + 1)**2)\n",
        "in_features= 200\n",
        "out_features = 100\n",
        "\n",
        "#LAYERS DEFINITION\n",
        "#conv2 = torch.nn.Conv2d (in_channels, out_channels, kernel, stride)\n",
        "#fc1 = torch.nn.Linear (in_features, out_features)\n",
        "pool1 = nn.AvgPool2d(3, stride=2, padding=1) ##!!!!!!!!!!!!\n",
        "\n",
        "conv2 = net.conv2\n",
        "fc1 = net.fc1\n",
        "batch = net.batch2\n",
        "\n",
        "# create collapsed bias from conv2 and fc1\n",
        "bias = fc1 (torch.flatten (pool1(conv2 (pool1(torch.zeros (1, in_channels, h, w))))))\n",
        "bias = ((torch.sub(bias, batch.running_mean))/torch.sqrt(torch.add(batch.running_var, batch.eps))) * batch.weight + batch.bias\n",
        "\n",
        "# create collapsed weight from conv2 and fc1 (and bias)\n",
        "# batch of images, each with only a single pixel turned on\n",
        "n_pixels = in_channels * h * w   # number of pixels (including channels) in input image\n",
        "pixel_batch = torch.eye (n_pixels).reshape (n_pixels, in_channels, h, w)\n",
        "weight = (batch(fc1 (torch.flatten (pool1(conv2 (pool1(pixel_batch))), 1))) - bias).T\n",
        "\n",
        "# create collapsed Linear\n",
        "fcnew = torch.nn.Linear (n_pixels, out_features)   # Linear of correct shape\n",
        "\n",
        "# copy in collapsed weight and bias\n",
        "with torch.no_grad():\n",
        "  _ = fcnew.weight.copy_ (weight)\n",
        "  _ = fcnew.bias.copy_ (bias)"
      ]
    },
    {
      "cell_type": "markdown",
      "metadata": {
        "id": "kgF4VCWpxHzM"
      },
      "source": [
        "#### Fusing convolutional and batch normalization layer"
      ]
    },
    {
      "cell_type": "code",
      "execution_count": null,
      "metadata": {
        "id": "7lwKSn7FxZZ0"
      },
      "outputs": [],
      "source": [
        "def fuse_all_conv_bn(model):\n",
        "    stack = []\n",
        "    for name, module in model.named_children():\n",
        "        if list(module.named_children()):\n",
        "            fuse_all_conv_bn(module)\n",
        "\n",
        "        if isinstance(module, nn.BatchNorm2d):\n",
        "            if isinstance(stack[-1][1], nn.Conv2d):\n",
        "                setattr(model, stack[-1][0], fuse_conv_bn_eval(stack[-1][1], module))\n",
        "                setattr(model, name, nn.Identity())\n",
        "        else:\n",
        "            stack.append((name, module))\n",
        "\n",
        "net.eval()\n",
        "fuse_all_conv_bn(net)\n",
        "\n",
        "#Save the model for double training\n",
        "PATH = './mnist_net_collapsed.pth'\n",
        "torch.save(net.state_dict(), PATH)"
      ]
    },
    {
      "cell_type": "markdown",
      "metadata": {
        "id": "3tFjboFMs6hT"
      },
      "source": [
        "#### Collapsed SLAF-R"
      ]
    },
    {
      "cell_type": "code",
      "execution_count": null,
      "metadata": {
        "id": "Y4UO-E6Zs-kD"
      },
      "outputs": [],
      "source": [
        "import torch\n",
        "import torch.nn as nn\n",
        "import torch.nn.functional as F\n",
        "\n",
        "class soft_poly(torch.nn.Module):\n",
        "    def __init__(self, in_features, alpha = None):\n",
        "        super(soft_poly,self).__init__()\n",
        "        self.in_features = in_features\n",
        "        self.alpha = alpha\n",
        "\n",
        "        if alpha == None:\n",
        "            self.alpha = nn.Parameter(torch.tensor(1000,64, device = device))\n",
        "        else:\n",
        "            for i in range(alpha + 1):\n",
        "                tensor_new = torch.nn.Parameter(torch.zeros(1, device = device))\n",
        "                setattr(self, \"alpha\" + str(i), tensor_new)\n",
        "                setattr(self, \"alpha\" + str(i) + \".requiresGrad\", True)\n",
        "\n",
        "    def forward(self, x, size):\n",
        "        ar_al = torch.zeros(self.alpha + 1, len(x), size, device = device)\n",
        "        f = open('f1.txt', 'w')\n",
        "        for i in range(self.alpha + 1):\n",
        "            temp = getattr(self, \"alpha\" + str(i))\n",
        "            ar_al[i] = temp * (x**i)\n",
        "            f.write(str(temp.data.tolist()) + '\\n')\n",
        "        f.close()\n",
        "        return torch.sum(ar_al, dim=0)\n",
        "\n",
        "class conv_soft_poly(torch.nn.Module):\n",
        "    def __init__(self, in_features, alpha = None):\n",
        "        super(conv_soft_poly,self).__init__()\n",
        "        self.in_features = in_features\n",
        "        self.alpha = alpha\n",
        "\n",
        "        # initialize alphai\n",
        "        if alpha == None:\n",
        "            self.alpha = nn.Parameter(torch.tensor(1000,64, device = device))\n",
        "        else:\n",
        "            for i in range(alpha + 1):\n",
        "                tensor_new = torch.nn.Parameter(torch.zeros(1, device = device))\n",
        "                setattr(self, \"alpha\" + str(i), tensor_new) #\n",
        "                setattr(self, \"alpha\" + str(i) + \".requiresGrad\", True)\n",
        "\n",
        "    def forward(self, x):\n",
        "        ar_al = torch.zeros(self.alpha + 1, len(x), 20, 13, 13, device=device)\n",
        "        f = open('conv.txt', 'w')\n",
        "        for i in range(self.alpha + 1):\n",
        "            temp = getattr(self, \"alpha\" + str(i))\n",
        "            ar_al[i] = temp * (x**i)\n",
        "            f.write(str(temp.data.tolist()) + '\\n')\n",
        "        f.close()\n",
        "        return torch.sum(ar_al, dim=0)\n",
        "\n",
        "class ConvNet(torch.nn.Module):\n",
        "    def __init__(self, hidden=100, output=10):\n",
        "        super(ConvNet, self).__init__()\n",
        "        self.conv1 = nn.Conv2d(1, 20, 5, 2, 1)\n",
        "        self.fcnew = nn.Linear(3380, hidden)\n",
        "\n",
        "        with torch.no_grad():\n",
        "          _ = self.fcnew.weight.copy_ (weight)\n",
        "          _ = self.fcnew.bias.copy_ (bias)\n",
        "\n",
        "        self.fc2 = nn.Linear(hidden, output)\n",
        "        self.slu = soft_poly(hidden, alpha=3)\n",
        "        self.cslu = conv_soft_poly(hidden, alpha=3)\n",
        "        self.hidden_size = hidden\n",
        "\n",
        "    def forward(self, x):\n",
        "        x = self.conv1(x)\n",
        "        x = self.cslu(x)\n",
        "        x = torch.flatten(x, 1)\n",
        "        x = self.fcnew(x)\n",
        "        x = self.slu(x, 100)\n",
        "        x = self.fc2(x)\n",
        "        return x\n",
        "\n",
        "net_dos = ConvNet()\n",
        "\n",
        "print(net_dos)"
      ]
    },
    {
      "cell_type": "markdown",
      "metadata": {
        "id": "hPoridYqB7Wf"
      },
      "source": [
        "#### Weights control commands"
      ]
    },
    {
      "cell_type": "code",
      "execution_count": null,
      "metadata": {
        "id": "7d000WsJwdBe"
      },
      "outputs": [],
      "source": [
        "print(dict(net_dos.named_parameters()))"
      ]
    },
    {
      "cell_type": "code",
      "execution_count": null,
      "metadata": {
        "id": "I0mezeeUjRqQ"
      },
      "outputs": [],
      "source": [
        "PATH = './mnist_net_collapsed.pth'\n",
        "net_dos.load_state_dict(torch.load(PATH), strict=False)\n",
        "net = net_dos"
      ]
    },
    {
      "cell_type": "markdown",
      "metadata": {
        "id": "owHjpvQX6QH0"
      },
      "source": [
        "### CNN2-SLAF-P"
      ]
    },
    {
      "cell_type": "markdown",
      "metadata": {
        "id": "BqvqxnPtMdCZ"
      },
      "source": [
        "Polynomial Base"
      ]
    },
    {
      "cell_type": "code",
      "execution_count": null,
      "metadata": {
        "colab": {
          "base_uri": "https://localhost:8080/",
          "height": 534
        },
        "id": "5-6hev2j6Q2c",
        "outputId": "e950d21e-c2fa-4e54-fb5f-6debd6896d2f"
      },
      "outputs": [
        {
          "name": "stdout",
          "output_type": "stream",
          "text": [
            "APPROXIMATING BY LEAST SQUARES ...\n",
            "[-8.43752578e-04  2.81249562e-01  4.68762422e-06 -2.18749234e-03]\n",
            "WRITING IN F1 y CONV FILES ...\n",
            "           3             2\n",
            "-0.002187 x + 4.688e-06 x + 0.2812 x - 0.0008438\n"
          ]
        },
        {
          "data": {
            "text/plain": [
              "[<matplotlib.lines.Line2D at 0x7efbb34b68f0>]"
            ]
          },
          "execution_count": 17,
          "metadata": {},
          "output_type": "execute_result"
        },
        {
          "data": {
            "image/png": "[encoded data removed]",
            "text/plain": [
              "<Figure size 640x480 with 1 Axes>"
            ]
          },
          "metadata": {},
          "output_type": "display_data"
        }
      ],
      "source": [
        "GRADO = 3\n",
        "\n",
        "def sign(x_my):\n",
        "  if x_my > 0:\n",
        "    return 1\n",
        "  elif x_my < 0:\n",
        "    return -1\n",
        "  else:\n",
        "    return 0\n",
        "\n",
        "def comparison(enc_x):\n",
        "    return enc_x.polyval([0.5, 0.197, 0, -0.004])\n",
        "\n",
        "z_my = np.arange(-10, 10, 0.01)\n",
        "y_my = np.sign(z_my)\n",
        "\n",
        "LEAST_SQUARES = 0\n",
        "COMPOSITION = 1\n",
        "CHEBYSHEV = 2\n",
        "NEWTHON = 3\n",
        "FOURIER = 4\n",
        "\n",
        "SELECTION = LEAST_SQUARES\n",
        "\n",
        "if SELECTION == LEAST_SQUARES:\n",
        "    print(\"APPROXIMATING BY LEAST SQUARES ....\")\n",
        "    polynomial = np.polyfit(z_my, y_my, GRADO)\n",
        "    polynomial = polynomial[::-1]\n",
        "    print(polynomial)\n",
        "    print(\"WRITING IN F1 y CONV FILES ....\")\n",
        "    f = open('f1.txt', 'w')\n",
        "    conv = open('conv.txt', 'w')\n",
        "    for i in range(GRADO + 1):\n",
        "        f.write('['+str(polynomial[i].tolist()) +']'+ '\\n')\n",
        "        conv.write('['+str(polynomial[i].tolist()) +']'+ '\\n')\n",
        "    f.close()\n",
        "    conv.close()\n",
        "\n",
        "elif SELECTION == CHEBYSHEV:\n",
        "    print(\"APPROXIMATING BY CHEBYSHEV\")\n",
        "    if GRADO == 3:\n",
        "        polynomial = [0, (7/3)*(1/10), 0, -(4/3)*(1/1000)]\n",
        "    else:\n",
        "        polynomial = [0, 1.2797, 0, -0.4444, 0, 0.2901 ,0, -0.2365, 0, 0.1111]\n",
        "    print(polynomial)\n",
        "    print(\"WRITING IN F1 y CONV FILES ....\")\n",
        "    f = open('f1.txt', 'w')\n",
        "    conv = open('conv.txt', 'w')\n",
        "    for i in range(GRADO + 1):\n",
        "        f.write('['+str(polynomial[i]) +']'+ '\\n')\n",
        "        conv.write('['+str(polynomial[i]) +']'+ '\\n')\n",
        "    f.close()\n",
        "    conv.close()\n",
        "\n",
        "elif SELECTION == COMPOSITION:\n",
        "    print(\"APPROXIMATING BY COMPOSITION ....\")\n",
        "    if GRADO == 3:\n",
        "        polynomial = [0, (2126/1024)*(1/10), 0, (-1359/1024)*(1/1000)]\n",
        "    else:\n",
        "        f = np.poly1d([(-1/2), 0, (3/2),0])\n",
        "        g = np.poly1d([(-1359/1024), 0, (2126/1024),0])\n",
        "        polynomial = f(g)\n",
        "    print(polynomial)\n",
        "    print(\"WRITING IN F1 y CONV FILES ....\")\n",
        "    f = open('f1.txt', 'w')\n",
        "    conv = open('conv.txt', 'w')\n",
        "    for i in range(GRADO + 1):\n",
        "        f.write('['+str(polynomial[i]) +']'+ '\\n')\n",
        "        conv.write('['+str(polynomial[i]) +']'+ '\\n')\n",
        "    f.close()\n",
        "    conv.close()\n",
        "\n",
        "elif SELECTION == NEWTHON:\n",
        "    print(\"APPROXIMATING BY NEWTON ....\")\n",
        "    polynomial = [0, (3/2)*(1/10), 0, (-1/2)*(1/1000)]\n",
        "    print(polynomial)\n",
        "    print(\"WRITING IN F1 y CONV FILES ....\")\n",
        "    f = open('f1.txt', 'w')\n",
        "    conv = open('conv.txt', 'w')\n",
        "    for i in range(GRADO + 1):\n",
        "        f.write('['+str(polynomial[i]) +']'+ '\\n')\n",
        "        conv.write('['+str(polynomial[i]) +']'+ '\\n')\n",
        "    f.close()\n",
        "    conv.close()\n",
        "\n",
        "## GRAPH THE POLYNOMIAL\n",
        "f = open('conv.txt', 'r')\n",
        "list_take=[]\n",
        "\n",
        "for i in range(GRADO + 1):\n",
        "    take = float(f.readline().replace('[','').replace(']',''))\n",
        "    list_take.append(take)\n",
        "f.close()\n",
        "\n",
        "list_take.reverse()\n",
        "poly_ = np.poly1d(list_take)\n",
        "print(poly_)\n",
        "\n",
        "fig = plt.figure()\n",
        "ax = fig.add_subplot(111)\n",
        "poly_ff = [np.polyval(poly_, i) for i in z_my]\n",
        "\n",
        "ax.plot(z_my, poly_ff)"
      ]
    },
    {
      "cell_type": "markdown",
      "source": [
        "CNN2 model using SLAF-P"
      ],
      "metadata": {
        "id": "E3b5pmuu8IAh"
      }
    },
    {
      "cell_type": "code",
      "execution_count": null,
      "metadata": {
        "id": "QGAN9C13NebC"
      },
      "outputs": [],
      "source": [
        "import torch\n",
        "import torch.nn as nn\n",
        "import torch.nn.functional as F\n",
        "\n",
        "size_due_padding = 13\n",
        "input_due_padding = 200\n",
        "padding_conv1 = 1\n",
        "\n",
        "class soft_poly(torch.nn.Module):\n",
        "    def __init__(self, in_features, alpha = None):\n",
        "        super(soft_poly,self).__init__()\n",
        "        self.in_features = in_features\n",
        "        self.alpha = alpha\n",
        "\n",
        "        if alpha == None:\n",
        "            self.alpha = nn.Parameter(torch.tensor(1000,64, device = device))\n",
        "        else:\n",
        "            f = open('f1.txt', 'r')\n",
        "            for i in range(alpha + 1):\n",
        "                next_value = float(f.readline().replace('[','').replace(']',''))\n",
        "                setattr(self, \"alpha\" + str(i), torch.tensor(next_value, device = device))\n",
        "                setattr(self, \"alpha\" + str(i) + \".requiresGrad\", True)\n",
        "            f.close()\n",
        "\n",
        "    def forward(self, x, size):\n",
        "        ar_al = torch.zeros(self.alpha + 1, len(x), size, device = device)\n",
        "        f = open('f1.txt', 'w')\n",
        "        for i in range(self.alpha + 1):\n",
        "            temp = getattr(self, \"alpha\" + str(i))\n",
        "            ar_al[i] = temp * (x**i)\n",
        "            f.write(str(temp.data.tolist()) + '\\n')\n",
        "        f.close()\n",
        "        return torch.sum(ar_al, dim=0)\n",
        "\n",
        "class conv_soft_poly(torch.nn.Module):\n",
        "    def __init__(self, in_features, alpha = None):\n",
        "        super(conv_soft_poly,self).__init__()\n",
        "        self.in_features = in_features\n",
        "        self.alpha = alpha\n",
        "\n",
        "        if alpha == None:\n",
        "            self.alpha = nn.Parameter(torch.tensor(1000,64, device = device))\n",
        "        else:\n",
        "            f = open('conv.txt', 'r')\n",
        "            for i in range(alpha + 1):\n",
        "                next_value = float(f.readline().replace('[','').replace(']',''))\n",
        "                setattr(self, \"alpha\" + str(i), torch.tensor(next_value, device = device))\n",
        "                setattr(self, \"alpha\" + str(i) + \".requiresGrad\", True)\n",
        "            f.close()\n",
        "\n",
        "    def forward(self, x):\n",
        "        ar_al = torch.zeros(self.alpha + 1, len(x), 20, size_due_padding, size_due_padding, device=device)\n",
        "        f = open('conv.txt', 'w')\n",
        "        for i in range(self.alpha + 1):\n",
        "            temp = getattr(self, \"alpha\" + str(i))\n",
        "            ar_al[i] = temp * (x**i)\n",
        "            f.write(str(temp.data.tolist()) + '\\n')\n",
        "        f.close()\n",
        "        return torch.sum(ar_al, dim=0)\n",
        "\n",
        "class ConvNet(torch.nn.Module):\n",
        "    def __init__(self, hidden=100, output=10):\n",
        "        super(ConvNet, self).__init__()\n",
        "        self.conv1 = nn.Conv2d(1, 20, 5, 2, padding_conv1)\n",
        "        for param in self.conv1.parameters():\n",
        "            param.data.requires_grad = False\n",
        "        self.batch1 = nn.BatchNorm2d(20)\n",
        "        for param in self.batch1.parameters():\n",
        "            param.data.requires_grad = False\n",
        "        self.pool = nn.AvgPool2d(3, stride=2, padding=1)\n",
        "        self.conv2 = nn.Conv2d(20, 50, 5, 1, 0)\n",
        "        for param in self.conv2.parameters():\n",
        "            param.data.requires_grad = False\n",
        "        self.fc1 = nn.Linear(input_due_padding, hidden)\n",
        "        for param in self.fc1.parameters():\n",
        "            param.data.requires_grad = False\n",
        "        self.batch2 = nn.BatchNorm1d(100)\n",
        "        for param in self.batch2.parameters():\n",
        "            param.data.requires_grad = False\n",
        "        self.fc2 = nn.Linear(hidden, output)\n",
        "        for param in self.fc2.parameters():\n",
        "            param.data.requires_grad = False\n",
        "        self.slu = soft_poly(hidden, alpha=3)\n",
        "        self.cslu = conv_soft_poly(hidden, alpha=3)\n",
        "        self.hidden_size = hidden\n",
        "\n",
        "    def forward(self, x):\n",
        "        x = self.conv1(x)\n",
        "        x = self.batch1(x)\n",
        "        #ReLU using sign function approximations\n",
        "        x = (x + x*self.cslu(x))/2\n",
        "        x = self.pool(x)\n",
        "        x = self.conv2(x)\n",
        "        x = self.pool(x)\n",
        "        x = torch.flatten(x, 1)\n",
        "        x = self.fc1(x)\n",
        "        x = self.batch2(x)\n",
        "        x = (x + x*self.slu(x, 100))/2\n",
        "        x = self.fc2(x)\n",
        "        return x\n",
        "\n",
        "net_dos = ConvNet()\n",
        "\n",
        "device = torch.device('cuda:0' if torch.cuda.is_available() else 'cpu')\n",
        "print(device)"
      ]
    },
    {
      "cell_type": "code",
      "execution_count": null,
      "metadata": {
        "id": "YXu-Vt4hNfUI"
      },
      "outputs": [],
      "source": [
        "print(net_dos.state_dict())"
      ]
    },
    {
      "cell_type": "code",
      "execution_count": null,
      "metadata": {
        "id": "kfOqG7v8Nfmo"
      },
      "outputs": [],
      "source": [
        "PATH = './mnist_net_.pth'\n",
        "net_dos.load_state_dict(torch.load(PATH), strict=False)\n",
        "net = net_dos\n",
        "#OPTIONAL: net = nn.DataParallel(net)"
      ]
    },
    {
      "cell_type": "markdown",
      "metadata": {
        "id": "9yx6ft3dTo7H"
      },
      "source": [
        "#### Collapsing linear layers"
      ]
    },
    {
      "cell_type": "code",
      "execution_count": null,
      "metadata": {
        "id": "gUK-Pzg8ToQY"
      },
      "outputs": [],
      "source": [
        "_ = torch.manual_seed (2023)\n",
        "# shape of intermediate \"input\" image\n",
        "in_channels = 20\n",
        "h = size_due_padding\n",
        "w = h\n",
        "\n",
        "#convolution parameters\n",
        "out_channels = 50\n",
        "kernel = 5\n",
        "stride = 1\n",
        "\n",
        "#fc paramaters\n",
        "in_features=int (out_channels * (((h - kernel) / 2) + 1)**2)\n",
        "in_features= input_due_padding\n",
        "out_features = 100\n",
        "\n",
        "#LAYERS DEFINITION\n",
        "#conv2 = torch.nn.Conv2d (in_channels, out_channels, kernel, stride)\n",
        "#fc1 = torch.nn.Linear (in_features, out_features)\n",
        "pool1 = nn.AvgPool2d(3, stride=2, padding=1) ##!!!!!!!!!!!!\n",
        "\n",
        "conv2 = net.conv2\n",
        "fc1 = net.fc1\n",
        "batch = net.batch2\n",
        "\n",
        "# create collapsed bias from conv2 and fc1\n",
        "bias = fc1 (torch.flatten (pool1(conv2 (pool1(torch.zeros (1, in_channels, h, w))))))\n",
        "bias = ((torch.sub(bias, batch.running_mean))/torch.sqrt(torch.add(batch.running_var, batch.eps))) * batch.weight + batch.bias\n",
        "\n",
        "# create collapsed weight from conv2 and fc1 (and bias)\n",
        "# batch of images, each with only a single pixel turned on\n",
        "n_pixels = in_channels * h * w   # number of pixels (including channels) in input image\n",
        "pixel_batch = torch.eye (n_pixels).reshape (n_pixels, in_channels, h, w)\n",
        "weight = (batch(fc1 (torch.flatten (pool1(conv2 (pool1(pixel_batch))), 1))) - bias).T\n",
        "\n",
        "# create collapsed Linear\n",
        "fcnew = torch.nn.Linear (n_pixels, out_features)   # Linear of correct shape\n",
        "\n",
        "# copy in collapsed weight and bias\n",
        "with torch.no_grad():\n",
        "  _ = fcnew.weight.copy_ (weight)\n",
        "  _ = fcnew.bias.copy_ (bias)"
      ]
    },
    {
      "cell_type": "markdown",
      "metadata": {
        "id": "FuugMY0jTrEP"
      },
      "source": [
        "#### Fusing convolutional and batch normalization layer"
      ]
    },
    {
      "cell_type": "code",
      "execution_count": null,
      "metadata": {
        "id": "OU0xNbtkTrL2"
      },
      "outputs": [],
      "source": [
        "def fuse_all_conv_bn(model):\n",
        "    stack = []\n",
        "    for name, module in model.named_children():\n",
        "        if list(module.named_children()):\n",
        "            fuse_all_conv_bn(module)\n",
        "\n",
        "        if isinstance(module, nn.BatchNorm2d):\n",
        "            if isinstance(stack[-1][1], nn.Conv2d):\n",
        "                setattr(model, stack[-1][0], fuse_conv_bn_eval(stack[-1][1], module))\n",
        "                setattr(model, name, nn.Identity())\n",
        "        else:\n",
        "            stack.append((name, module))\n",
        "\n",
        "net.eval()\n",
        "fuse_all_conv_bn(net)\n",
        "\n",
        "PATH = './mnist_net_collapsed.pth'\n",
        "torch.save(net.state_dict(), PATH)"
      ]
    },
    {
      "cell_type": "code",
      "execution_count": null,
      "metadata": {
        "id": "0N5T4bnCpzYy"
      },
      "outputs": [],
      "source": [
        "print(net.state_dict())"
      ]
    },
    {
      "cell_type": "markdown",
      "metadata": {
        "id": "45uvgWk_Txse"
      },
      "source": [
        "#### Collapsed SLAF-P"
      ]
    },
    {
      "cell_type": "code",
      "execution_count": null,
      "metadata": {
        "colab": {
          "base_uri": "https://localhost:8080/"
        },
        "id": "-hN5neACTwAW",
        "outputId": "b82448ab-3b70-4cf8-fabd-3b8dd792f638"
      },
      "outputs": [
        {
          "name": "stdout",
          "output_type": "stream",
          "text": [
            "ConvNet(\n",
            "  (conv1): Conv2d(1, 20, kernel_size=(5, 5), stride=(2, 2), padding=(1, 1))\n",
            "  (fcnew): Linear(in_features=3380, out_features=100, bias=True)\n",
            "  (fc2): Linear(in_features=100, out_features=10, bias=True)\n",
            "  (slu): soft_poly()\n",
            "  (cslu): conv_soft_poly()\n",
            ")\n"
          ]
        }
      ],
      "source": [
        "class soft_poly(torch.nn.Module):\n",
        "    def __init__(self, in_features, alpha = None):\n",
        "        super(soft_poly,self).__init__()\n",
        "        self.in_features = in_features\n",
        "        self.alpha = alpha\n",
        "\n",
        "        if alpha == None:\n",
        "            self.alpha = nn.Parameter(torch.tensor(1000,64, device = device)) # create a tensor out of alpha\n",
        "        else:\n",
        "            f = open('f1.txt', 'r')\n",
        "            for i in range(alpha + 1):\n",
        "                next_value = float(f.readline())\n",
        "                setattr(self, \"alpha\" + str(i), torch.tensor(next_value, device = device))\n",
        "                setattr(self, \"alpha\" + str(i) + \".requiresGrad\", True) # set requiresGrad to true!\n",
        "            f.close()\n",
        "\n",
        "    def forward(self, x, size):\n",
        "        ar_al = torch.zeros(self.alpha + 1, len(x), size, device = device)\n",
        "        f = open('f1.txt', 'w')\n",
        "        for i in range(self.alpha + 1):\n",
        "            temp = getattr(self, \"alpha\" + str(i))\n",
        "            ar_al[i] = temp * (x**i)  # create a tensor out of alpha\n",
        "            f.write(str(temp.data.tolist()) + '\\n')\n",
        "        f.close()\n",
        "        return torch.sum(ar_al, dim=0)\n",
        "\n",
        "class conv_soft_poly(torch.nn.Module):\n",
        "    def __init__(self, in_features, alpha = None):\n",
        "        super(conv_soft_poly,self).__init__()\n",
        "        self.in_features = in_features\n",
        "        self.alpha = alpha\n",
        "\n",
        "        if alpha == None:\n",
        "            self.alpha = nn.Parameter(torch.tensor(1000,64, device = device))\n",
        "        else:\n",
        "            f = open('conv.txt', 'r')\n",
        "            for i in range(alpha + 1):\n",
        "                next_value = float(f.readline())\n",
        "                setattr(self, \"alpha\" + str(i), torch.tensor(next_value, device = device))\n",
        "                setattr(self, \"alpha\" + str(i) + \".requiresGrad\", True)\n",
        "            f.close()\n",
        "\n",
        "    def forward(self, x):\n",
        "        ar_al = torch.zeros(self.alpha + 1, len(x), 20, size_due_padding, size_due_padding, device=device)\n",
        "        f = open('conv.txt', 'w')\n",
        "        for i in range(self.alpha + 1):\n",
        "            temp = getattr(self, \"alpha\" + str(i))\n",
        "            ar_al[i] = temp * (x**i)  # create a tensor out of alpha\n",
        "            f.write(str(temp.data.tolist()) + '\\n')\n",
        "        f.close()\n",
        "        return torch.sum(ar_al, dim=0)\n",
        "\n",
        "class ConvNet(torch.nn.Module):\n",
        "    def __init__(self, hidden=100, output=10):\n",
        "        super(ConvNet, self).__init__()\n",
        "        self.conv1 = nn.Conv2d(1, 20, 5, 2, padding_conv1)\n",
        "        self.fcnew = nn.Linear(3380, hidden) #2880\n",
        "\n",
        "        with torch.no_grad():\n",
        "          _ = self.fcnew.weight.copy_ (weight)\n",
        "          _ = self.fcnew.bias.copy_ (bias)\n",
        "\n",
        "        self.fc2 = nn.Linear(hidden, output)\n",
        "        self.slu = soft_poly(hidden, alpha=3)\n",
        "        self.cslu = conv_soft_poly(hidden, alpha=3)\n",
        "        self.hidden_size = hidden\n",
        "\n",
        "    def forward(self, x):\n",
        "        x = self.conv1(x)\n",
        "        x = (x + x*self.cslu(x))/2\n",
        "        x = torch.flatten(x, 1)\n",
        "        x = self.fcnew(x)\n",
        "        x = (x + x*self.slu(x, 100))/2\n",
        "        x = self.fc2(x)\n",
        "        return x\n",
        "\n",
        "net_dos = ConvNet()\n",
        "\n",
        "print(net_dos)"
      ]
    },
    {
      "cell_type": "markdown",
      "metadata": {
        "id": "kC8gjS6kT7UN"
      },
      "source": [
        "#### Weights control commands"
      ]
    },
    {
      "cell_type": "code",
      "execution_count": null,
      "metadata": {
        "id": "2bpCvYijT7xO"
      },
      "outputs": [],
      "source": [
        "print(dict(net.named_parameters()))"
      ]
    },
    {
      "cell_type": "code",
      "execution_count": null,
      "metadata": {
        "id": "oEe4TuoST9gu"
      },
      "outputs": [],
      "source": [
        "print(net_dos.fcnew.weight.data[0][0])"
      ]
    },
    {
      "cell_type": "code",
      "execution_count": null,
      "metadata": {
        "id": "122BYIOEUBtW"
      },
      "outputs": [],
      "source": [
        "PATH = './mnist_net_collapsed.pth'\n",
        "net_dos.load_state_dict(torch.load(PATH), strict=False)\n",
        "net = net_dos"
      ]
    },
    {
      "cell_type": "code",
      "execution_count": null,
      "metadata": {
        "id": "iomUWfrSDQwg"
      },
      "outputs": [],
      "source": [
        "PATH = './mnist_net_.pth'\n",
        "net_dos.load_state_dict(torch.load(PATH), strict=False)\n",
        "net = net_dos"
      ]
    },
    {
      "cell_type": "markdown",
      "metadata": {
        "id": "3jPjwzD-5iWj"
      },
      "source": [
        "### CNN2-ReLU (without padding)"
      ]
    },
    {
      "cell_type": "code",
      "execution_count": null,
      "metadata": {
        "id": "XVDRWGjV5m9x"
      },
      "outputs": [],
      "source": [
        "import torch\n",
        "import torch.nn as nn\n",
        "import torch.nn.functional as F\n",
        "\n",
        "onecycle=1\n",
        "\n",
        "class Net(nn.Module):\n",
        "    def __init__(self):\n",
        "        super(Net, self).__init__()\n",
        "        self.conv1 = nn.Conv2d(1, 20, 5, 2, 0)\n",
        "        nn.init.kaiming_normal_(self.conv1.weight)\n",
        "        self.batch1 = nn.BatchNorm2d(20)\n",
        "        self.pool = nn.AvgPool2d(3, stride=2, padding=1)\n",
        "        self.conv2 = nn.Conv2d(20, 50, 5, 1, 0)\n",
        "        nn.init.kaiming_normal_(self.conv2.weight)\n",
        "        self.fc1 = nn.Linear(50, 100)\n",
        "        self.batch2 = nn.BatchNorm1d(100)\n",
        "        self.fc2 = nn.Linear(100, 10)\n",
        "\n",
        "    def forward(self, x):\n",
        "        x = self.conv1(x)\n",
        "        x = self.batch1(x)\n",
        "        x = F.relu(x)\n",
        "        x = self.pool(x)\n",
        "        x = self.conv2(x)\n",
        "        x = self.pool(x)\n",
        "        x = torch.flatten(x, 1)\n",
        "        x = self.fc1(x)\n",
        "        x = self.batch2(x)\n",
        "        x = F.relu(x)\n",
        "        x = self.fc2(x)\n",
        "        return x\n",
        "\n",
        "net = Net()\n",
        "print(net)\n",
        "\n",
        "summary(net, (1, 28, 28))"
      ]
    },
    {
      "cell_type": "markdown",
      "metadata": {
        "id": "G9407oVq7_hX"
      },
      "source": [
        "### CNN2-SLAF-R (without padding)"
      ]
    },
    {
      "cell_type": "markdown",
      "metadata": {
        "id": "WdDtqVcP7_kl"
      },
      "source": [
        "1. Train CNN with ReLU (above)\n",
        "2. Re-train with SLAF-R; weights are fixed using requires_grad = False\n",
        "3. Collapse retrained model\n",
        "4. Test collapsed model"
      ]
    },
    {
      "cell_type": "code",
      "execution_count": null,
      "metadata": {
        "id": "XIFgHEfw8Ph-"
      },
      "outputs": [],
      "source": [
        "import torch\n",
        "import torch.nn as nn\n",
        "import torch.nn.functional as F\n",
        "\n",
        "class soft_poly(torch.nn.Module):\n",
        "    def __init__(self, in_features, alpha = None):\n",
        "        super(soft_poly,self).__init__()\n",
        "        self.in_features = in_features\n",
        "        self.alpha = alpha\n",
        "\n",
        "        if alpha == None:\n",
        "            self.alpha = nn.Parameter(torch.tensor(1000,64, device = device))\n",
        "        else:\n",
        "            for i in range(alpha + 1):\n",
        "                tensor_new = torch.nn.Parameter(torch.zeros(1, device = device))\n",
        "                setattr(self, \"alpha\" + str(i), tensor_new)\n",
        "                setattr(self, \"alpha\" + str(i) + \".requiresGrad\", True)\n",
        "\n",
        "    def forward(self, x, size):\n",
        "        ar_al = torch.zeros(self.alpha + 1, len(x), size, device = device)\n",
        "        f = open('f1.txt', 'w')\n",
        "        for i in range(self.alpha + 1):\n",
        "            temp = getattr(self, \"alpha\" + str(i))\n",
        "            ar_al[i] = temp * (x**i)\n",
        "            f.write(str(temp.data.tolist()) + '\\n')\n",
        "        f.close()\n",
        "        return torch.sum(ar_al, dim=0)\n",
        "\n",
        "class conv_soft_poly(torch.nn.Module):\n",
        "    def __init__(self, in_features, alpha = None):\n",
        "        super(conv_soft_poly,self).__init__()\n",
        "        self.in_features = in_features\n",
        "        self.alpha = alpha\n",
        "\n",
        "        # initialize alphai\n",
        "        if alpha == None:\n",
        "            self.alpha = nn.Parameter(torch.tensor(1000,64, device = device))\n",
        "        else:\n",
        "            for i in range(alpha + 1):\n",
        "                tensor_new = torch.nn.Parameter(torch.zeros(1, device = device))\n",
        "                setattr(self, \"alpha\" + str(i), tensor_new)\n",
        "                setattr(self, \"alpha\" + str(i) + \".requiresGrad\", True)\n",
        "\n",
        "    def forward(self, x):\n",
        "        ar_al = torch.zeros(self.alpha + 1, len(x), 20, 12, 12, device=device)\n",
        "        f = open('conv.txt', 'w')\n",
        "        for i in range(self.alpha + 1):\n",
        "            temp = getattr(self, \"alpha\" + str(i))\n",
        "            ar_al[i] = temp * (x**i)\n",
        "            f.write(str(temp.data.tolist()) + '\\n')\n",
        "        f.close()\n",
        "        return torch.sum(ar_al, dim=0)\n",
        "\n",
        "class ConvNet(torch.nn.Module):\n",
        "    def __init__(self, hidden=100, output=10):\n",
        "        super(ConvNet, self).__init__()\n",
        "        self.conv1 = nn.Conv2d(1, 20, 5, 2, 0)\n",
        "        for param in self.conv1.parameters():\n",
        "            param.data.requires_grad = False\n",
        "        self.batch1 = nn.BatchNorm2d(20)\n",
        "        for param in self.batch1.parameters():\n",
        "            param.data.requires_grad = False\n",
        "        self.pool = nn.AvgPool2d(3, stride=2, padding=1)\n",
        "        self.conv2 = nn.Conv2d(20, 50, 5, 1, 0)\n",
        "        for param in self.conv2.parameters():\n",
        "            param.data.requires_grad = False\n",
        "        self.fc1 = nn.Linear(50, hidden)\n",
        "        for param in self.fc1.parameters():\n",
        "            param.data.requires_grad = False\n",
        "        self.batch2 = nn.BatchNorm1d(100)\n",
        "        for param in self.batch2.parameters():\n",
        "            param.data.requires_grad = False\n",
        "        self.fc2 = nn.Linear(hidden, output)\n",
        "        for param in self.fc2.parameters():\n",
        "            param.data.requires_grad = False\n",
        "        self.slu = soft_poly(hidden, alpha=3)\n",
        "        self.cslu = conv_soft_poly(hidden, alpha=3)\n",
        "        self.hidden_size = hidden\n",
        "\n",
        "    def forward(self, x):\n",
        "        x = self.conv1(x)\n",
        "        x = self.batch1(x)\n",
        "        x = self.cslu(x)\n",
        "        x = self.pool(x)\n",
        "        x = self.conv2(x)\n",
        "        x = self.pool(x)\n",
        "        x = torch.flatten(x, 1)\n",
        "        x = self.fc1(x)\n",
        "        x = self.batch2(x)\n",
        "        x = self.slu(x, 100)\n",
        "        x = self.fc2(x)\n",
        "        return x\n",
        "\n",
        "net_dos = ConvNet()\n",
        "\n",
        "if torch.cuda.is_available():\n",
        "  net_dos.to(device)\n",
        "print(net_dos)"
      ]
    },
    {
      "cell_type": "code",
      "execution_count": null,
      "metadata": {
        "id": "XzjAy3Oa9KSZ"
      },
      "outputs": [],
      "source": [
        "print(dict(net.named_parameters()))"
      ]
    },
    {
      "cell_type": "code",
      "execution_count": null,
      "metadata": {
        "id": "HGgkKM8y9Om9"
      },
      "outputs": [],
      "source": [
        "PATH = './mnist_net.pth'\n",
        "net_dos.load_state_dict(torch.load(PATH), strict=False)\n",
        "net = net_dos"
      ]
    },
    {
      "cell_type": "markdown",
      "metadata": {
        "id": "Dmoz-i0t9S58"
      },
      "source": [
        "#### Collapsing linear layers"
      ]
    },
    {
      "cell_type": "code",
      "execution_count": null,
      "metadata": {
        "id": "2u7bd3gd9T2t"
      },
      "outputs": [],
      "source": [
        "_ = torch.manual_seed (2023)\n",
        "# shape of intermediate \"input\" image\n",
        "in_channels = 20\n",
        "h = 12\n",
        "w = h\n",
        "\n",
        "#convolution parameters\n",
        "out_channels = 50\n",
        "kernel = 5\n",
        "stride = 1\n",
        "\n",
        "#fc paramaters\n",
        "in_features=int (out_channels * (((h - kernel) / 2) + 1)**2)\n",
        "in_features= 50\n",
        "out_features = 100\n",
        "\n",
        "#LAYERS DEFINITION\n",
        "#conv2 = torch.nn.Conv2d (in_channels, out_channels, kernel, stride)\n",
        "#fc1 = torch.nn.Linear (in_features, out_features)\n",
        "pool1 = nn.AvgPool2d(3, stride=2, padding=1)\n",
        "\n",
        "conv2 = net.conv2\n",
        "fc1 = net.fc1\n",
        "batch = net.batch2\n",
        "\n",
        "# create collapsed bias from conv2 and fc1\n",
        "bias = fc1 (torch.flatten (pool1(conv2 (pool1(torch.zeros (1, in_channels, h, w))))))\n",
        "bias = ((torch.sub(bias, batch.running_mean))/torch.sqrt(torch.add(batch.running_var, batch.eps))) * batch.weight + batch.bias\n",
        "\n",
        "# create collapsed weight from conv2 and fc1 (and bias)\n",
        "# batch of images, each with only a single pixel turned on\n",
        "n_pixels = in_channels * h * w   # number of pixels (including channels) in input image\n",
        "pixel_batch = torch.eye (n_pixels).reshape (n_pixels, in_channels, h, w)\n",
        "weight = (batch(fc1 (torch.flatten (pool1(conv2 (pool1(pixel_batch))), 1))) - bias).T\n",
        "\n",
        "# create collapsed Linear\n",
        "fcnew = torch.nn.Linear (n_pixels, out_features)   # Linear of correct shape\n",
        "\n",
        "# copy in collapsed weight and bias\n",
        "with torch.no_grad():\n",
        "  _ = fcnew.weight.copy_ (weight)\n",
        "  _ = fcnew.bias.copy_ (bias)"
      ]
    },
    {
      "cell_type": "markdown",
      "metadata": {
        "id": "pcJQlTQX9ZQi"
      },
      "source": [
        "#### Fusing convolutional and batch normalization layer"
      ]
    },
    {
      "cell_type": "code",
      "execution_count": null,
      "metadata": {
        "id": "uJkS5Dgk9ouu"
      },
      "outputs": [],
      "source": [
        "def fuse_all_conv_bn(model):\n",
        "    stack = []\n",
        "    for name, module in model.named_children():\n",
        "        if list(module.named_children()):\n",
        "            fuse_all_conv_bn(module)\n",
        "\n",
        "        if isinstance(module, nn.BatchNorm2d):\n",
        "            if isinstance(stack[-1][1], nn.Conv2d):\n",
        "                setattr(model, stack[-1][0], fuse_conv_bn_eval(stack[-1][1], module))\n",
        "                setattr(model, name, nn.Identity())\n",
        "        else:\n",
        "            stack.append((name, module))\n",
        "\n",
        "net.eval()\n",
        "fuse_all_conv_bn(net)\n",
        "\n",
        "#Save the model for double training\n",
        "PATH = './mnist_net_collapsed.pth'\n",
        "torch.save(net.state_dict(), PATH)"
      ]
    },
    {
      "cell_type": "markdown",
      "metadata": {
        "id": "IpO8gRim9wSx"
      },
      "source": [
        "#### Collapsed SLAF-R (without padding)"
      ]
    },
    {
      "cell_type": "code",
      "execution_count": null,
      "metadata": {
        "colab": {
          "base_uri": "https://localhost:8080/"
        },
        "id": "t5FWKee29w0V",
        "outputId": "03c4c321-c5ea-4f5a-dc6c-f6ff0edd2dcf"
      },
      "outputs": [
        {
          "name": "stdout",
          "output_type": "stream",
          "text": [
            "ConvNet(\n",
            "  (conv1): Conv2d(1, 20, kernel_size=(5, 5), stride=(2, 2))\n",
            "  (fcnew): Linear(in_features=2880, out_features=100, bias=True)\n",
            "  (fc2): Linear(in_features=100, out_features=10, bias=True)\n",
            "  (slu): soft_poly()\n",
            "  (cslu): conv_soft_poly()\n",
            ")\n"
          ]
        }
      ],
      "source": [
        "import torch\n",
        "import torch.nn as nn\n",
        "import torch.nn.functional as F\n",
        "\n",
        "class soft_poly(torch.nn.Module):\n",
        "    def __init__(self, in_features, alpha = None):\n",
        "        super(soft_poly,self).__init__()\n",
        "        self.in_features = in_features\n",
        "        self.alpha = alpha\n",
        "\n",
        "        if alpha == None:\n",
        "            self.alpha = nn.Parameter(torch.tensor(1000,64, device = device)) # create a tensor out of alpha\n",
        "        else:\n",
        "            for i in range(alpha + 1):\n",
        "                tensor_new = torch.nn.Parameter(torch.zeros(1, device = device))\n",
        "                setattr(self, \"alpha\" + str(i), tensor_new) # create a tensor out of alpha\n",
        "                setattr(self, \"alpha\" + str(i) + \".requiresGrad\", True) # set requiresGrad to true!\n",
        "\n",
        "\n",
        "    def forward(self, x, size):\n",
        "        ar_al = torch.zeros(self.alpha + 1, len(x), size, device = device)\n",
        "        f = open('f1.txt', 'w')\n",
        "        for i in range(self.alpha + 1):\n",
        "            temp = getattr(self, \"alpha\" + str(i))\n",
        "            ar_al[i] = temp * (x**i)\n",
        "            f.write(str(temp.data.tolist()) + '\\n')\n",
        "        f.close()\n",
        "        return torch.sum(ar_al, dim=0)\n",
        "\n",
        "class conv_soft_poly(torch.nn.Module):\n",
        "    def __init__(self, in_features, alpha = None):\n",
        "        super(conv_soft_poly,self).__init__()\n",
        "        self.in_features = in_features\n",
        "        self.alpha = alpha\n",
        "\n",
        "        # initialize alphai\n",
        "        if alpha == None:\n",
        "            self.alpha = nn.Parameter(torch.tensor(1000,64, device = device))\n",
        "        else:\n",
        "            for i in range(alpha + 1):\n",
        "                tensor_new = torch.nn.Parameter(torch.zeros(1, device = device))\n",
        "                setattr(self, \"alpha\" + str(i), tensor_new)\n",
        "                setattr(self, \"alpha\" + str(i) + \".requiresGrad\", True)\n",
        "\n",
        "    def forward(self, x):\n",
        "        ar_al = torch.zeros(self.alpha + 1, len(x), 20, 12, 12, device=device)\n",
        "        f = open('conv.txt', 'w')\n",
        "        for i in range(self.alpha + 1):\n",
        "            temp = getattr(self, \"alpha\" + str(i))\n",
        "            ar_al[i] = temp * (x**i)\n",
        "            f.write(str(temp.data.tolist()) + '\\n')\n",
        "        f.close()\n",
        "        return torch.sum(ar_al, dim=0)\n",
        "\n",
        "class ConvNet(torch.nn.Module):\n",
        "    def __init__(self, hidden=100, output=10):\n",
        "        super(ConvNet, self).__init__()\n",
        "        self.conv1 = nn.Conv2d(1, 20, 5, 2, 0)\n",
        "        self.fcnew = nn.Linear(2880, hidden)\n",
        "\n",
        "        with torch.no_grad():\n",
        "          _ = self.fcnew.weight.copy_ (weight)\n",
        "          _ = self.fcnew.bias.copy_ (bias)\n",
        "\n",
        "        self.fc2 = nn.Linear(hidden, output)\n",
        "        self.slu = soft_poly(hidden, alpha=3)\n",
        "        self.cslu = conv_soft_poly(hidden, alpha=3)\n",
        "        self.hidden_size = hidden\n",
        "\n",
        "    def forward(self, x):\n",
        "        x = self.conv1(x)\n",
        "        x = self.cslu(x)\n",
        "        x = torch.flatten(x, 1)\n",
        "        x = self.fcnew(x)\n",
        "        x = self.slu(x, 100)\n",
        "        x = self.fc2(x)\n",
        "        return x\n",
        "\n",
        "net_dos = ConvNet()\n",
        "\n",
        "print(net_dos)"
      ]
    },
    {
      "cell_type": "markdown",
      "metadata": {
        "id": "EWxJV_dW-ELv"
      },
      "source": [
        "#### Weights control commands"
      ]
    },
    {
      "cell_type": "code",
      "execution_count": null,
      "metadata": {
        "id": "U0yqmGSS-IRn"
      },
      "outputs": [],
      "source": [
        "print(dict(net_dos.named_parameters()))"
      ]
    },
    {
      "cell_type": "code",
      "execution_count": null,
      "metadata": {
        "id": "os9-LJhE-Irm"
      },
      "outputs": [],
      "source": [
        "print(net_dos.fcnew.weight.data[0][0])"
      ]
    },
    {
      "cell_type": "code",
      "execution_count": null,
      "metadata": {
        "id": "oz524QfN-IxD"
      },
      "outputs": [],
      "source": [
        "PATH = './mnist_net_collapsed.pth'\n",
        "net_dos.load_state_dict(torch.load(PATH), strict=False)\n",
        "net = net_dos"
      ]
    },
    {
      "cell_type": "markdown",
      "metadata": {
        "id": "gJodE-jYTEQL"
      },
      "source": [
        "### CryptoNets"
      ]
    },
    {
      "cell_type": "code",
      "execution_count": null,
      "metadata": {
        "id": "zwz5eQpNu0xN"
      },
      "outputs": [],
      "source": [
        "import torch\n",
        "import torch.nn as nn\n",
        "import torch.nn.functional as F\n",
        "\n",
        "class Net(nn.Module):\n",
        "    def __init__(self):\n",
        "        super(Net, self).__init__()\n",
        "        self.conv1 = nn.Conv2d(1, 20, 5, 2, 1)\n",
        "        self.pool1 = nn.AvgPool2d(3, stride=1, padding=1)\n",
        "        self.conv2 = nn.Conv2d(20, 50, 5, (2, 2), 0)\n",
        "        self.fc1 = nn.Linear(1250, 100)\n",
        "        self.fc2 = nn.Linear(100, 10)\n",
        "        nn.init.kaiming_normal_(self.conv1.weight)\n",
        "        nn.init.kaiming_normal_(self.conv2.weight)\n",
        "\n",
        "    def forward(self, x):\n",
        "        x = self.conv1(x)\n",
        "        #Use x = x * x for CNN-HE\n",
        "        x = F.relu(x)\n",
        "        x = self.pool1(x)\n",
        "        x = self.conv2(x)\n",
        "        x = self.pool1(x)\n",
        "        x = torch.flatten(x, 1)\n",
        "        x = self.fc1(x)\n",
        "        x = F.relu(x)\n",
        "        x = self.fc2(x)\n",
        "        return x\n",
        "\n",
        "net = Net()\n",
        "print(net)\n",
        "\n",
        "summary(net, (1, 28, 28))"
      ]
    },
    {
      "cell_type": "markdown",
      "metadata": {
        "id": "FoW4_TXsN-m7"
      },
      "source": [
        "#### Collapsing linear layers"
      ]
    },
    {
      "cell_type": "code",
      "execution_count": null,
      "metadata": {
        "id": "er7nVBtNN7R6"
      },
      "outputs": [],
      "source": [
        "_ = torch.manual_seed (2023)\n",
        "# shape of intermediate \"input\" image\n",
        "in_channels = 20\n",
        "h = 13\n",
        "w = h\n",
        "\n",
        "#convolution parameters\n",
        "out_channels = 50\n",
        "kernel = 5\n",
        "stride = 2\n",
        "\n",
        "#fc paramaters\n",
        "in_features=int (out_channels * (((h - kernel) / 2) + 1)**2)\n",
        "out_features = 100\n",
        "\n",
        "#LAYERS DEFINITION\n",
        "#conv2 = torch.nn.Conv2d (in_channels, out_channels, kernel, stride)\n",
        "#fc1 = torch.nn.Linear (in_features, out_features)\n",
        "pool1 = nn.AvgPool2d(3, stride=1, padding=1) ##!!!!!!!!!!!!\n",
        "\n",
        "conv2 = net.conv2\n",
        "fc1 = net.fc1\n",
        "\n",
        "# create collapsed bias from conv2 and fc1\n",
        "bias = fc1 (torch.flatten (pool1(conv2 (pool1(torch.zeros (1, in_channels, h, w))))))\n",
        "\n",
        "# create collapsed weight from conv2 and fc1 (and bias)\n",
        "# batch of images, each with only a single pixel turned on\n",
        "n_pixels = in_channels * h * w   # number of pixels (including channels) in input image\n",
        "pixel_batch = torch.eye (n_pixels).reshape (n_pixels, in_channels, h, w)\n",
        "weight = (fc1 (torch.flatten (pool1(conv2 (pool1(pixel_batch))), 1)) - bias).T\n",
        "\n",
        "# create collapsed Linear\n",
        "fcnew = torch.nn.Linear (n_pixels, out_features)   # Linear of correct shape\n",
        "\n",
        "# copy in collapsed weight and bias\n",
        "with torch.no_grad():\n",
        "  _ = fcnew.weight.copy_ (weight)\n",
        "  _ = fcnew.bias.copy_ (bias)\n",
        "\n",
        "# check on example batch of images\n",
        "input = torch.randn (5, in_channels, h, w)\n",
        "out_two_layer = fc1 (torch.flatten (conv2 (input), 1))\n",
        "out_collapsed = fcnew (torch.flatten (input, 1))\n",
        "\n",
        "torch.allclose (out_collapsed, out_two_layer, atol = 1.e-5)\n",
        "\n",
        "global_weight = weight\n",
        "global_bias = bias"
      ]
    },
    {
      "cell_type": "markdown",
      "metadata": {
        "id": "F3VYS3zPOAom"
      },
      "source": [
        "#### Collapsed CryptoNets"
      ]
    },
    {
      "cell_type": "code",
      "execution_count": null,
      "metadata": {
        "id": "YGZ6b_QUVm2C"
      },
      "outputs": [],
      "source": [
        "class Net(nn.Module):\n",
        "    def __init__(self):\n",
        "        super(Net, self).__init__()\n",
        "        self.conv1 = nn.Conv2d(1, 20, 5, 2, 1)\n",
        "        self.pool1 = nn.AvgPool2d(3, stride=1, padding=1)\n",
        "        self.fcnew = nn.Linear(3380, 100)\n",
        "        self.fc2 = nn.Linear(100, 10)\n",
        "\n",
        "        with torch.no_grad():\n",
        "          _ = self.fcnew.weight.copy_ (weight)\n",
        "          _ = self.fcnew.bias.copy_ (bias)\n",
        "\n",
        "    def forward(self, x):\n",
        "        x = self.conv1(x)\n",
        "        x = F.relu(x)\n",
        "        x = torch.flatten(x, 1)\n",
        "        x = self.fcnew(x)\n",
        "        x = F.relu(x)\n",
        "        x = self.fc2(x)\n",
        "        return x\n",
        "\n",
        "net2 = Net()\n",
        "print(net2)\n",
        "summary(net2, (1, 28, 28))"
      ]
    },
    {
      "cell_type": "markdown",
      "metadata": {
        "id": "2KpcOz4ROG9C"
      },
      "source": [
        "#### Weights control commands"
      ]
    },
    {
      "cell_type": "code",
      "execution_count": null,
      "metadata": {
        "colab": {
          "base_uri": "https://localhost:8080/"
        },
        "id": "ZugzHycdH5CB",
        "outputId": "db92916f-6e0d-4fc0-fdc2-97a6bd1328cb"
      },
      "outputs": [
        {
          "name": "stdout",
          "output_type": "stream",
          "text": [
            "tensor(0.0050)\n"
          ]
        }
      ],
      "source": [
        "print(net2.fcnew.weight.data[0][0])"
      ]
    },
    {
      "cell_type": "code",
      "execution_count": null,
      "metadata": {
        "colab": {
          "base_uri": "https://localhost:8080/"
        },
        "id": "5_AVr7yRLMWi",
        "outputId": "994b8c9c-2c33-4670-9f1c-50908ccc12dc"
      },
      "outputs": [
        {
          "data": {
            "text/plain": [
              "<All keys matched successfully>"
            ]
          },
          "execution_count": 263,
          "metadata": {},
          "output_type": "execute_result"
        }
      ],
      "source": [
        "net.load_state_dict(torch.load('./mnist_net.pth'), strict=False)"
      ]
    },
    {
      "cell_type": "code",
      "execution_count": null,
      "metadata": {
        "id": "c9x1x1IuLmo-"
      },
      "outputs": [],
      "source": [
        "net2.load_state_dict(torch.load('./mnist_net.pth'), strict=False)\n",
        "net = net2"
      ]
    },
    {
      "cell_type": "markdown",
      "metadata": {
        "id": "42OBesPJbPsU"
      },
      "source": [
        "## One-Cycle"
      ]
    },
    {
      "cell_type": "code",
      "execution_count": null,
      "metadata": {
        "id": "Qwgn0y918Cxu"
      },
      "outputs": [],
      "source": [
        "def find_lr(model, optimiser, start_val = 1e-6, end_val = 1, beta = 0.99, loader = train_loader):\n",
        "    n = len(loader) - 1\n",
        "    factor = (end_val / start_val)**(1/n)\n",
        "    lr = start_val\n",
        "    optimiser.param_groups[0]['lr'] = lr\n",
        "    avg_loss, loss, acc = 0., 0., 0.\n",
        "    lowest_loss = 0.\n",
        "    batch_num = 0\n",
        "    losses = []\n",
        "    log_lrs = []\n",
        "    accuracies = []\n",
        "    device = torch.device('cuda:0' if torch.cuda.is_available() else 'cpu')\n",
        "\n",
        "    model = model.to(device=device)\n",
        "    for i, (x, y) in enumerate(loader, start=1):\n",
        "        x = x.to(device = device, dtype = torch.float32)\n",
        "        y = y.to(device = device, dtype = torch.long)\n",
        "        optimiser.zero_grad()\n",
        "        scores = model(x)\n",
        "        cost = F.cross_entropy(input=scores, target=y)\n",
        "        loss = beta*loss + (1-beta)*cost.item()\n",
        "\n",
        "        avg_loss = loss/(1 - beta**i)\n",
        "\n",
        "        acc_ = ((torch.argmax(scores, dim=1) == y).sum()/scores.size(0))\n",
        "        if i > 1 and avg_loss > 4 * lowest_loss:\n",
        "            print(f'from here{i, cost.item()}')\n",
        "            return log_lrs, losses, accuracies\n",
        "        if avg_loss < lowest_loss or i == 1:\n",
        "            lowest_loss = avg_loss\n",
        "\n",
        "        accuracies.append(acc_.item())\n",
        "\n",
        "        losses.append(avg_loss)\n",
        "        log_lrs.append(lr)\n",
        "\n",
        "        cost.backward()\n",
        "        optimiser.step()\n",
        "\n",
        "        print(f'cost:{cost.item():.4f}, lr: {lr:.4f}, acc: {acc_.item():.4f}')\n",
        "        lr *= factor\n",
        "        optimiser.param_groups[0]['lr'] = lr\n",
        "\n",
        "    return log_lrs, losses, accuracies"
      ]
    },
    {
      "cell_type": "markdown",
      "metadata": {
        "id": "BmUFNjUvBGYW"
      },
      "source": [
        "## Training"
      ]
    },
    {
      "cell_type": "code",
      "execution_count": null,
      "metadata": {
        "id": "EDHHC0keNd25"
      },
      "outputs": [],
      "source": [
        "#ADAM\n",
        "import torch.optim as optim\n",
        "onecycle = 0\n",
        "\n",
        "criterion = nn.CrossEntropyLoss()\n",
        "optimizer = optim.Adam(net.parameters(), lr=0.001, weight_decay=1e-4)"
      ]
    },
    {
      "cell_type": "code",
      "execution_count": null,
      "metadata": {
        "colab": {
          "base_uri": "https://localhost:8080/"
        },
        "id": "hoJiuuLSjusD",
        "outputId": "bbbc7b9b-de0a-4001-80f5-30d71ae967e6"
      },
      "outputs": [
        {
          "name": "stdout",
          "output_type": "stream",
          "text": [
            "With One-Cycle\n"
          ]
        }
      ],
      "source": [
        "#SGD with One-cycle\n",
        "import torch.optim as optim\n",
        "onecycle =1\n",
        "criterion = nn.CrossEntropyLoss()\n",
        "if onecycle==1:\n",
        "  optimizer = optim.SGD(net.parameters(), lr=0.1, momentum=0.95, weight_decay=1e-4)\n",
        "  print(\"With One-Cycle\")\n",
        "else:\n",
        "  optimizer = optim.SGD(net.parameters(), lr=0.001, momentum=0.9, weight_decay=1e-4)\n",
        "  print(\"Without One-Cycle\")"
      ]
    },
    {
      "cell_type": "code",
      "execution_count": null,
      "metadata": {
        "id": "F1AgjrhBThOB"
      },
      "outputs": [],
      "source": [
        "lg_lr, losses, accuracies = find_lr(net, optimizer, start_val=1e-6, end_val=10)"
      ]
    },
    {
      "cell_type": "code",
      "execution_count": null,
      "metadata": {
        "id": "8rLR3-v3Uq5P"
      },
      "outputs": [],
      "source": [
        "f1, ax1 = plt.subplots(figsize=(20,10))\n",
        "ax1.plot(lg_lr, losses)\n",
        "ax1.set_xscale('log')\n",
        "ax1.set_xticks([1e-1, 2e-1, 1, 10])\n",
        "ax1.get_xaxis().get_major_formatter().labelOnlyBase = False\n",
        "plt.show()"
      ]
    },
    {
      "cell_type": "code",
      "execution_count": null,
      "metadata": {
        "id": "rRPIwEW_cHj4"
      },
      "outputs": [],
      "source": [
        "scheduler = torch.optim.lr_scheduler.OneCycleLR(optimizer=optimizer,\n",
        "                                                max_lr=2e-1,\n",
        "                                                steps_per_epoch=len(train_loader),\n",
        "                                                epochs = 30, pct_start=0.43,\n",
        "                                                div_factor=10,\n",
        "                                                final_div_factor=1000,\n",
        "                                                three_phase=True, verbose=False\n",
        "                                            )"
      ]
    },
    {
      "cell_type": "code",
      "execution_count": null,
      "metadata": {
        "colab": {
          "base_uri": "https://localhost:8080/"
        },
        "id": "6UQSU_TaRAKU",
        "outputId": "1cc5e8c2-446d-4c28-f881-aa3c181203d6"
      },
      "outputs": [
        {
          "name": "stdout",
          "output_type": "stream",
          "text": [
            "938\n"
          ]
        }
      ],
      "source": [
        "print(len(train_loader))"
      ]
    },
    {
      "cell_type": "code",
      "execution_count": null,
      "metadata": {
        "id": "nVFn0PiEhy4W"
      },
      "outputs": [],
      "source": [
        "def train(model, train_loader, criterion, optimizer, n_epochs=30):\n",
        "    model.train()\n",
        "\n",
        "    if onecycle == 1:\n",
        "      print(\"With One-Cycle\")\n",
        "    else:\n",
        "      print(\"Without One-Cycle\")\n",
        "\n",
        "    for epoch in range(1, n_epochs+1):\n",
        "\n",
        "        train_loss = 0.0\n",
        "        correct_new = 0\n",
        "        total_new = 0\n",
        "        for data, target in train_loader:\n",
        "            if torch.cuda.is_available():\n",
        "              data, target = data.to(device), target.to(device)\n",
        "            optimizer.zero_grad()\n",
        "            output = model(data)\n",
        "            loss = criterion(output, target)\n",
        "            loss.backward()\n",
        "            optimizer.step()\n",
        "            train_loss += loss.item()\n",
        "\n",
        "            _, predicted = torch.max(output.data, 1)\n",
        "            total_new += target.size(0)\n",
        "            correct_new += (predicted == target).sum().item()\n",
        "\n",
        "            #One-cycle\n",
        "            if onecycle == 1:\n",
        "              scheduler.step()\n",
        "\n",
        "        # calculate average losses\n",
        "        train_loss = train_loss / len(train_loader)\n",
        "        acc_new = 100 * correct_new / total_new\n",
        "\n",
        "        print('Epoch: {} \\tTraining Loss: {:.6f} \\tCorrect: {} \\tAccuracy: {:.3f}'.format(epoch, train_loss, correct_new, acc_new))\n",
        "\n",
        "    print('Finished Training')\n",
        "\n",
        "    return model"
      ]
    },
    {
      "cell_type": "code",
      "execution_count": null,
      "metadata": {
        "id": "gZY66ulZiIbW"
      },
      "outputs": [],
      "source": [
        "net = train(net, train_loader, criterion, optimizer)"
      ]
    },
    {
      "cell_type": "code",
      "execution_count": null,
      "metadata": {
        "id": "vJ7y3aIVtAhp"
      },
      "outputs": [],
      "source": [
        "#Save the model for re-training\n",
        "PATH = './mnist_net_.pth'\n",
        "torch.save(net.state_dict(), PATH)"
      ]
    },
    {
      "cell_type": "code",
      "execution_count": null,
      "metadata": {
        "id": "e6fblbIaOa6r"
      },
      "outputs": [],
      "source": [
        "print(check[0])\n",
        "print(check2[0])"
      ]
    },
    {
      "cell_type": "code",
      "execution_count": null,
      "metadata": {
        "id": "WSdXvXSlkASy"
      },
      "outputs": [],
      "source": [
        "dataiter = iter(test_loader)\n",
        "images, labels = dataiter.next()\n",
        "\n",
        "imshow(torchvision.utils.make_grid(images))\n",
        "print('GroundTruth: ', ' '.join(f'{classes[labels[j]]:5s}' for j in range(4)))"
      ]
    },
    {
      "cell_type": "code",
      "execution_count": null,
      "metadata": {
        "id": "Vp4lNby6kmtO"
      },
      "outputs": [],
      "source": [
        "outputs = net(images)"
      ]
    },
    {
      "cell_type": "code",
      "execution_count": null,
      "metadata": {
        "id": "AuVYhA5UkrDl"
      },
      "outputs": [],
      "source": [
        "_, predicted = torch.max(outputs, 1)\n",
        "\n",
        "print('Predicted: ', ' '.join(f'{classes[predicted[j]]:5s}'\n",
        "                              for j in range(4)))"
      ]
    },
    {
      "cell_type": "markdown",
      "metadata": {
        "id": "iC7nM-1uaay9"
      },
      "source": [
        "## Plaintext testing"
      ]
    },
    {
      "cell_type": "code",
      "execution_count": null,
      "metadata": {
        "id": "s1f9Xys_Yfyl"
      },
      "outputs": [],
      "source": [
        "def test(model, test_loader, criterion):\n",
        "    test_loss = 0.0\n",
        "    class_correct = list(0. for i in range(10))\n",
        "    class_total = list(0. for i in range(10))\n",
        "\n",
        "    model.eval()\n",
        "    j = 0\n",
        "    for data, target in test_loader:\n",
        "        if torch.cuda.is_available():\n",
        "            data, target = data.to(device), target.to(device)\n",
        "        output = model(data)\n",
        "        loss = criterion(output, target)\n",
        "        test_loss += loss.item()\n",
        "        _, pred = torch.max(output, 1)\n",
        "        correct = np.squeeze(pred.eq(target.data.view_as(pred)))\n",
        "        for i in range(len(target)):\n",
        "            label = target.data[i]\n",
        "            class_correct[label] += correct[i].item()\n",
        "            class_total[label] += 1\n",
        "\n",
        "    # calculate and print avg test loss\n",
        "    test_loss = test_loss/len(test_loader)\n",
        "    print(f'Test Loss: {test_loss:.6f}\\n')\n",
        "\n",
        "\n",
        "    for label in range(10):\n",
        "        print(\n",
        "            f'Test Accuracy of {label}: {int(100 * class_correct[label] / class_total[label])}% '\n",
        "            f'({int(np.sum(class_correct[label]))}/{int(np.sum(class_total[label]))})'\n",
        "        )\n",
        "\n",
        "    print(\n",
        "        f'\\nTest Accuracy (Overall): {int(100 * np.sum(class_correct) / np.sum(class_total))}% '\n",
        "        f'({int(np.sum(class_correct))}/{int(np.sum(class_total))})'\n",
        "    )"
      ]
    },
    {
      "cell_type": "code",
      "execution_count": null,
      "metadata": {
        "colab": {
          "base_uri": "https://localhost:8080/"
        },
        "id": "prQm_gm2ZdRk",
        "outputId": "65d4b9c3-bba4-4ff5-aa9f-652219f5ae03"
      },
      "outputs": [
        {
          "name": "stdout",
          "output_type": "stream",
          "text": [
            "Test Loss: 0.021133\n",
            "\n",
            "Test Accuracy of 0: 99% (978/980)\n",
            "Test Accuracy of 1: 99% (1130/1135)\n",
            "Test Accuracy of 2: 99% (1026/1032)\n",
            "Test Accuracy of 3: 99% (1004/1010)\n",
            "Test Accuracy of 4: 99% (978/982)\n",
            "Test Accuracy of 5: 99% (886/892)\n",
            "Test Accuracy of 6: 99% (949/958)\n",
            "Test Accuracy of 7: 99% (1021/1028)\n",
            "Test Accuracy of 8: 99% (968/974)\n",
            "Test Accuracy of 9: 99% (999/1009)\n",
            "\n",
            "Test Accuracy (Overall): 99% (9939/10000)\n",
            "2467.928647994995\n"
          ]
        }
      ],
      "source": [
        "t_start = time()\n",
        "test(net, test_loader, criterion)\n",
        "t_end = time()\n",
        "t_total = (t_end - t_start)*1000\n",
        "print(t_total)"
      ]
    },
    {
      "cell_type": "code",
      "execution_count": null,
      "metadata": {
        "colab": {
          "base_uri": "https://localhost:8080/"
        },
        "id": "l-OUXdqZssaz",
        "outputId": "6313601b-58c7-480b-c6f2-314da3c22df4"
      },
      "outputs": [
        {
          "data": {
            "text/plain": [
              "ConvNet(\n",
              "  (conv1): Conv2d(1, 20, kernel_size=(5, 5), stride=(2, 2), padding=(1, 1))\n",
              "  (batch1): BatchNorm2d(20, eps=1e-05, momentum=0.1, affine=True, track_running_stats=True)\n",
              "  (pool): AvgPool2d(kernel_size=3, stride=2, padding=1)\n",
              "  (conv2): Conv2d(20, 50, kernel_size=(5, 5), stride=(1, 1))\n",
              "  (fc1): Linear(in_features=200, out_features=100, bias=True)\n",
              "  (batch2): BatchNorm1d(100, eps=1e-05, momentum=0.1, affine=True, track_running_stats=True)\n",
              "  (fc2): Linear(in_features=100, out_features=10, bias=True)\n",
              "  (slu): soft_poly()\n",
              "  (cslu): conv_soft_poly()\n",
              ")"
            ]
          },
          "execution_count": 11,
          "metadata": {},
          "output_type": "execute_result"
        }
      ],
      "source": [
        "net"
      ]
    },
    {
      "cell_type": "code",
      "execution_count": null,
      "metadata": {
        "id": "EOukZgWaDmgq"
      },
      "outputs": [],
      "source": [
        "correct = 0\n",
        "total = 0\n",
        "\n",
        "with torch.no_grad():\n",
        "    for data in test_loader:\n",
        "        images, labels = data\n",
        "        outputs = net(images)\n",
        "        _, predicted = torch.max(outputs.data, 1)\n",
        "        total += labels.size(0)\n",
        "        correct += (predicted == labels).sum().item()\n",
        "\n",
        "correct_pred = {classname: 0 for classname in classes}\n",
        "total_pred = {classname: 0 for classname in classes}\n",
        "\n",
        "with torch.no_grad():\n",
        "    for data in test_loader:\n",
        "        images, labels = data\n",
        "        outputs = net(images)\n",
        "        _, predictions = torch.max(outputs, 1)\n",
        "        for label, prediction in zip(labels, predictions):\n",
        "            if label == prediction:\n",
        "                correct_pred[classes[label]] += 1\n",
        "            total_pred[classes[label]] += 1\n",
        "\n",
        "for classname, correct_count in correct_pred.items():\n",
        "    accuracy = 100 * float(correct_count) / total_pred[classname]\n",
        "    print(f'{classname:5s} is {accuracy:.2f} %')"
      ]
    },
    {
      "cell_type": "markdown",
      "metadata": {
        "id": "LAMRNOnKkim5"
      },
      "source": [
        "# Ciphertext testing"
      ]
    },
    {
      "cell_type": "markdown",
      "metadata": {
        "id": "nYVJmeSamzHh"
      },
      "source": [
        "COPY F1 and CONV1 to ciphertext files."
      ]
    },
    {
      "cell_type": "markdown",
      "metadata": {
        "id": "Jl6_akRZTKpQ"
      },
      "source": [
        "# CNN2-HE"
      ]
    },
    {
      "cell_type": "markdown",
      "metadata": {
        "id": "vm5tr1igHbV0"
      },
      "source": [
        "## CNN2-HE-SLAF"
      ]
    },
    {
      "cell_type": "code",
      "execution_count": null,
      "metadata": {
        "id": "eH_nWz1J93ry",
        "scrolled": true
      },
      "outputs": [],
      "source": [
        "\"\"\"\n",
        "It's a PyTorch-like model using operations implemented in TenSEAL.\n",
        "    - .mm() method is doing the vector-matrix multiplication explained above.\n",
        "    - you can use + operator to add a plain vector as a bias.\n",
        "    - .conv2d_im2col() method is doing a single convlution operation.\n",
        "    - .square_() just square the encrypted vector inplace.\n",
        "\"\"\"\n",
        "\n",
        "class enc_conv_soft_poly(torch.nn.Module):\n",
        "    def __init__(self, in_features, alpha = None):\n",
        "        super(enc_conv_soft_poly,self).__init__()\n",
        "        self.in_features = in_features\n",
        "        self.alpha = alpha\n",
        "\n",
        "    def forward(self, x, context):\n",
        "        ar_al = ts.ckks_vector(context, torch.zeros(1, device = device))\n",
        "        f = open('t_conv.txt', 'r')\n",
        "        l = [line.strip() for line in f]\n",
        "        t = [float(item) for item in l]\n",
        "        for i in range(self.alpha + 1):\n",
        "            ar_al = ar_al + (x**i)*t[i]\n",
        "        return ar_al\n",
        "\n",
        "class enc_soft_poly(torch.nn.Module):\n",
        "    def __init__(self, in_features, alpha = None):\n",
        "        super(enc_soft_poly,self).__init__()\n",
        "        self.in_features = in_features\n",
        "        self.alpha = alpha\n",
        "\n",
        "    def forward(self, x, context):\n",
        "        ar_al = ts.ckks_vector(context,torch.zeros(1, device=device))\n",
        "        f = open('t_f1.txt', 'r')\n",
        "        l = [line.strip() for line in f]\n",
        "        t = [float(item) for item in l]\n",
        "        for i in range(self.alpha + 1):\n",
        "            temp = (x**i) * t[i]\n",
        "            ar_al = ar_al + temp\n",
        "        return ar_al\n",
        "\n",
        "class EncConvNet:\n",
        "    def __init__(self, torch_nn):\n",
        "        self.conv1_weight = torch_nn.conv1.weight.data.view(\n",
        "            torch_nn.conv1.out_channels, torch_nn.conv1.kernel_size[0],\n",
        "            torch_nn.conv1.kernel_size[1]\n",
        "        ).tolist()\n",
        "        self.conv1_bias = torch_nn.conv1.bias.data.tolist()\n",
        "\n",
        "        self.fcnew_weight = torch_nn.fcnew.weight.T.data.tolist()\n",
        "        self.fcnew_bias = torch_nn.fcnew.bias.data.tolist()\n",
        "        self.fc2_weight = torch_nn.fc2.weight.T.data.tolist()\n",
        "        self.fc2_bias = torch_nn.fc2.bias.data.tolist()\n",
        "        self.slu = enc_soft_poly(100, alpha=3)\n",
        "        self.cslu = enc_conv_soft_poly(10, alpha=3)\n",
        "\n",
        "    def forward(self, enc_x, windows_nb, context):\n",
        "        # conv layer\n",
        "        enc_channels = []\n",
        "        for kernel, bias in zip(self.conv1_weight, self.conv1_bias):\n",
        "            y = enc_x.conv2d_im2col(kernel, windows_nb) + bias\n",
        "            enc_channels.append(y)\n",
        "        # pack all channels into a single flattened vector\n",
        "        enc_x = ts.CKKSVector.pack_vectors(enc_channels)\n",
        "        enc_x = self.cslu(enc_x, context)\n",
        "        # fcnew layer\n",
        "        enc_x = enc_x.mm(self.fcnew_weight) + self.fcnew_bias\n",
        "        enc_x = self.slu(enc_x,  context)\n",
        "        # fc2 layer\n",
        "        enc_x = enc_x.mm(self.fc2_weight) + self.fc2_bias\n",
        "        return enc_x\n",
        "\n",
        "    def __call__(self, *args, **kwargs):\n",
        "        return self.forward(*args, **kwargs)\n",
        "\n",
        "def enc_test(context, model, test_loader, criterion, kernel_shape, stride, prog):\n",
        "    test_loss = 0.0\n",
        "    class_correct = list(0. for i in range(10))\n",
        "    class_total = list(0. for i in range(10))\n",
        "    j = 0\n",
        "    n_n = [0] * 10000\n",
        "    n_n_d = [0] * 10000\n",
        "    for data, target in test_loader:\n",
        "        j = j + 1\n",
        "        start_time = time()\n",
        "        # Encoding and encryption\n",
        "        dat = F.pad(data, (1, 1, 1, 1))\n",
        "        x_enc, windows_nb = ts.im2col_encoding(\n",
        "            context, dat.view(30, 30).tolist(), kernel_shape[0],\n",
        "            kernel_shape[1], stride\n",
        "        )\n",
        "        # Encrypted evaluation\n",
        "        start_time = time()\n",
        "        enc_output = enc_model(x_enc, windows_nb, context)\n",
        "        n_n[j-1] = (time() - start_time)\n",
        "        print(\"only one test time: \",\"--- %s seconds ---\" % (time() - start_time))\n",
        "        # Decryption of result\n",
        "        output = enc_output.decrypt()\n",
        "        output = torch.tensor(output).view(1, -1)\n",
        "        n_n_d[j-1] = (time() - start_time)\n",
        "        # compute loss\n",
        "        loss = criterion(output, target)\n",
        "        test_loss += loss.item()\n",
        "        # convert output probabilities to predicted class\n",
        "        _, pred = torch.max(output, 1)\n",
        "        # compare predictions to true label\n",
        "        correct = np.squeeze(pred.eq(target.data.view_as(pred)))\n",
        "        # calculate test accuracy for each object class\n",
        "        label = target.data[0]\n",
        "        class_correct[label] += correct.item()\n",
        "        class_total[label] += 1\n",
        "\n",
        "    for i in range (0, j-2):\n",
        "        prog.write(str(\"test without decrypt №\") + str(i) + str(\" time: : \") + str(n_n[i]) + str('\\n'))\n",
        "    for i in range (0, j-2):\n",
        "        prog.write(str(\"test with decrypt №\") + str(i) + str(\" time: : \") + str(n_n_d[i]) + str('\\n'))\n",
        "\n",
        "    # calculate and print avg test loss\n",
        "    test_loss = test_loss / sum(class_total)\n",
        "    print(f'Test Loss: {test_loss:.6f}\\n')\n",
        "\n",
        "    for label in range(10):\n",
        "        print(\n",
        "            f'Test Accuracy of {label}: {int(100 * class_correct[label] / class_total[label])}% '\n",
        "            f'({int(np.sum(class_correct[label]))}/{int(np.sum(class_total[label]))})'\n",
        "        )\n",
        "        prog.write(str( f'Test Accuracy of {label}: {int(100 * class_correct[label] / class_total[label])}% ') + str(f'({int(np.sum(class_correct[label]))}/{int(np.sum(class_total[label]))})'))\n",
        "\n",
        "\n",
        "    print(\n",
        "        f'\\nTest Accuracy (Overall): {int(100 * np.sum(class_correct) / np.sum(class_total))}% '\n",
        "        f'({int(np.sum(class_correct))}/{int(np.sum(class_total))})'\n",
        "    )\n",
        "    prog.write(str( f'\\nTest Accuracy (Overall): {int(100 * np.sum(class_correct) / np.sum(class_total))}% ') + str(f'({int(np.sum(class_correct))}/{int(np.sum(class_total))})'))\n",
        "\n",
        "# Load one element at a time\n",
        "test_loader = torch.utils.data.DataLoader(test_data, batch_size=1, shuffle=True)\n",
        "# required for encoding\n",
        "kernel_shape = net.conv1.kernel_size\n",
        "stride = net.conv1.stride[0]"
      ]
    },
    {
      "cell_type": "code",
      "execution_count": null,
      "metadata": {
        "id": "XtLpYGKvEsqy"
      },
      "outputs": [],
      "source": [
        "bits_scale = 26\n",
        "\n",
        "context = ts.context(\n",
        "    ts.SCHEME_TYPE.CKKS,\n",
        "    poly_modulus_degree=16384,\n",
        "    coeff_mod_bit_sizes=[40, bits_scale, bits_scale, bits_scale, bits_scale, bits_scale, bits_scale, bits_scale, bits_scale, bits_scale, bits_scale, bits_scale, 40]\n",
        ")\n",
        "\n",
        "context.global_scale = pow(2, bits_scale)\n",
        "\n",
        "context.generate_galois_keys()"
      ]
    },
    {
      "cell_type": "code",
      "execution_count": null,
      "metadata": {
        "colab": {
          "background_save": true
        },
        "id": "u2AjutyfEuep"
      },
      "outputs": [],
      "source": [
        "enc_model = EncConvNet(net)\n",
        "\n",
        "prog = open('tests.txt', 'w', encoding='utf-8')\n",
        "t_time = time()\n",
        "enc_test(context, enc_model, test_loader, criterion, kernel_shape, stride, prog)\n",
        "print(\"full time process: \",\"--- %s seconds ---\" % (time()- t_time))\n",
        "prog.write(str(\"full time process: \") + str((time() - t_time)))\n",
        "prog.close()"
      ]
    },
    {
      "cell_type": "markdown",
      "metadata": {
        "id": "x-giqA_5_mBG"
      },
      "source": [
        "## CNN2-HE-SLAF (with ReLU = x + x * sign(x)*/2)"
      ]
    },
    {
      "cell_type": "code",
      "execution_count": null,
      "metadata": {
        "id": "_KVAz_px_vKF"
      },
      "outputs": [],
      "source": [
        "class enc_conv_soft_poly(torch.nn.Module):\n",
        "    def __init__(self, in_features, alpha = None):\n",
        "        super(enc_conv_soft_poly,self).__init__()\n",
        "        self.in_features = in_features\n",
        "        self.alpha = alpha\n",
        "\n",
        "    def forward(self, x, context):\n",
        "        ar_al = ts.ckks_vector(context, torch.zeros(1, device = device))\n",
        "        f = open('t_conv.txt', 'r')\n",
        "        l = [line.strip() for line in f]\n",
        "        t = [float(item) for item in l]\n",
        "        for i in range(self.alpha + 1):\n",
        "            ar_al = ar_al + (x**i)*t[i]\n",
        "        return ar_al\n",
        "\n",
        "class enc_soft_poly(torch.nn.Module):\n",
        "    def __init__(self, in_features, alpha = None):\n",
        "        super(enc_soft_poly,self).__init__()\n",
        "        self.in_features = in_features\n",
        "        self.alpha = alpha\n",
        "\n",
        "    def forward(self, x, context):\n",
        "        ar_al = ts.ckks_vector(context,torch.zeros(1, device=device))\n",
        "        f = open('t_f1.txt', 'r')\n",
        "        l = [line.strip() for line in f]\n",
        "        t = [float(item) for item in l]\n",
        "        for i in range(self.alpha + 1):\n",
        "            temp = (x**i) * t[i]\n",
        "            ar_al = ar_al + temp\n",
        "        return ar_al\n",
        "\n",
        "class EncConvNet:\n",
        "    def __init__(self, torch_nn):\n",
        "        self.conv1_weight = torch_nn.conv1.weight.data.view(\n",
        "            torch_nn.conv1.out_channels, torch_nn.conv1.kernel_size[0],\n",
        "            torch_nn.conv1.kernel_size[1]\n",
        "        ).tolist()\n",
        "        self.conv1_bias = torch_nn.conv1.bias.data.tolist()\n",
        "\n",
        "        self.fcnew_weight = torch_nn.fcnew.weight.T.data.tolist()\n",
        "        self.fcnew_bias = torch_nn.fcnew.bias.data.tolist()\n",
        "        self.fc2_weight = torch_nn.fc2.weight.T.data.tolist()\n",
        "        self.fc2_bias = torch_nn.fc2.bias.data.tolist()\n",
        "        self.slu = enc_soft_poly(100, alpha=3)\n",
        "        self.cslu = enc_conv_soft_poly(10, alpha=3)\n",
        "        self.dos_plaintext = [0.5] * 3380 #2880 (w/o padding) and 3380 (standard)\n",
        "        self.dos_plaintext_ = [0.5] * 100\n",
        "\n",
        "    def forward(self, enc_x, windows_nb, context):\n",
        "        # conv layer\n",
        "        enc_channels = []\n",
        "        for kernel, bias in zip(self.conv1_weight, self.conv1_bias):\n",
        "            y = enc_x.conv2d_im2col(kernel, windows_nb) + bias\n",
        "            enc_channels.append(y)\n",
        "        # pack all channels into a single flattened vector\n",
        "        enc_x = ts.CKKSVector.pack_vectors(enc_channels)\n",
        "        enc_x = (enc_x + enc_x * self.cslu(enc_x, context)) * self.dos_plaintext\n",
        "        # fcnew layer\n",
        "        enc_x = enc_x.mm(self.fcnew_weight) + self.fcnew_bias\n",
        "        #sign and ReLU equivalence\n",
        "        enc_x = (enc_x + enc_x * self.slu(enc_x,  context)) * self.dos_plaintext_\n",
        "        # fc2 layer\n",
        "        enc_x = enc_x.mm(self.fc2_weight) + self.fc2_bias\n",
        "        return enc_x\n",
        "\n",
        "    def __call__(self, *args, **kwargs):\n",
        "        return self.forward(*args, **kwargs)\n",
        "\n",
        "def enc_test(context, model, test_loader, criterion, kernel_shape, stride, prog):\n",
        "    test_loss = 0.0\n",
        "    class_correct = list(0. for i in range(10))\n",
        "    class_total = list(0. for i in range(10))\n",
        "    j = 0\n",
        "    n_n = [0] * 10000\n",
        "    n_n_d = [0] * 10000\n",
        "    for data, target in test_loader:\n",
        "        j = j + 1\n",
        "        start_time = time()\n",
        "        # Encoding and encryption\n",
        "        dat = F.pad(data, (1, 1, 1, 1))\n",
        "        x_enc, windows_nb = ts.im2col_encoding(\n",
        "            context, dat.view(30, 30).tolist(), kernel_shape[0],\n",
        "            kernel_shape[1], stride\n",
        "        )\n",
        "        # Encrypted evaluation\n",
        "        start_time = time()\n",
        "        enc_output = enc_model(x_enc, windows_nb, context)\n",
        "        n_n[j-1] = (time() - start_time)\n",
        "        print(\"only one test time: \",\"--- %s seconds ---\" % (time() - start_time))\n",
        "        # Decryption of result\n",
        "        output = enc_output.decrypt()\n",
        "        output = torch.tensor(output).view(1, -1)\n",
        "        n_n_d[j-1] = (time() - start_time)\n",
        "        # compute loss\n",
        "        loss = criterion(output, target)\n",
        "        test_loss += loss.item()\n",
        "        _, pred = torch.max(output, 1)\n",
        "        # compare predictions to true label\n",
        "        correct = np.squeeze(pred.eq(target.data.view_as(pred)))\n",
        "        # calculate test accuracy for each object class\n",
        "        label = target.data[0]\n",
        "        class_correct[label] += correct.item()\n",
        "        class_total[label] += 1\n",
        "\n",
        "    for i in range (0, j-2):\n",
        "        prog.write(str(\"test without decrypt №\") + str(i) + str(\" time: : \") + str(n_n[i]) + str('\\n'))\n",
        "    for i in range (0, j-2):\n",
        "        prog.write(str(\"test with decrypt №\") + str(i) + str(\" time: : \") + str(n_n_d[i]) + str('\\n'))\n",
        "\n",
        "    # calculate and print avg test loss\n",
        "    test_loss = test_loss / sum(class_total)\n",
        "    print(f'Test Loss: {test_loss:.6f}\\n')\n",
        "\n",
        "    for label in range(10):\n",
        "        print(\n",
        "            f'Test Accuracy of {label}: {int(100 * class_correct[label] / class_total[label])}% '\n",
        "            f'({int(np.sum(class_correct[label]))}/{int(np.sum(class_total[label]))})'\n",
        "        )\n",
        "        prog.write(str( f'Test Accuracy of {label}: {int(100 * class_correct[label] / class_total[label])}% ') + str(f'({int(np.sum(class_correct[label]))}/{int(np.sum(class_total[label]))})'))\n",
        "\n",
        "    print(\n",
        "        f'\\nTest Accuracy (Overall): {int(100 * np.sum(class_correct) / np.sum(class_total))}% '\n",
        "        f'({int(np.sum(class_correct))}/{int(np.sum(class_total))})'\n",
        "    )\n",
        "    prog.write(str( f'\\nTest Accuracy (Overall): {int(100 * np.sum(class_correct) / np.sum(class_total))}% ') + str(f'({int(np.sum(class_correct))}/{int(np.sum(class_total))})'))\n",
        "\n",
        "# Load one element at a time\n",
        "test_loader = torch.utils.data.DataLoader(test_data, batch_size=1, shuffle=True)\n",
        "# required for encoding\n",
        "kernel_shape = net.conv1.kernel_size\n",
        "stride = net.conv1.stride[0]"
      ]
    },
    {
      "cell_type": "code",
      "execution_count": null,
      "metadata": {
        "id": "4pTI_cOS_vSV"
      },
      "outputs": [],
      "source": [
        "# Encryption Parameters\n",
        "bits_scale = 25\n",
        "\n",
        "# Create TenSEAL context\n",
        "context = ts.context(\n",
        "    ts.SCHEME_TYPE.CKKS,\n",
        "    poly_modulus_degree=16384,\n",
        "        coeff_mod_bit_sizes=[40,bits_scale,bits_scale, bits_scale, bits_scale, bits_scale, bits_scale, bits_scale, bits_scale, bits_scale, bits_scale, bits_scale, bits_scale, bits_scale, bits_scale, 40]\n",
        ")\n",
        "\n",
        "# set the scale\n",
        "context.global_scale = pow(2, bits_scale)\n",
        "\n",
        "# galois keys are required to do ciphertext rotations\n",
        "context.generate_galois_keys()"
      ]
    },
    {
      "cell_type": "code",
      "execution_count": null,
      "metadata": {
        "colab": {
          "background_save": true
        },
        "id": "_FmFvX9D_vYd"
      },
      "outputs": [],
      "source": [
        "enc_model = EncConvNet(net)\n",
        "\n",
        "prog = open('tests.txt', 'w', encoding='utf-8')\n",
        "start_time = time()\n",
        "enc_test(context, enc_model, test_loader, criterion, kernel_shape, stride, prog)\n",
        "print(\"full time process: \",\"--- %s seconds ---\" % (time() - start_time))\n",
        "prog.write(str(\"full time process: \") + str((time() - start_time)))\n",
        "prog.close()"
      ]
    }
  ],
  "metadata": {
    "accelerator": "TPU",
    "colab": {
      "machine_shape": "hm",
      "provenance": [],
      "gpuClass": "premium"
    },
    "gpuClass": "premium",
    "kernelspec": {
      "display_name": "Python 3",
      "name": "python3"
    },
    "language_info": {
      "name": "python"
    }
  },
  "nbformat": 4,
  "nbformat_minor": 0
}