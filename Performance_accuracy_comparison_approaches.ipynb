{
  "nbformat": 4,
  "nbformat_minor": 0,
  "metadata": {
    "colab": {
      "provenance": []
    },
    "kernelspec": {
      "name": "python3",
      "display_name": "Python 3"
    },
    "language_info": {
      "name": "python"
    }
  },
  "cells": [
    {
      "cell_type": "code",
      "metadata": {
        "colab": {
          "base_uri": "https://localhost:8080/"
        },
        "id": "D4UZ1TGvqDnf",
        "outputId": "04d69ef7-670d-4e62-eff3-9d9ef248d0b1"
      },
      "source": [
        "pip install tenseal"
      ],
      "execution_count": null,
      "outputs": [
        {
          "output_type": "stream",
          "text": [
            "Collecting tenseal\n",
            "\u001b[?25l  Downloading https://files.pythonhosted.org/packages/88/2c/af53768083d6395f92f831f10b43fae9e3818bb838478d909bb065c3b6c2/tenseal-0.3.4-cp37-cp37m-manylinux_2_17_x86_64.manylinux2014_x86_64.whl (4.8MB)\n",
            "\u001b[K     |████████████████████████████████| 4.9MB 7.7MB/s \n",
            "\u001b[?25hInstalling collected packages: tenseal\n",
            "Successfully installed tenseal-0.3.4\n"
          ],
          "name": "stdout"
        }
      ]
    },
    {
      "cell_type": "code",
      "metadata": {
        "id": "B6RK2sROqOoj"
      },
      "source": [
        "import tenseal as ts\n",
        "from time import time\n",
        "import torch\n",
        "from torchvision import transforms\n",
        "from random import randint\n",
        "import pickle\n",
        "from PIL import Image\n",
        "import numpy as np\n",
        "from matplotlib.pyplot import imshow\n",
        "import matplotlib.pyplot as plt\n",
        "from typing import Dict\n",
        "from numpy import linalg as LA\n",
        "from scipy.stats import chisquare"
      ],
      "execution_count": null,
      "outputs": []
    },
    {
      "cell_type": "markdown",
      "metadata": {
        "id": "NoIZHCr9qSES"
      },
      "source": [
        "#  CKKS Homomorphic scheme\n",
        "\n",
        "\n"
      ]
    },
    {
      "cell_type": "code",
      "metadata": {
        "colab": {
          "base_uri": "https://localhost:8080/"
        },
        "id": "R62QQqODqP9_",
        "outputId": "1ffcd424-8494-4a46-8ca6-54af1fc3bd9c"
      },
      "source": [
        "poly_mod_degree = 8192\n",
        "\n",
        "bits_scale = 26\n",
        "coeff_mod_bit_sizes = [31, bits_scale, bits_scale, bits_scale, bits_scale, bits_scale, bits_scale, 31]\n",
        "\n",
        "ctx = ts.context(ts.SCHEME_TYPE.CKKS, poly_mod_degree, -1, coeff_mod_bit_sizes)\n",
        "ctx.global_scale = 2 ** bits_scale\n",
        "ctx.generate_galois_keys()\n",
        "\n",
        "plain1 = ts.plain_tensor([1])\n",
        "plain2 = ts.plain_tensor([0.5])\n",
        "\n",
        "encrypted_tensor1 = ts.ckks_tensor(ctx, plain1)\n",
        "encrypted_tensor2 = ts.ckks_tensor(ctx, plain2)\n",
        "\n",
        "def decrypt(enc):\n",
        "    return enc.decrypt().tolist()\n",
        "\n",
        "result = encrypted_tensor1 - encrypted_tensor2\n",
        "print(\"Plain equivalent: {} + {}\\nDecrypted result: {}.\".format(plain1.tolist(), plain2.tolist(), decrypt(result)))\n",
        "\n",
        "result = encrypted_tensor1 * encrypted_tensor2\n",
        "print(\"Plain equivalent: {} * {}\\nDecrypted result: {}.\".format(plain1.tolist(), plain2.tolist(), decrypt(result)))"
      ],
      "execution_count": null,
      "outputs": [
        {
          "output_type": "stream",
          "text": [
            "Plain equivalent: [1.0] + [0.5]\n",
            "Decrypted result: [0.4999810791095811].\n",
            "Plain equivalent: [1.0] * [0.5]\n",
            "Decrypted result: [0.500443673583825].\n"
          ],
          "name": "stdout"
        }
      ]
    },
    {
      "cell_type": "markdown",
      "metadata": {
        "id": "AEx_vex5sinC"
      },
      "source": [
        "#  Comparison function"
      ]
    },
    {
      "cell_type": "code",
      "metadata": {
        "id": "9mj9FX9Yrw_F"
      },
      "source": [
        "def sign(x):\n",
        "  if x > 0:\n",
        "    return 1\n",
        "  elif x < 0:\n",
        "    return -1\n",
        "  else:\n",
        "    return 0\n",
        "\n",
        "def comparison(enc_x):\n",
        "    return enc_x.polyval([0.5, 0.197, 0, -0.004])\n",
        "\n",
        "#Variables\n",
        "x = np.linspace(-1,1,1000)\n",
        "y_mil = np.sign(x)"
      ],
      "execution_count": null,
      "outputs": []
    },
    {
      "cell_type": "markdown",
      "metadata": {
        "id": "67YEKAOr15oJ"
      },
      "source": [
        "#  Least squares"
      ]
    },
    {
      "cell_type": "code",
      "metadata": {
        "colab": {
          "base_uri": "https://localhost:8080/",
          "height": 659
        },
        "id": "tnk265Qjx6mI",
        "outputId": "c1e12d7a-55ca-4122-975d-e7e3f8fbccac"
      },
      "source": [
        "print(\"Least squares\")\n",
        "fig = plt.figure()\n",
        "ax = fig.add_subplot(111)\n",
        "ax.plot(x, y_mil)\n",
        "\n",
        "t_end = 0\n",
        "t_start = 0\n",
        "suma_temp = 0\n",
        "for teh in range(30):\n",
        "  t_start = time()\n",
        "  p = np.polyfit(x, y_mil, 9)\n",
        "  t_end = time()\n",
        "  suma_temp = suma_temp + ((t_end - t_start)*1000)\n",
        "\n",
        "print(\"Polynomial generation (Average of 30 executions): {} ms\".format(suma_temp/30))\n",
        "print(\"Polynomial generation (only the last one): {} ms\".format((t_end - t_start) * 1000))\n",
        "\n",
        "ax = fig.add_subplot(111)\n",
        "poly = [np.polyval(p, i) for i in x]\n",
        "\n",
        "ax.plot(x, poly)\n",
        "\n",
        "p_test = np.poly1d(p)\n",
        "print(p_test)\n",
        "\n",
        "# Evaluation of the sign function over ciphertexts\n",
        "resta = encrypted_tensor1 - encrypted_tensor2\n",
        "\n",
        "suma_temp = 0\n",
        "t_end = 0\n",
        "t_start = 0\n",
        "\n",
        "for teh in range(30):\n",
        "  t_start = time()\n",
        "  evaluacion = resta.polyval(p_test)\n",
        "  t_end = time()\n",
        "  suma_temp = suma_temp + ((t_end - t_start)*1000)\n",
        "\n",
        "print(\"Polynomial evaluation (Average of 30 executions): {} ms\".format(suma_temp/30))\n",
        "print(\"Polynomial evaluation (only the last one): {} ms\".format((t_end - t_start) * 1000))\n",
        "\n",
        "print(decrypt(resta))\n",
        "print(decrypt(evaluacion))\n",
        "plt.show()\n",
        "\n",
        "## R Square measure\n",
        "correlation_matrix = np.corrcoef(y_mil, poly)\n",
        "correlation_xy = correlation_matrix[0,1]\n",
        "r_squared = correlation_xy**2\n",
        "print(\"r_squared: {}\".format(r_squared))\n",
        "\n",
        "## Chi Square measure\n",
        "chi = chisquare(poly, f_exp=y_mil)\n",
        "print(\"Chi_squared: {}\".format(chi[0]))\n",
        "print(\" \")\n",
        "\n",
        "## Norms\n",
        "vector = y_mil - poly\n",
        "k=0\n",
        "for jj in vector:\n",
        "  if jj < 0:\n",
        "    vector[k]=vector[k]*-1\n",
        "  k=k+1\n",
        "\n",
        "print(\"1- norm: {}\".format(LA.norm(vector, 1)))\n",
        "print(\"2- norm: {}\".format(LA.norm(vector, 2)))\n",
        "print(\"Infinity- norm: {}\".format(LA.norm(vector, np.inf)))\n",
        "print(\" \")\n",
        "##Relative norms\n",
        "relative_one = LA.norm(vector, 1)/LA.norm(y_mil, 1)\n",
        "print(\"1- norm: {}\".format(relative_one*100))\n",
        "relative_two = LA.norm(vector, 2)/LA.norm(y_mil, 2)\n",
        "print(\"2- norm: {}\".format(relative_two*100))\n",
        "relative_inf = LA.norm(vector, np.inf)/LA.norm(y_mil, np.inf)\n",
        "print(\"Infinity- norm: {}\".format(relative_inf*100))"
      ],
      "execution_count": null,
      "outputs": [
        {
          "output_type": "stream",
          "text": [
            "Least squares\n",
            "Polynomial generation (Average of 30 executions): 0.6136863377888998 ms\n",
            "Polynomial generation (only the last one): 0.5476474761962891 ms\n",
            "      9             8         7             6         5             4\n",
            "48.9 x - 2.279e-13 x - 119.4 x + 4.021e-13 x + 103.4 x - 1.745e-13 x\n",
            "          3             2\n",
            " - 38.38 x + 1.307e-14 x + 6.655 x - 4.185e-15\n"
          ],
          "name": "stdout"
        },
        {
          "output_type": "stream",
          "text": [
            "Polynomial evaluation (Average of 30 executions): 143.281699385325113 ms\n",
            "Polynomial evaluation (only the last one): 141.79251670837402 ms\n",
            "[0.4999810791095811]\n",
            "[0.8287252778574966]\n"
          ],
          "name": "stdout"
        },
        {
          "output_type": "display_data",
          "data": {
            "image/png": "[encoded data removed]",
            "text/plain": [
              "<Figure size 432x288 with 1 Axes>"
            ]
          },
          "metadata": {
            "tags": [],
            "needs_background": "light"
          }
        },
        {
          "output_type": "stream",
          "text": [
            "r_squared: 0.9394411972182366\n",
            "Chi_squared: 5.222489107836736e-13\n",
            " \n",
            "1- norm: 152.20077071671022\n",
            "2- norm: 7.781953660987998\n",
            "Infinity- norm: 0.9933380431437319\n",
            " \n",
            "1- norm: 15.220077071671023\n",
            "2- norm: 24.60869821460788\n",
            "Infinity- norm: 99.33380431437318\n"
          ],
          "name": "stdout"
        }
      ]
    },
    {
      "cell_type": "markdown",
      "metadata": {
        "id": "HmIweZpe5HAT"
      },
      "source": [
        "# Composition\n"
      ]
    },
    {
      "cell_type": "code",
      "metadata": {
        "id": "Rdo3n7NWx66l",
        "colab": {
          "base_uri": "https://localhost:8080/",
          "height": 642
        },
        "outputId": "4be6f268-1e50-421d-90fd-3ff039d8309f"
      },
      "source": [
        "print(\"Polynomial composition\")\n",
        "\n",
        "f = np.poly1d([(-1/2), 0, (3/2),0])\n",
        "g = np.poly1d([(-1359/1024), 0, (2126/1024),0])\n",
        "\n",
        "t_end = 0\n",
        "t_start = 0\n",
        "suma_temp = 0\n",
        "for teh in range(30):\n",
        "  t_start = time()\n",
        "  compositon = f(g)\n",
        "  t_end = time()\n",
        "  suma_temp = suma_temp + ((t_end - t_start)*1000)\n",
        "\n",
        "print(\"Polynomial generation (Average of 30 executions): {} ms\".format(suma_temp/30))\n",
        "print(\"Polynomial generation (only the last one): {} ms\".format((t_end - t_start) * 1000))\n",
        "print(\" \")\n",
        "\n",
        "p_test_composition = np.poly1d(compositon)\n",
        "\n",
        "# Evaluation of the sign function over ciphertexts (using composite polynomials)\n",
        "resta = encrypted_tensor1 - encrypted_tensor2\n",
        "\n",
        "suma_temp = 0\n",
        "t_end = 0\n",
        "t_start = 0\n",
        "for teh in range(30):\n",
        "  t_start = time()\n",
        "  evaluacion = resta.polyval(p_test_composition)\n",
        "  t_end = time()\n",
        "  suma_temp = suma_temp + ((t_end - t_start)*1000)\n",
        "\n",
        "print(\"Polynomial evaluation (Average of 30 executions): {} ms\".format(suma_temp/30))\n",
        "print(\"Polynomial evaluation (only the last one): {} ms\".format((t_end - t_start) * 1000))\n",
        "\n",
        "print(decrypt(resta))\n",
        "print(decrypt(evaluacion))\n",
        "print(p_test_composition)\n",
        "\n",
        "fig = plt.figure()\n",
        "ax = fig.add_subplot(111)\n",
        "ax.plot(x, y_mil)\n",
        "\n",
        "ax = fig.add_subplot(111)\n",
        "poly = [np.polyval(p_test_composition, i) for i in x]\n",
        "\n",
        "ax.plot(x, poly)\n",
        "\n",
        "## R Square measure\n",
        "correlation_matrix = np.corrcoef(np.sign(x), poly)\n",
        "correlation_xy = correlation_matrix[0,1]\n",
        "r_squared = correlation_xy**2\n",
        "print(\"r_squared: {}\".format(r_squared))\n",
        "\n",
        "## Chi Square measure\n",
        "chi = chisquare(poly, f_exp=y_mil)\n",
        "print(\"Chi_squared: {}\".format(chi[0]))\n",
        "print(\" \")\n",
        "\n",
        "## Norms\n",
        "vector = y_mil - poly\n",
        "k=0\n",
        "for jj in vector:\n",
        "  if jj < 0:\n",
        "    vector[k]=vector[k]*-1\n",
        "  k=k+1\n",
        "\n",
        "print(\"1- norm: {}\".format(LA.norm(vector, 1)))\n",
        "print(\"2- norm: {}\".format(LA.norm(vector, 2)))\n",
        "print(\"Infinity- norm: {}\".format(LA.norm(vector, np.inf)))\n",
        "\n",
        "print(\" \")\n",
        "\n",
        "relative_one = LA.norm(vector, 1)/LA.norm(y_mil, 1)\n",
        "print(\"1- norm: {}\".format(relative_one*100))\n",
        "relative_two = LA.norm(vector, 2)/LA.norm(y_mil, 2)\n",
        "print(\"2- norm: {}\".format(relative_two*100))\n",
        "relative_inf = LA.norm(vector, np.inf)/LA.norm(y_mil, np.inf)\n",
        "print(\"Infinity- norm: {}\".format(relative_inf*100))"
      ],
      "execution_count": null,
      "outputs": [
        {
          "output_type": "stream",
          "text": [
            "Polynomial composition\n",
            "Polynomial generation (Average of 30 executions): 0.4245846684773763 ms\n",
            "Polynomial generation (only the last one): 0.3262592315673828 ms\n",
            " \n",
            "Polynomial evaluation (Average of 30 executions): 99.02146154785156 ms\n",
            "Polynomial evaluation (only the last one): 92.65327453613281 ms\n",
            "[0.4999810791095811]\n",
            "[0.9742105393537006]\n",
            "       9         7         5         3\n",
            "1.169 x - 5.485 x + 8.581 x - 6.465 x + 3.114 x\n",
            "r_squared: 0.8919168937206027\n",
            "Chi_squared: 1.4210854715202004e-14\n",
            " \n",
            "1- norm: 197.7150586772188\n",
            "2- norm: 10.820838467601657\n",
            "Infinity- norm: 0.9968826312971201\n",
            " \n",
            "1- norm: 19.771505867721878\n",
            "2- norm: 34.21849575038736\n",
            "Infinity- norm: 99.68826312971201\n"
          ],
          "name": "stdout"
        },
        {
          "output_type": "display_data",
          "data": {
            "image/png": "[encoded data removed]",
            "text/plain": [
              "<Figure size 432x288 with 1 Axes>"
            ]
          },
          "metadata": {
            "tags": [],
            "needs_background": "light"
          }
        }
      ]
    },
    {
      "cell_type": "markdown",
      "metadata": {
        "id": "Xcqp99IT446L"
      },
      "source": [
        "# Newton-Raphson"
      ]
    },
    {
      "cell_type": "code",
      "metadata": {
        "colab": {
          "base_uri": "https://localhost:8080/",
          "height": 608
        },
        "id": "517tXhEMwsjq",
        "outputId": "ada2759b-d7bd-4b8f-d2e4-158e151d3c0b"
      },
      "source": [
        "print(\"Newton-Raphson\")\n",
        "ff = np.poly1d([(-1/2), 0, (3/2),0])\n",
        "\n",
        "suma_temp = 0\n",
        "t_end = 0\n",
        "t_start = 0\n",
        "for teh in range(30):\n",
        "  t_start = time()\n",
        "  f_newton = ff(ff)\n",
        "  t_end = time()\n",
        "  suma_temp = suma_temp + ((t_end - t_start)*1000)\n",
        "\n",
        "print(\"Polynomial generation (Average of 30 executions): {} ms\".format(suma_temp/30))\n",
        "print(\"Polynomial generation (only the last one): {} ms\".format((t_end - t_start) * 1000))\n",
        "print(\" \")\n",
        "\n",
        "# Evaluation of the sign function over ciphertexts (using Newton-Raphson polynomial)\n",
        "resta_newton = encrypted_tensor1 - encrypted_tensor2\n",
        "\n",
        "suma_temp = 0\n",
        "t_end = 0\n",
        "t_start = 0\n",
        "for teh in range(30):\n",
        "  t_start = time()\n",
        "  evaluacion_newton = resta_newton.polyval(f_newton)\n",
        "  t_end = time()\n",
        "  suma_temp = suma_temp + ((t_end - t_start)*1000)\n",
        "\n",
        "print(\"Polynomial evaluation (Average of 30 executions): {} ms\".format(suma_temp/30))\n",
        "print(\"Polynomial evaluation (only the last one): {} ms\".format((t_end - t_start) * 1000))\n",
        "\n",
        "print(decrypt(resta_newton))\n",
        "print(decrypt(evaluacion_newton))\n",
        "print(f_newton)\n",
        "\n",
        "fig = plt.figure()\n",
        "ax = fig.add_subplot(111)\n",
        "ax.plot(x, y_mil)\n",
        "\n",
        "ax = fig.add_subplot(111)\n",
        "poly_newton = [np.polyval(f_newton, i) for i in x]\n",
        "\n",
        "ax.plot(x, poly_newton)\n",
        "\n",
        "## R Square measure\n",
        "correlation_matrix = np.corrcoef(np.sign(x), poly_newton)\n",
        "correlation_xy = correlation_matrix[0,1]\n",
        "r_squared = correlation_xy**2\n",
        "print(\"r_squared: {}\".format(r_squared))\n",
        "\n",
        "## Norms\n",
        "vector = y_mil - poly_newton\n",
        "\n",
        "k=0\n",
        "for jj in vector:\n",
        "  if jj < 0:\n",
        "    vector[k]=vector[k]*-1\n",
        "  k=k+1\n",
        "print(\"1- norm: {}\".format(LA.norm(vector, 1)))\n",
        "print(\"2- norm: {}\".format(LA.norm(vector, 2)))\n",
        "print(\"Infinity- norm: {}\".format(LA.norm(vector, np.inf)))\n",
        "\n",
        "##Relative norms\n",
        "print(\"Percents: \")\n",
        "relative_one = LA.norm(vector, 1)/LA.norm(y_mil, 1)\n",
        "print(\"1- norm: {}\".format(relative_one*100))\n",
        "relative_two = LA.norm(vector, 2)/LA.norm(y_mil, 2)\n",
        "print(\"2- norm: {}\".format(relative_two*100))\n",
        "relative_inf = LA.norm(vector, np.inf)/LA.norm(y_mil, np.inf)\n",
        "print(\"Infinity- norm: {}\".format(relative_inf*100))"
      ],
      "execution_count": null,
      "outputs": [
        {
          "output_type": "stream",
          "text": [
            "Newton-Raphson\n",
            "Polynomial generation (Average of 30 executions): 0.38408167521158853 ms\n",
            "Polynomial generation (only the last one): 0.3415180206298828 ms\n",
            " \n",
            "Polynomial evaluation (Average of 30 executions): 98.91054871877034 ms\n",
            "Polynomial evaluation (only the last one): 94.20576286315918 ms\n",
            "[0.4999810791095811]\n",
            "[0.8689615013970732]\n",
            "        9          7         5         3\n",
            "0.0625 x - 0.5625 x + 1.688 x - 2.438 x + 2.25 x\n",
            "r_squared: 0.8558868571811582\n",
            "1- norm: 266.9199371243394\n",
            "2- norm: 12.717470536481182\n",
            "Infinity- norm: 0.9977477501925732\n",
            "Percents: \n",
            "1- norm: 26.69199371243394\n",
            "2- norm: 40.21617297136402\n",
            "Infinity- norm: 99.77477501925732\n"
          ],
          "name": "stdout"
        },
        {
          "output_type": "display_data",
          "data": {
            "image/png": "[encoded data removed]",
            "text/plain": [
              "<Figure size 432x288 with 1 Axes>"
            ]
          },
          "metadata": {
            "tags": [],
            "needs_background": "light"
          }
        }
      ]
    },
    {
      "cell_type": "markdown",
      "metadata": {
        "id": "tEjpgH0YGOhP"
      },
      "source": [
        "# Chebyshev interpolation\n",
        "NOTES:\n",
        "\n",
        "*   The Chebyshev coefficients were calculated on Matlab based on http://www.chebfun.org/docs/guide/guide04.html\n",
        "\n",
        "*   Once the x,y points and Chebyshev coefficients were generated, we measure the quality of the approximation."
      ]
    },
    {
      "cell_type": "code",
      "metadata": {
        "colab": {
          "base_uri": "https://localhost:8080/",
          "height": 574
        },
        "id": "6KgjiDH4HD-m",
        "outputId": "901dbd0c-248a-4e2d-e6fb-0c8ec2d585c5"
      },
      "source": [
        "print(\"Chebyshev\")\n",
        "from numpy.polynomial import Chebyshev\n",
        "import pandas as pd\n",
        "\n",
        "# We obtained the Chebyshev coefficients from Matlab\n",
        "coefficients_chebyshev = [0, 1.2797, 0, -0.4444, 0, 0.2901 ,0, -0.2365, 0, 0.1111]\n",
        "\n",
        "t_start = time()\n",
        "get_new_serie = Chebyshev(coefficients_chebyshev)\n",
        "t_end = time()\n",
        "print(\"Polynomial generation (true value comes from Matlab): {} ms\".format((t_end - t_start) * 1000))\n",
        "\n",
        "#y points from chebyshev serie generated based on the coefficients (for measures)\n",
        "y_data_chebyshev = get_new_serie(x)\n",
        "\n",
        "fig = plt.figure()\n",
        "ax = fig.add_subplot(111)\n",
        "ax.plot(x, y_mil)\n",
        "\n",
        "ax = fig.add_subplot(111)\n",
        "ax.plot(x, y_data_chebyshev)\n",
        "\n",
        "# Evaluation of the sign function over ciphertexts (using Chebyshev polynomials)\n",
        "resta = encrypted_tensor1 - encrypted_tensor2\n",
        "\n",
        "suma_temp = 0\n",
        "t_end = 0\n",
        "t_start = 0\n",
        "for teh in range(30):\n",
        "  t_start = time()\n",
        "  evaluacion = resta.polyval(coefficients_chebyshev)\n",
        "  t_end = time()\n",
        "  suma_temp = suma_temp + ((t_end - t_start)*1000)\n",
        "\n",
        "print(\"Polynomial evaluation (Average of 30 executions): {} ms\".format(suma_temp/30))\n",
        "print(\"Polynomial evaluation (last one): {} ms\".format((t_end - t_start) * 1000))\n",
        "\n",
        "print(decrypt(resta))\n",
        "print(decrypt(evaluacion))\n",
        "print(get_new_serie)\n",
        "\n",
        "## R Square measure\n",
        "correlation_matrix = np.corrcoef(np.sign(x), y_data_chebyshev)\n",
        "correlation_xy = correlation_matrix[0,1]\n",
        "r_squared = correlation_xy**2\n",
        "print(\"r_squared: {}\".format(r_squared))\n",
        "\n",
        "## Norms\n",
        "vector = y_mil - y_data_chebyshev\n",
        "k=0\n",
        "for jj in vector:\n",
        "  if jj < 0:\n",
        "    vector[k]=vector[k]*-1\n",
        "  k=k+1\n",
        "print(\"1- norm: {}\".format(LA.norm(vector, 1)))\n",
        "print(\"2- norm: {}\".format(LA.norm(vector, 2)))\n",
        "print(\"Infinity- norm: {}\".format(LA.norm(vector, np.inf)))\n",
        "\n",
        "##Relative norms\n",
        "print(\"Percents: \")\n",
        "relative_one = LA.norm(vector, 1)/LA.norm(y_mil, 1)\n",
        "print(\"1- norm: {}\".format(relative_one*100))\n",
        "relative_two = LA.norm(vector, 2)/LA.norm(y_mil, 2)\n",
        "print(\"2- norm: {}\".format(relative_two*100))\n",
        "relative_inf = LA.norm(vector, np.inf)/LA.norm(y_mil, np.inf)\n",
        "print(\"Infinity- norm: {}\".format(relative_inf*100))"
      ],
      "execution_count": null,
      "outputs": [
        {
          "output_type": "stream",
          "text": [
            "Chebyshev\n",
            "Polynomial generation (true value comes from Matlab): 0.56327598571777344 ms\n"
          ],
          "name": "stdout"
        },
        {
          "output_type": "stream",
          "text": [
            "Polynomial evaluation (Average of 30 executions): 121.6543912378947 ms\n",
            "Polynomial evaluation (last one): 120.98074913024902 ms\n",
            "[0.4999810791095811]\n",
            "[0.5922273466846916]\n",
            "cheb([ 0.      1.2797  0.     -0.4444  0.      0.2901  0.     -0.2365  0.\n",
            "  0.1111])\n",
            "r_squared: 0.9347409510547435\n",
            "1- norm: 165.25782235624996\n",
            "2- norm: 8.12372466278632\n",
            "Infinity- norm: 0.9932745087326672\n",
            "Percents: \n",
            "1- norm: 16.525782235624998\n",
            "2- norm: 25.68947301848808\n",
            "Infinity- norm: 99.32745087326673\n"
          ],
          "name": "stdout"
        },
        {
          "output_type": "display_data",
          "data": {
            "image/png": "[encoded data removed]",
            "text/plain": [
              "<Figure size 432x288 with 1 Axes>"
            ]
          },
          "metadata": {
            "tags": [],
            "needs_background": "light"
          }
        }
      ]
    },
    {
      "cell_type": "markdown",
      "metadata": {
        "id": "HNThy1k_4xBJ"
      },
      "source": [
        "# Fourier sequence"
      ]
    },
    {
      "cell_type": "code",
      "metadata": {
        "colab": {
          "base_uri": "https://localhost:8080/"
        },
        "id": "0z-cCHLRPdMY",
        "outputId": "b6404d1c-373e-4c10-f44e-806623ee0dde"
      },
      "source": [
        "pip install symfit"
      ],
      "execution_count": null,
      "outputs": [
        {
          "output_type": "stream",
          "text": [
            "Collecting symfit\n",
            "\u001b[?25l  Downloading https://files.pythonhosted.org/packages/93/ad/7f96c32a700c2986517e721a206b804c4d9aace3509d9dfae7e25b34429c/symfit-0.5.3.tar.gz (942kB)\n",
            "\u001b[K     |████████████████████████████████| 952kB 8.6MB/s \n",
            "\u001b[?25hRequirement already satisfied: numpy>=1.12 in /usr/local/lib/python3.7/dist-packages (from symfit) (1.19.5)\n",
            "Requirement already satisfied: scipy>=1.0 in /usr/local/lib/python3.7/dist-packages (from symfit) (1.4.1)\n",
            "Requirement already satisfied: sympy>=1.2 in /usr/local/lib/python3.7/dist-packages (from symfit) (1.7.1)\n",
            "Collecting toposort\n",
            "  Downloading https://files.pythonhosted.org/packages/f2/7d/55784e894ee0cde2474fb977ffd1651e74e840a9f92e1d847f7e3115d5ec/toposort-1.6-py2.py3-none-any.whl\n",
            "Requirement already satisfied: six in /usr/local/lib/python3.7/dist-packages (from symfit) (1.15.0)\n",
            "Requirement already satisfied: mpmath>=0.19 in /usr/local/lib/python3.7/dist-packages (from sympy>=1.2->symfit) (1.2.1)\n",
            "Building wheels for collected packages: symfit\n",
            "  Building wheel for symfit (setup.py) ... \u001b[?25l\u001b[?25hdone\n",
            "  Created wheel for symfit: filename=symfit-0.5.3-py2.py3-none-any.whl size=75904 sha256=2abb8fd2b212eeced537f3558a99ab1afc43907f779faa35cf96ebfaf45c0353\n",
            "  Stored in directory: /root/.cache/pip/wheels/47/73/d6/757082d2344fd0cc9e755aae0c3b2749178cb40d7e7bdcaaa7\n",
            "Successfully built symfit\n",
            "Installing collected packages: toposort, symfit\n",
            "Successfully installed symfit-0.5.3 toposort-1.6\n"
          ],
          "name": "stdout"
        }
      ]
    },
    {
      "cell_type": "code",
      "metadata": {
        "colab": {
          "base_uri": "https://localhost:8080/",
          "height": 1000
        },
        "id": "pwR4fiyK4Dit",
        "outputId": "f8c1b3a7-54f9-496d-d67f-d4ba6a38a9a8"
      },
      "source": [
        "from symfit import parameters, variables, sin, cos, Fit\n",
        "\n",
        "def fourier_series(x, f, n=0):\n",
        "    \"\"\"\n",
        "    :param n: Order of the fourier series.\n",
        "    :param x: Independent variable\n",
        "    :param f: Frequency of the fourier series\n",
        "    \"\"\"\n",
        "\n",
        "    a0, *cos_a = parameters(','.join(['a{}'.format(i) for i in range(0, n + 1)]))\n",
        "    sin_b = parameters(','.join(['b{}'.format(i) for i in range(1, n + 1)]))\n",
        "\n",
        "    series = a0 + sum(ai * cos(i * f * x) + bi * sin(i * f * x)\n",
        "                     for i, (ai, bi) in enumerate(zip(cos_a, sin_b), start=1))\n",
        "    return series\n",
        "\n",
        "xdata = np.linspace(-1,1,1000)\n",
        "ydata = y_mil\n",
        "\n",
        "x, y = variables('x, y')\n",
        "w, = parameters('w')\n",
        "model_dict = {y: fourier_series(x, f=w, n=9)}\n",
        "\n",
        "suma_temp = 0\n",
        "t_end = 0\n",
        "t_start = 0\n",
        "for teh in range(30):\n",
        "  t_start = time()\n",
        "  fit = Fit(model_dict, x=xdata, y=ydata)\n",
        "  t_end = time()\n",
        "  suma_temp = suma_temp + ((t_end - t_start)*1000)\n",
        "\n",
        "print(\"Polynomial generation (Average of 30 executions): {} ms\".format(suma_temp/30))\n",
        "print(\"Polynomial generation (only the last one): {} ms\".format((t_end - t_start) * 1000))\n",
        "\n",
        "fit_result = fit.execute()\n",
        "\n",
        "print(model_dict)\n",
        "print(fit_result)\n",
        "\n",
        "plt.plot(xdata, ydata)\n",
        "plt.plot(xdata, fit.model(x=xdata, **fit_result.params).y, ls=':')\n",
        "plt.xlabel('x')\n",
        "plt.ylabel('y')\n",
        "plt.show()\n",
        "\n",
        "## Norms\n",
        "vector = ydata - fit.model(x=xdata, **fit_result.params).y\n",
        "\n",
        "k=0\n",
        "for jj in vector:\n",
        "  if jj < 0:\n",
        "    vector[k]=vector[k]*-1\n",
        "  k=k+1\n",
        "print(\"1- norm: {}\".format(LA.norm(vector, 1)))\n",
        "print(\"2- norm: {}\".format(LA.norm(vector, 2)))\n",
        "print(\"Infinity- norm: {}\".format(LA.norm(vector, np.inf)))\n",
        "\n",
        "##Relative norms\n",
        "print(\"Percents: \")\n",
        "relative_one = LA.norm(vector, 1)/LA.norm(y_mil, 1)\n",
        "print(\"1- norm: {}\".format(relative_one*100))\n",
        "relative_two = LA.norm(vector, 2)/LA.norm(y_mil, 2)\n",
        "print(\"2- norm: {}\".format(relative_two*100))\n",
        "relative_inf = LA.norm(vector, np.inf)/LA.norm(y_mil, np.inf)\n",
        "print(\"Infinity- norm: {}\".format(relative_inf*100))"
      ],
      "execution_count": null,
      "outputs": [
        {
          "output_type": "stream",
          "text": [
            "Polynomial generation (Average of 30 executions): 1.2657357660929363 ms\n",
            "Polynomial generation (only the last one): 2.450227737426758 ms\n",
            "{y: a0 + a1*cos(w*x) + a2*cos(2*w*x) + a3*cos(3*w*x) + a4*cos(4*w*x) + a5*cos(5*w*x) + a6*cos(6*w*x) + a7*cos(7*w*x) + a8*cos(8*w*x) + a9*cos(9*w*x) + b1*sin(w*x) + b2*sin(2*w*x) + b3*sin(3*w*x) + b4*sin(4*w*x) + b5*sin(5*w*x) + b6*sin(6*w*x) + b7*sin(7*w*x) + b8*sin(8*w*x) + b9*sin(9*w*x)}\n",
            "\n",
            "Parameter Value        Standard Deviation\n",
            "a0        2.272363e-11 5.565400e-03\n",
            "a1        -3.408473e-10 8.969899e-03\n",
            "a2        -2.915446e-10 8.898184e-03\n",
            "a3        2.399960e-10 8.782346e-03\n",
            "a4        1.288474e-09 8.627766e-03\n",
            "a5        -2.076136e-10 8.441686e-03\n",
            "a6        4.975296e-10 8.232883e-03\n",
            "a7        8.997028e-11 8.011244e-03\n",
            "a8        -8.498002e-10 7.787202e-03\n",
            "a9        -1.735728e-09 7.571057e-03\n",
            "b1        1.268359e+00 6.577004e-03\n",
            "b2        9.695796e-03 6.633145e-03\n",
            "b3        4.100476e-01 6.718367e-03\n",
            "b4        1.884366e-02 6.821731e-03\n",
            "b5        2.316042e-01 6.930746e-03\n",
            "b6        2.694398e-02 7.032961e-03\n",
            "b7        1.514350e-01 7.117764e-03\n",
            "b8        3.358868e-02 7.177014e-03\n",
            "b9        1.052164e-01 7.206204e-03\n",
            "w         2.940192e+00 1.500789e-02\n",
            "Status message         Desired error not necessarily achieved due to precision loss.\n",
            "Number of iterations   238\n",
            "Objective              <symfit.core.objectives.LeastSquares object at 0x7ff7b711f290>\n",
            "Minimizer              <symfit.core.minimizers.BFGS object at 0x7ff7b5d32fd0>\n",
            "\n",
            "Goodness of fit qualifiers:\n",
            "chi_squared            22.490512271654982\n",
            "objective_value        11.245256135827491\n",
            "r_squared              0.977509487728345\n"
          ],
          "name": "stdout"
        },
        {
          "output_type": "display_data",
          "data": {
            "image/png": "[encoded data removed]",
            "text/plain": [
              "<Figure size 432x288 with 1 Axes>"
            ]
          },
          "metadata": {
            "tags": [],
            "needs_background": "light"
          }
        },
        {
          "output_type": "stream",
          "text": [
            "Polynomial evaluation (Average of 30 executions): 132.91284138743083 ms\n",
            "Polynomial evaluation (only the last one): 131.70600891113281 ms\n",
            "[0.4999810791095811]\n",
            "[0.6987086223724257]\n",
            "1- norm: 72.64519228652559\n",
            "2- norm: 4.742416290421475\n",
            "Infinity- norm: 0.9817867783317931\n",
            "Percents: \n",
            "1- norm: 7.264519228652558\n",
            "2- norm: 14.996837090418428\n",
            "Infinity- norm: 98.17867783317931\n"
          ],
          "name": "stdout"
        }
      ]
    },
    {
      "cell_type": "code",
      "metadata": {
        "colab": {
          "base_uri": "https://localhost:8080/"
        },
        "id": "TC2FCwOj6dQp",
        "outputId": "54bf9a75-4a05-4cb0-8bf1-4194ceb09533"
      },
      "source": [
        "a=1\n",
        "b=0.5\n",
        "t_start = time()\n",
        "if a < b:\n",
        "  print(\"a menor a b\")\n",
        "t_end = time()\n",
        "print(\"Plaintext comparison: {} ms\".format((t_end - t_start) * 1000))"
      ],
      "execution_count": null,
      "outputs": [
        {
          "output_type": "stream",
          "text": [
            "Plaintext comparison: 0.03981590270996094 ms\n"
          ],
          "name": "stdout"
        }
      ]
    }
  ]
}
